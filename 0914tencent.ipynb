{
 "cells": [
  {
   "cell_type": "code",
   "execution_count": 1,
   "source": [
    "import requests"
   ],
   "outputs": [],
   "metadata": {}
  },
  {
   "cell_type": "code",
   "execution_count": 2,
   "source": [
    "HEADERS={\r\n",
    "    \"User-Agent\":'Mozilla/5.0 (Windows NT 10.0; Win64; x64; rv:90.0) Gecko/20100101 Firefox/90.0',\r\n",
    "}"
   ],
   "outputs": [],
   "metadata": {}
  },
  {
   "cell_type": "code",
   "execution_count": 3,
   "source": [
    "jData={\"projectId\":1,\"keyword\":\"\",\"bgList\":[],\"workCountryType\":1,\"workCityList\":[\"2\"],\"recruitCityList\":[],\"positionFidList\":[],\"pageIndex\":2,\"pageSize\":10}"
   ],
   "outputs": [],
   "metadata": {}
  },
  {
   "cell_type": "code",
   "execution_count": 4,
   "source": [
    "res=requests.post('https://join.qq.com/api/v1/position/searchPosition', headers=HEADERS, json=jData).json()"
   ],
   "outputs": [],
   "metadata": {}
  },
  {
   "cell_type": "code",
   "execution_count": 5,
   "source": [
    "res['data']['positionList'][0]"
   ],
   "outputs": [
    {
     "output_type": "execute_result",
     "data": {
      "text/plain": [
       "{'position': 114,\n",
       " 'positionTitle': '软件测试',\n",
       " 'positionFamily': 2,\n",
       " 'projectId': 1,\n",
       " 'bgs': 'CDG CSIG IEG TEG WXG S2 ',\n",
       " 'workCities': '广州 深圳总部 成都 北京 上海 '}"
      ]
     },
     "metadata": {},
     "execution_count": 5
    }
   ],
   "metadata": {}
  },
  {
   "cell_type": "code",
   "execution_count": 6,
   "source": [
    "jobIds=[]\r\n",
    "for pg in range(1, 6):\r\n",
    "    jData={\"projectId\":1,\"keyword\":\"\",\"bgList\":[],\"workCountryType\":1,\"workCityList\":[\"2\"],\"recruitCityList\":[],\"positionFidList\":[],\"pageIndex\":pg,\"pageSize\":10}\r\n",
    "    response=requests.post('https://join.qq.com/api/v1/position/searchPosition', headers=HEADERS, json=jData).json()\r\n",
    "    for job in response['data']['positionList']:\r\n",
    "        jobIds.append(job['position'])"
   ],
   "outputs": [],
   "metadata": {}
  },
  {
   "cell_type": "code",
   "execution_count": 7,
   "source": [
    "len(jobIds)"
   ],
   "outputs": [
    {
     "output_type": "execute_result",
     "data": {
      "text/plain": [
       "46"
      ]
     },
     "metadata": {},
     "execution_count": 7
    }
   ],
   "metadata": {}
  },
  {
   "cell_type": "code",
   "execution_count": 10,
   "source": [
    "jobs=[]\r\n",
    "for jobId in jobIds:\r\n",
    "    url=f'https://join.qq.com/api/v1/jobDetails/getJobDetailsByPidAndId?pid=1&id={jobId}'\r\n",
    "    response2=requests.get(url, headers=HEADERS).json()\r\n",
    "    jobs.append((jobId, response2['data']['desc']+response2['data']['request']))"
   ],
   "outputs": [],
   "metadata": {}
  },
  {
   "cell_type": "code",
   "execution_count": 12,
   "source": [
    "for jobId, jobDetail in jobs:\r\n",
    "    if '物理' in jobDetail:\r\n",
    "        jobUrl=f'https://join.qq.com/post_detail.html?pid=1&id={jobId}&tid=4'\r\n",
    "        print(jobUrl)"
   ],
   "outputs": [
    {
     "output_type": "stream",
     "name": "stdout",
     "text": [
      "https://join.qq.com/post_detail.html?pid=1&id=107&tid=4\n",
      "https://join.qq.com/post_detail.html?pid=1&id=176&tid=4\n",
      "https://join.qq.com/post_detail.html?pid=1&id=177&tid=4\n",
      "https://join.qq.com/post_detail.html?pid=1&id=178&tid=4\n",
      "https://join.qq.com/post_detail.html?pid=1&id=179&tid=4\n",
      "https://join.qq.com/post_detail.html?pid=1&id=180&tid=4\n",
      "https://join.qq.com/post_detail.html?pid=1&id=221&tid=4\n"
     ]
    }
   ],
   "metadata": {}
  },
  {
   "cell_type": "code",
   "execution_count": null,
   "source": [],
   "outputs": [],
   "metadata": {}
  }
 ],
 "metadata": {
  "orig_nbformat": 4,
  "language_info": {
   "name": "python",
   "version": "3.8.11",
   "mimetype": "text/x-python",
   "codemirror_mode": {
    "name": "ipython",
    "version": 3
   },
   "pygments_lexer": "ipython3",
   "nbconvert_exporter": "python",
   "file_extension": ".py"
  },
  "kernelspec": {
   "name": "python3",
   "display_name": "Python 3.8.11 64-bit ('base': conda)"
  },
  "interpreter": {
   "hash": "1d035ca4c615712529cad3b6e5fc713bfde17604927854c7aa1c8a6d2be7af56"
  }
 },
 "nbformat": 4,
 "nbformat_minor": 2
}