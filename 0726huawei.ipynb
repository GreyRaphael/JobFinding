{
 "metadata": {
  "language_info": {
   "codemirror_mode": {
    "name": "ipython",
    "version": 3
   },
   "file_extension": ".py",
   "mimetype": "text/x-python",
   "name": "python",
   "nbconvert_exporter": "python",
   "pygments_lexer": "ipython3",
   "version": "3.8.10"
  },
  "orig_nbformat": 4,
  "kernelspec": {
   "name": "python3",
   "display_name": "Python 3.8.10 64-bit ('base': conda)"
  },
  "interpreter": {
   "hash": "1d035ca4c615712529cad3b6e5fc713bfde17604927854c7aa1c8a6d2be7af56"
  }
 },
 "nbformat": 4,
 "nbformat_minor": 2,
 "cells": [
  {
   "cell_type": "code",
   "execution_count": 1,
   "source": [
    "import requests"
   ],
   "outputs": [],
   "metadata": {}
  },
  {
   "cell_type": "code",
   "execution_count": 2,
   "source": [
    "HEADERS={\r\n",
    "    \"User-Agent\":'Mozilla/5.0 (Windows NT 10.0; Win64; x64; rv:89.0) Gecko/20100101 Firefox/89.0',\r\n",
    "}"
   ],
   "outputs": [],
   "metadata": {}
  },
  {
   "cell_type": "code",
   "execution_count": 3,
   "source": [
    "response=requests.get('https://career.huawei.com/reccampportal/services/portal/portalpub/getJob/page/20/2?curPage=2&pageSize=20&jobType=2&jobFamClsCode=&searchText=&deptCode=&graduateItem=&deptCodes=&jobClass=&reqTime=1625714351667&jobTypes=&orderBy=ISS_STARTDATE_DESC_AND_IS_HOT_JOB', headers=HEADERS).json()"
   ],
   "outputs": [],
   "metadata": {}
  },
  {
   "cell_type": "code",
   "execution_count": 4,
   "source": [
    "response['result'][0]['jobId']"
   ],
   "outputs": [
    {
     "output_type": "execute_result",
     "data": {
      "text/plain": [
       "179533"
      ]
     },
     "metadata": {},
     "execution_count": 4
    }
   ],
   "metadata": {}
  },
  {
   "cell_type": "code",
   "execution_count": 5,
   "source": [
    "job_ids=[]\r\n",
    "for pg in range(1, 41):\r\n",
    "    url=f'https://career.huawei.com/reccampportal/services/portal/portalpub/getJob/page/20/{pg}?curPage={pg}&pageSize=20&jobType=2&jobFamClsCode=&searchText=&deptCode=&graduateItem=&deptCodes=&jobClass=&jobTypes=&orderBy=ISS_STARTDATE_DESC_AND_IS_HOT_JOB'\r\n",
    "    response=requests.get(url, headers=HEADERS).json()\r\n",
    "    for job in response['result']:\r\n",
    "        job_ids.append(job['jobId'])\r\n",
    "print(len(job_ids))"
   ],
   "outputs": [
    {
     "output_type": "stream",
     "name": "stdout",
     "text": [
      "787\n"
     ]
    }
   ],
   "metadata": {}
  },
  {
   "cell_type": "code",
   "execution_count": 6,
   "source": [
    "job_requires=[]\r\n",
    "for i, jobId in enumerate(job_ids):\r\n",
    "    url=f'https://career.huawei.com/reccampportal/services/portal/portalpub/getJobDetail?jobId={jobId}'\r\n",
    "    response=requests.get(url, headers=HEADERS).json()\r\n",
    "    job_requires.append((jobId, response['jobRequire']))\r\n",
    "    if i % 50==0:\r\n",
    "        print(f'finish {i/len(job_ids):.1%}')\r\n",
    "# history: 675\r\n",
    "print(len(job_requires))"
   ],
   "outputs": [
    {
     "output_type": "stream",
     "name": "stdout",
     "text": [
      "finish 0.0%\n",
      "finish 6.4%\n",
      "finish 12.7%\n",
      "finish 19.1%\n",
      "finish 25.4%\n",
      "finish 31.8%\n",
      "finish 38.1%\n",
      "finish 44.5%\n",
      "finish 50.8%\n",
      "finish 57.2%\n",
      "finish 63.5%\n",
      "finish 69.9%\n",
      "finish 76.2%\n",
      "finish 82.6%\n",
      "finish 88.9%\n",
      "finish 95.3%\n",
      "787\n"
     ]
    }
   ],
   "metadata": {
    "tags": []
   }
  },
  {
   "cell_type": "code",
   "execution_count": 7,
   "source": [
    "with open('data.txt', 'w', encoding='utf8') as file:\r\n",
    "    for jobId, jobRequire in job_requires:\r\n",
    "        if jobRequire.find('物理') !=-1:\r\n",
    "            url=f'https://career.huawei.com/reccampportal/portal5/campus-recruitment-detail.html?jobId={jobId}\\n'\r\n",
    "            file.write(url)"
   ],
   "outputs": [],
   "metadata": {}
  },
  {
   "cell_type": "code",
   "execution_count": null,
   "source": [],
   "outputs": [],
   "metadata": {}
  }
 ]
}