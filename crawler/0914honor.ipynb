{
 "cells": [
  {
   "cell_type": "code",
   "execution_count": 1,
   "source": [
    "import requests"
   ],
   "outputs": [],
   "metadata": {}
  },
  {
   "cell_type": "code",
   "execution_count": 14,
   "source": [
    "HEADERS={\r\n",
    "'Host': 'career.hihonor.com',\r\n",
    "'User-Agent': 'Mozilla/5.0 (Windows NT 10.0; Win64; x64; rv:92.0) Gecko/20100101 Firefox/92.0',\r\n",
    "'Accept': 'application/json, text/plain, */*',\r\n",
    "'Accept-Language': 'en-US,en;q=0.5',\r\n",
    "'Accept-Encoding': 'gzip, deflate, br',\r\n",
    "'Referer': 'https://career.hihonor.com/SU60eea1aa0dcad47a7e1ce1ed/pb/school.html?workPlaceCode=0%2F4%2F7%2F9&currentPage=2',\r\n",
    "'Content-Type': 'application/x-www-form-urlencoded',\r\n",
    "'Content-Length': '81',\r\n",
    "'Origin': 'https://career.hihonor.com',\r\n",
    "'Connection': 'keep-alive',\r\n",
    "'Cookie': 'SERVERID=0c158cc6c99f83441643d4b3851fe483|1631618016|1631618012',\r\n",
    "'Sec-Fetch-Dest': 'empty',\r\n",
    "'Sec-Fetch-Mode': 'no-cors',\r\n",
    "'Sec-Fetch-Site': 'same-origin',\r\n",
    "'TE': 'trailers',\r\n",
    "'Pragma': 'no-cache',\r\n",
    "'Cache-Control': 'no-cache',\r\n",
    "}"
   ],
   "outputs": [],
   "metadata": {}
  },
  {
   "cell_type": "code",
   "execution_count": 15,
   "source": [
    "body='isFrompb=true&recruitType=1&pageSize=15&currentPage=2&workPlaceCode=0%2F4%2F7%2F9'"
   ],
   "outputs": [],
   "metadata": {}
  },
  {
   "cell_type": "code",
   "execution_count": 16,
   "source": [
    "res=requests.post('https://career.hihonor.com/wecruit/positionInfo/listPosition/SU60eea1aa0dcad47a7e1ce1ed?iSaJAx=isAjax&t=1631618029596', headers=HEADERS, data=body).json()"
   ],
   "outputs": [],
   "metadata": {}
  },
  {
   "cell_type": "code",
   "execution_count": 19,
   "source": [
    "res['data']['pageForm']['pageData'][0]"
   ],
   "outputs": [
    {
     "output_type": "execute_result",
     "data": {
      "text/plain": [
       "{'canDelivery': False,\n",
       " 'company': '荣耀终端有限公司',\n",
       " 'currentSuiteKey': '60eea1aa0dcad47a7e1ce1ed',\n",
       " 'department': '研发管理部',\n",
       " 'distance': 0.0,\n",
       " 'orgCode': '0/1',\n",
       " 'orgLogoUrl': 'http://wecruit.oss-cn-hangzhou.aliyuncs.com/files/default/8944467b-8804-492b-98b1-83e12267b591.png',\n",
       " 'pageViews': 1846,\n",
       " 'postId': '60efe0cbbef57c1023f7610f',\n",
       " 'postName': '技术研究工程师-存储介质研究',\n",
       " 'postType': '0/1227/10002',\n",
       " 'postTypeName': '研发类',\n",
       " 'projectId': 100304,\n",
       " 'projectName': '2022届应届博士',\n",
       " 'publishDate': '2021-07-15',\n",
       " 'recruitNumStr': '若干',\n",
       " 'top': 0,\n",
       " 'workPlaceStr': '北京市、西安市',\n",
       " 'workTypeStr': '全职'}"
      ]
     },
     "metadata": {},
     "execution_count": 19
    }
   ],
   "metadata": {}
  },
  {
   "cell_type": "code",
   "execution_count": 20,
   "source": [
    "pos_ids=[]\r\n",
    "for pg in range(1, 4):\r\n",
    "    body=f'isFrompb=true&recruitType=1&pageSize=15&currentPage={pg}&workPlaceCode=0%2F4%2F7%2F9'\r\n",
    "    response=requests.post('https://career.hihonor.com/wecruit/positionInfo/listPosition/SU60eea1aa0dcad47a7e1ce1ed?iSaJAx=isAjax', headers=HEADERS, data=body).json()\r\n",
    "    for job in response['data']['pageForm']['pageData']:\r\n",
    "        pos_ids.append(job['postId'])"
   ],
   "outputs": [],
   "metadata": {}
  },
  {
   "cell_type": "code",
   "execution_count": 21,
   "source": [
    "len(pos_ids)"
   ],
   "outputs": [
    {
     "output_type": "execute_result",
     "data": {
      "text/plain": [
       "42"
      ]
     },
     "metadata": {},
     "execution_count": 21
    }
   ],
   "metadata": {}
  },
  {
   "cell_type": "code",
   "execution_count": 23,
   "source": [
    "jobs=[]\r\n",
    "for pos_id in pos_ids:\r\n",
    "    body2=f'postId={pos_id}'\r\n",
    "    response2=requests.post('https://career.hihonor.com/wecruit/positionInfo/listPositionDetail/SU60eea1aa0dcad47a7e1ce1ed?iSaJAx=isAjax', headers=HEADERS, data=body2).json()\r\n",
    "    jobs.append((pos_id, response2['data']['serviceCondition']+response2['data']['workContent']))"
   ],
   "outputs": [],
   "metadata": {}
  },
  {
   "cell_type": "code",
   "execution_count": 25,
   "source": [
    "for pos_id, desc in jobs:\r\n",
    "    if '物理' in desc:\r\n",
    "        url=f'https://career.hihonor.com/SU60eea1aa0dcad47a7e1ce1ed/pb/posDetail.html?postId={pos_id}&postType=campus'\r\n",
    "        print(url)"
   ],
   "outputs": [
    {
     "output_type": "stream",
     "name": "stdout",
     "text": [
      "https://career.hihonor.com/SU60eea1aa0dcad47a7e1ce1ed/pb/posDetail.html?postId=6110d620bef57c6533037a38&postType=campus\n",
      "https://career.hihonor.com/SU60eea1aa0dcad47a7e1ce1ed/pb/posDetail.html?postId=6109f5782f9d24229eec56f0&postType=campus\n",
      "https://career.hihonor.com/SU60eea1aa0dcad47a7e1ce1ed/pb/posDetail.html?postId=60efe0cbbef57c1023f7610f&postType=campus\n",
      "https://career.hihonor.com/SU60eea1aa0dcad47a7e1ce1ed/pb/posDetail.html?postId=60efe0cb2f9d247b98da89d4&postType=campus\n",
      "https://career.hihonor.com/SU60eea1aa0dcad47a7e1ce1ed/pb/posDetail.html?postId=60efe0cd2f9d247b98da89dc&postType=campus\n",
      "https://career.hihonor.com/SU60eea1aa0dcad47a7e1ce1ed/pb/posDetail.html?postId=60efe0c80dcad47a7e1d429f&postType=campus\n",
      "https://career.hihonor.com/SU60eea1aa0dcad47a7e1ce1ed/pb/posDetail.html?postId=60efe0cb0dcad47a7e1d42af&postType=campus\n"
     ]
    }
   ],
   "metadata": {}
  },
  {
   "cell_type": "code",
   "execution_count": null,
   "source": [],
   "outputs": [],
   "metadata": {}
  }
 ],
 "metadata": {
  "orig_nbformat": 4,
  "language_info": {
   "name": "python",
   "version": "3.8.11",
   "mimetype": "text/x-python",
   "codemirror_mode": {
    "name": "ipython",
    "version": 3
   },
   "pygments_lexer": "ipython3",
   "nbconvert_exporter": "python",
   "file_extension": ".py"
  },
  "kernelspec": {
   "name": "python3",
   "display_name": "Python 3.8.11 64-bit ('base': conda)"
  },
  "interpreter": {
   "hash": "1d035ca4c615712529cad3b6e5fc713bfde17604927854c7aa1c8a6d2be7af56"
  }
 },
 "nbformat": 4,
 "nbformat_minor": 2
}