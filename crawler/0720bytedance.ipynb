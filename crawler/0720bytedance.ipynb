{
 "metadata": {
  "language_info": {
   "codemirror_mode": {
    "name": "ipython",
    "version": 3
   },
   "file_extension": ".py",
   "mimetype": "text/x-python",
   "name": "python",
   "nbconvert_exporter": "python",
   "pygments_lexer": "ipython3",
   "version": "3.8.10"
  },
  "orig_nbformat": 4,
  "kernelspec": {
   "name": "python3",
   "display_name": "Python 3.8.10 64-bit ('Anaconda3')"
  },
  "interpreter": {
   "hash": "1d035ca4c615712529cad3b6e5fc713bfde17604927854c7aa1c8a6d2be7af56"
  }
 },
 "nbformat": 4,
 "nbformat_minor": 2,
 "cells": [
  {
   "cell_type": "code",
   "execution_count": 1,
   "metadata": {},
   "outputs": [],
   "source": [
    "import requests"
   ]
  },
  {
   "cell_type": "code",
   "execution_count": 13,
   "metadata": {},
   "outputs": [],
   "source": [
    "HEADERS={\n",
    "\"Host\": \"jobs.bytedance.com\",\n",
    "\"User-Agent\": \"Mozilla/5.0 (Windows NT 10.0; Win64; x64; rv:90.0) Gecko/20100101 Firefox/90.0\",\n",
    "\"Accept\": \"application/json, text/plain, */*\",\n",
    "\"Accept-Language\": \"zh-CN\",\n",
    "\"Accept-Encoding\": \"gzip, deflate, br\",\n",
    "\"Content-Type\": \"application/json\",\n",
    "\"env\": \"undefined\",\n",
    "\"website-path\": \"campus\",\n",
    "\"Portal-Channel\": \"campus\",\n",
    "\"Portal-Platform\": \"pc\",\n",
    "\"x-csrf-token\": \"KRKKkQFvRFQBVJnXn9v2pE2bHrC4iOePVje1yL171MA=\",\n",
    "\"Content-Length\": \"218\",\n",
    "\"Origin\": \"https://jobs.bytedance.com\",\n",
    "\"Connection\": \"keep-alive\",\n",
    "\"Referer\": \"https://jobs.bytedance.com/campus/position?keywords=&category=&location=&project=6969453898605299982%2C6969453300446988557&type=2&job_hot_flag=&current=89&limit=10&spread=XWGCM6M\",\n",
    "\"Cookie\": r\"ttwid=1%7CaE70gDMuoCBTFf4Emlmvs1dPch-WDjqK48AQ8eXpDZA%7C1615635224%7C228dbc76ddeeb799eb8c75fa53aacbca608a29e0f0a3e45dd6d3ae7d5d4bb8ed; SLARDAR_WEB_ID=0d0324d0-b86e-425b-9358-1a91e94cf3c0; device-id=6983697672230290978; channel=campus; platform=pc; s_v_web_id=krbbc7xn_NX7yH6hi_qFn9_4vDh_BIDK_vEzyTXgthPXj; atsx-csrf-token=KRKKkQFvRFQBVJnXn9v2pE2bHrC4iOePVje1yL171MA%3D\",\n",
    "\"Sec-Fetch-Dest\": \"empty\",\n",
    "\"Sec-Fetch-Mode\": \"cors\",\n",
    "\"Sec-Fetch-Site\": \"same-origin\",\n",
    "\n",
    "}"
   ]
  },
  {
   "cell_type": "code",
   "execution_count": 14,
   "metadata": {},
   "outputs": [],
   "source": [
    "json_data={\"keyword\":\"\",\"limit\":10,\"offset\":10,\"job_category_id_list\":[],\"location_code_list\":[],\"subject_id_list\":[\"6969453300446988557\",\"6969453898605299982\"],\"recruitment_id_list\":[\"201\"],\"portal_type\":3,\"portal_entrance\":1}"
   ]
  },
  {
   "cell_type": "code",
   "execution_count": 17,
   "metadata": {},
   "outputs": [],
   "source": [
    "response=requests.post('https://jobs.bytedance.com/api/v1/search/job/posts', json=json_data, headers=HEADERS).json()"
   ]
  },
  {
   "cell_type": "code",
   "execution_count": 20,
   "metadata": {},
   "outputs": [
    {
     "output_type": "stream",
     "name": "stdout",
     "text": [
      "finish 0.00%\n",
      "finish 1.13%\n",
      "finish 2.27%\n",
      "finish 3.40%\n",
      "finish 4.53%\n",
      "finish 5.66%\n",
      "finish 6.80%\n",
      "finish 7.93%\n",
      "finish 9.06%\n",
      "finish 10.19%\n",
      "finish 11.33%\n",
      "finish 12.46%\n",
      "finish 13.59%\n",
      "finish 14.72%\n",
      "finish 15.86%\n",
      "finish 16.99%\n",
      "finish 18.12%\n",
      "finish 19.25%\n",
      "finish 20.39%\n",
      "finish 21.52%\n",
      "finish 22.65%\n",
      "finish 23.78%\n",
      "finish 24.92%\n",
      "finish 26.05%\n",
      "finish 27.18%\n",
      "finish 28.31%\n",
      "finish 29.45%\n",
      "finish 30.58%\n",
      "finish 31.71%\n",
      "finish 32.84%\n",
      "finish 33.98%\n",
      "finish 35.11%\n",
      "finish 36.24%\n",
      "finish 37.37%\n",
      "finish 38.51%\n",
      "finish 39.64%\n",
      "finish 40.77%\n",
      "finish 41.90%\n",
      "finish 43.04%\n",
      "finish 44.17%\n",
      "finish 45.30%\n",
      "finish 46.43%\n",
      "finish 47.57%\n",
      "finish 48.70%\n",
      "finish 49.83%\n",
      "finish 50.96%\n",
      "finish 52.10%\n",
      "finish 53.23%\n",
      "finish 54.36%\n",
      "finish 55.49%\n",
      "finish 56.63%\n",
      "finish 57.76%\n",
      "finish 58.89%\n",
      "finish 60.02%\n",
      "finish 61.16%\n",
      "finish 62.29%\n",
      "finish 63.42%\n",
      "finish 64.55%\n",
      "finish 65.69%\n",
      "finish 66.82%\n",
      "finish 67.95%\n",
      "finish 69.08%\n",
      "finish 70.22%\n",
      "finish 71.35%\n",
      "finish 72.48%\n",
      "finish 73.61%\n",
      "finish 74.75%\n",
      "finish 75.88%\n",
      "finish 77.01%\n",
      "finish 78.14%\n",
      "finish 79.28%\n",
      "finish 80.41%\n",
      "finish 81.54%\n",
      "finish 82.67%\n",
      "finish 83.81%\n",
      "finish 84.94%\n",
      "finish 86.07%\n",
      "finish 87.20%\n",
      "finish 88.34%\n",
      "finish 89.47%\n",
      "finish 90.60%\n",
      "finish 91.73%\n",
      "finish 92.87%\n",
      "finish 94.00%\n",
      "finish 95.13%\n",
      "finish 96.26%\n",
      "finish 97.40%\n",
      "finish 98.53%\n",
      "finish 99.66%\n"
     ]
    }
   ],
   "source": [
    "job_list=[]\n",
    "for pg in range(0, 890, 10):\n",
    "    json_data={\"keyword\":\"\",\"limit\":10,\"offset\":pg,\"job_category_id_list\":[],\"location_code_list\":[],\"subject_id_list\":[\"6969453300446988557\",\"6969453898605299982\"],\"recruitment_id_list\":[\"201\"],\"portal_type\":3,\"portal_entrance\":1}\n",
    "    response=requests.post('https://jobs.bytedance.com/api/v1/search/job/posts', json=json_data, headers=HEADERS).json()\n",
    "    for job in response['data']['job_post_list']:\n",
    "        job_list.append((job['id'], job['requirement']))\n",
    "    \n",
    "    print(f'finish {pg/883:.2%}')"
   ]
  },
  {
   "cell_type": "code",
   "execution_count": 21,
   "metadata": {},
   "outputs": [
    {
     "output_type": "execute_result",
     "data": {
      "text/plain": [
       "883"
      ]
     },
     "metadata": {},
     "execution_count": 21
    }
   ],
   "source": [
    "len(job_list)"
   ]
  },
  {
   "cell_type": "code",
   "execution_count": 23,
   "metadata": {},
   "outputs": [
    {
     "output_type": "stream",
     "name": "stdout",
     "text": [
      "https://jobs.bytedance.com/campus/position/6980215293792569630/detail?spread=UEHNJ98\nhttps://jobs.bytedance.com/campus/position/6978822835569772836/detail?spread=UEHNJ98\nhttps://jobs.bytedance.com/campus/position/6980215967247141133/detail?spread=UEHNJ98\nhttps://jobs.bytedance.com/campus/position/6981339023264958734/detail?spread=UEHNJ98\nhttps://jobs.bytedance.com/campus/position/6982068204899387684/detail?spread=UEHNJ98\nhttps://jobs.bytedance.com/campus/position/6982372083558123807/detail?spread=UEHNJ98\nhttps://jobs.bytedance.com/campus/position/6982398882522450213/detail?spread=UEHNJ98\nhttps://jobs.bytedance.com/campus/position/6980234420587432228/detail?spread=UEHNJ98\n"
     ]
    }
   ],
   "source": [
    "for jobId, job in job_list:\n",
    "    if '物理' in job:\n",
    "        url=f'https://jobs.bytedance.com/campus/position/{jobId}/detail?spread=UEHNJ98'\n",
    "        print(url)"
   ]
  },
  {
   "cell_type": "code",
   "execution_count": 25,
   "metadata": {},
   "outputs": [],
   "source": [
    "with open('data.txt', 'w', encoding='utf8') as file:\n",
    "    for jobId, job in job_list:\n",
    "        if '理工' in job:\n",
    "            url=f'https://jobs.bytedance.com/campus/position/{jobId}/detail?spread=UEHNJ98'\n",
    "            file.write(url)\n",
    "            file.write('\\n')"
   ]
  },
  {
   "cell_type": "code",
   "execution_count": null,
   "metadata": {},
   "outputs": [],
   "source": []
  }
 ]
}