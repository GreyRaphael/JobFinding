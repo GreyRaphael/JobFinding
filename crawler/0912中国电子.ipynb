{
 "cells": [
  {
   "cell_type": "code",
   "execution_count": 1,
   "source": [
    "import requests"
   ],
   "outputs": [],
   "metadata": {}
  },
  {
   "cell_type": "code",
   "execution_count": 2,
   "source": [
    "HEADERS={\r\n",
    "    \"User-Agent\":'Mozilla/5.0 (Windows NT 10.0; Win64; x64; rv:90.0) Gecko/20100101 Firefox/90.0',\r\n",
    "}"
   ],
   "outputs": [],
   "metadata": {}
  },
  {
   "cell_type": "code",
   "execution_count": 3,
   "source": [
    "res=requests.get('https://campus.iguopin.com/index.php?m=api&c=company&a=campus_company_jobs&district=1.35&user_id=4d9a076b12764b78b5e3b4db08e0cd7d&sub_user_id=4d9a076b12764b78b5e3b4db08e0cd7d&pagesize=20&page=2', headers=HEADERS).json()"
   ],
   "outputs": [],
   "metadata": {}
  },
  {
   "cell_type": "code",
   "execution_count": 4,
   "source": [
    "res['data']['list'][0]"
   ],
   "outputs": [
    {
     "output_type": "execute_result",
     "data": {
      "text/plain": [
       "{'id': '62017',\n",
       " 'uid': '10080313',\n",
       " 'user_id': 'f7d1552553b14f1ba57fde32302bcd67',\n",
       " 'company_id': '692',\n",
       " 'company_name': '中国电子信息产业集团有限公司第六研究所',\n",
       " 'jobs_name': '系统架构师',\n",
       " 'jobs_code': 'ZP2021013',\n",
       " 'min_wage': '0',\n",
       " 'max_wage': '0',\n",
       " 'negotiable': '1',\n",
       " 'audit': '1',\n",
       " 'display': '1',\n",
       " 'tpl': '',\n",
       " 'click': '518',\n",
       " 'nature': '377',\n",
       " 'nature_cn': '应届生',\n",
       " 'sex': '0',\n",
       " 'sex_cn': '不限',\n",
       " 'age': '0-0',\n",
       " 'amount': '8',\n",
       " 'status': '0',\n",
       " 'topclass': '509',\n",
       " 'category': '877',\n",
       " 'subclass': '540',\n",
       " 'category_cn': '系统架构设计师',\n",
       " 'trade': '45',\n",
       " 'trade_cn': '其他行业',\n",
       " 'scale': '84',\n",
       " 'scale_cn': '500-1000人',\n",
       " 'district': '1.35.0',\n",
       " 'district_cn': '北京/北京市',\n",
       " 'tag': '',\n",
       " 'tag_cn': '',\n",
       " 'education': '1164',\n",
       " 'education_cn': '硕士研究生',\n",
       " 'experience': '0',\n",
       " 'experience_cn': '不限',\n",
       " 'major': '73',\n",
       " 'major_cn': '计算机类',\n",
       " 'workday': '0',\n",
       " 'workday_cn': '不限',\n",
       " 'department': '特种装备事业部',\n",
       " 'department_id': '16875',\n",
       " 'key_precise': 'city1_35_0 city1_35_0 city1_0_0 jobs509_877_540 cat509 cat877 cat540 tag major73_0_0 major73_0_0 major73_0_0 com_nature46 classify13 eme0 stick0 nat377 sex0 trade45 edu1164 exp0 neg1 set1 audit1 dis1 robot0 scale84 fam0 hot0 status0 subsite1 hainan_talent_type0',\n",
       " 'key_full': 'city1_35_0 city1_35_0 city1_0_0 jobs509_877_540 cat509 cat877 cat540 tag major73_0_0 major73_0_0 major73_0_0 com_nature46 classify13 eme0 stick0 nat377 sex0 trade45 edu1164 exp0 neg1 set1 audit1 dis1 robot0 scale84 fam0 hot0 status0 subsite1 hainan_talent_type0',\n",
       " 'dept_code': '',\n",
       " 'recommend': '0',\n",
       " 'stick': '0',\n",
       " 'stick_time': '1631083326',\n",
       " 'refresh_time': '1631083326',\n",
       " 'deadline': '0',\n",
       " 'emergency': '0',\n",
       " 'hot': '0',\n",
       " 'hot_order': '0',\n",
       " 'famous': '0',\n",
       " 'famous_order': '0',\n",
       " 'contact_type': '0',\n",
       " 'charge': '0',\n",
       " 'price': '0.00',\n",
       " 'contents': '1. 负责MM系统架构设计、基础框架和组件以及新需求的框架研发和扩展，技术难点公关和新技术预研；\\n2. 分析系统瓶颈，解决各种疑难杂症，对系统进行性能调优；\\n3. 带领团队攻克高稳定性、复杂业务模型等带领的各种挑战和技术难关；\\n4. 参与核心架构部分代码编写，对工程师进行技术指导和培训',\n",
       " 'user_status': '1',\n",
       " 'subsite_id': '0',\n",
       " 'setmeal_id': '1',\n",
       " 'setmeal_name': '免费会员',\n",
       " 'setmeal_deadline': '0',\n",
       " 'robot': '0',\n",
       " 'map_x': '116.340668',\n",
       " 'map_y': '39.990631',\n",
       " 'map_zoom': '18',\n",
       " 'add_mode': '1',\n",
       " 'start_time': '1631030400',\n",
       " 'end_time': '1638374399',\n",
       " 'sort': '16',\n",
       " 'signup_batch': '0',\n",
       " 'exam_batch': '0',\n",
       " 'apply_notes': '',\n",
       " 'is_apply': '0',\n",
       " 'wage_unit_cn': '',\n",
       " 'sub_site': '1',\n",
       " 'create_time': '1614234555',\n",
       " 'update_time': '1631083326',\n",
       " 'delete_time': None,\n",
       " 'hainan_talent_type': '0',\n",
       " 'hainan_talent_type_name': '',\n",
       " 'wage_cn': '面议',\n",
       " 'jobs_url': '/index.php?m=api&c=jobs&a=jobs_show&id=62017',\n",
       " 'favor': 1,\n",
       " 'com_url': '/index.php?m=home&c=jobs&a=com_show&id=692',\n",
       " 'jobs_apply_num': '8'}"
      ]
     },
     "metadata": {},
     "execution_count": 4
    }
   ],
   "metadata": {}
  },
  {
   "cell_type": "code",
   "execution_count": 5,
   "source": [
    "jobs=[]\r\n",
    "for pg in range(1, 8):\r\n",
    "    url=f'https://campus.iguopin.com/index.php?m=api&c=company&a=campus_company_jobs&district=1.35&user_id=4d9a076b12764b78b5e3b4db08e0cd7d&sub_user_id=4d9a076b12764b78b5e3b4db08e0cd7d&pagesize=20&page={pg}'\r\n",
    "    response=requests.get(url, headers=HEADERS).json()\r\n",
    "    for job in response['data']['list']:\r\n",
    "        jobs.append((job['id'], job['major_cn'], job['contents']))"
   ],
   "outputs": [],
   "metadata": {}
  },
  {
   "cell_type": "code",
   "execution_count": 6,
   "source": [
    "for jobId, jobMajor, jobContent in jobs:\r\n",
    "    if '物理' in jobMajor or '物理' in jobContent:\r\n",
    "        detail_url=f'https://campus.iguopin.com/index.php?m=&c=Jobs&a=jobs_show&id={jobId}'\r\n",
    "        print(detail_url)"
   ],
   "outputs": [
    {
     "output_type": "stream",
     "name": "stdout",
     "text": [
      "https://campus.iguopin.com/index.php?m=&c=Jobs&a=jobs_show&id=1708\n",
      "https://campus.iguopin.com/index.php?m=&c=Jobs&a=jobs_show&id=85317\n",
      "https://campus.iguopin.com/index.php?m=&c=Jobs&a=jobs_show&id=85310\n",
      "https://campus.iguopin.com/index.php?m=&c=Jobs&a=jobs_show&id=82739\n",
      "https://campus.iguopin.com/index.php?m=&c=Jobs&a=jobs_show&id=84966\n",
      "https://campus.iguopin.com/index.php?m=&c=Jobs&a=jobs_show&id=84974\n",
      "https://campus.iguopin.com/index.php?m=&c=Jobs&a=jobs_show&id=84988\n",
      "https://campus.iguopin.com/index.php?m=&c=Jobs&a=jobs_show&id=68595\n"
     ]
    }
   ],
   "metadata": {}
  },
  {
   "cell_type": "code",
   "execution_count": 7,
   "source": [
    "len(jobs)"
   ],
   "outputs": [
    {
     "output_type": "execute_result",
     "data": {
      "text/plain": [
       "137"
      ]
     },
     "metadata": {},
     "execution_count": 7
    }
   ],
   "metadata": {}
  },
  {
   "cell_type": "code",
   "execution_count": null,
   "source": [],
   "outputs": [],
   "metadata": {}
  }
 ],
 "metadata": {
  "orig_nbformat": 4,
  "language_info": {
   "name": "python",
   "version": "3.8.11",
   "mimetype": "text/x-python",
   "codemirror_mode": {
    "name": "ipython",
    "version": 3
   },
   "pygments_lexer": "ipython3",
   "nbconvert_exporter": "python",
   "file_extension": ".py"
  },
  "kernelspec": {
   "name": "python3",
   "display_name": "Python 3.8.11 64-bit ('base': conda)"
  },
  "interpreter": {
   "hash": "1d035ca4c615712529cad3b6e5fc713bfde17604927854c7aa1c8a6d2be7af56"
  }
 },
 "nbformat": 4,
 "nbformat_minor": 2
}