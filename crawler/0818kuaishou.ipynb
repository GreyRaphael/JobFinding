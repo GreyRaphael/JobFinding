{
 "cells": [
  {
   "cell_type": "code",
   "execution_count": 2,
   "source": [
    "import requests"
   ],
   "outputs": [],
   "metadata": {}
  },
  {
   "cell_type": "code",
   "execution_count": 3,
   "source": [
    "HEADERS={\r\n",
    "    \"User-Agent\":'Mozilla/5.0 (Windows NT 10.0; Win64; x64; rv:90.0) Gecko/20100101 Firefox/90.0',\r\n",
    "}"
   ],
   "outputs": [],
   "metadata": {}
  },
  {
   "cell_type": "code",
   "execution_count": 4,
   "source": [
    "data={\"recruitSubProjectCode\":\"2022campus\",\"pageSize\":10,\"pageNum\":1}"
   ],
   "outputs": [],
   "metadata": {}
  },
  {
   "cell_type": "code",
   "execution_count": 7,
   "source": [
    "res=requests.post('https://campus.kuaishou.cn/recruit/campus/e/api/v1/open/positions/simple', headers=HEADERS, json=data).json()"
   ],
   "outputs": [],
   "metadata": {}
  },
  {
   "cell_type": "code",
   "execution_count": 9,
   "source": [
    "res['result']['list'][0]"
   ],
   "outputs": [
    {
     "output_type": "execute_result",
     "data": {
      "text/plain": [
       "{'id': 1927,\n",
       " 'code': 'fb88dea0ff8046e89b5d17367ed4bff2',\n",
       " 'name': '平台产品经理-电商产品',\n",
       " 'recruitProjectCode': 'schoolr',\n",
       " 'departmentCode': 'D0000',\n",
       " 'recruitSubProjectCode': '2022campus',\n",
       " 'businessDirectoryCode': None,\n",
       " 'ifFrontLineEmployee': None,\n",
       " 'positionClassCode': '3',\n",
       " 'welfareLabelCode': None,\n",
       " 'positionNatureCode': 'fulltime',\n",
       " 'positionCategoryCode': 'J1024',\n",
       " 'workingHoursNature': '1001',\n",
       " 'positionRankCode': None,\n",
       " 'positionLevelCode': None,\n",
       " 'workLocationCode': 'beijing',\n",
       " 'recruitNumber': None,\n",
       " 'recruitLeaderNumber': '10504',\n",
       " 'recruitLeaderName': None,\n",
       " 'positionAuditProcessId': None,\n",
       " 'offerAuditProcessId': None,\n",
       " 'ifShowRecruitWebsite': True,\n",
       " 'ifShowRecommendWebsite': True,\n",
       " 'ifRecommendWebsiteHot': None,\n",
       " 'ifRecruitWebsiteHot': None,\n",
       " 'ifParticipateBeisen': None,\n",
       " 'positionStatusCode': 'Release',\n",
       " 'finalInterviewerCode': None,\n",
       " 'headCountUsed': None,\n",
       " 'auditStartTime': None,\n",
       " 'auditStartUser': None,\n",
       " 'evaluateCompanyCode': None,\n",
       " 'evaluateProjectCode': None,\n",
       " 'pauseTime': None,\n",
       " 'releaseTime': '2021-08-13 10:59:40',\n",
       " 'updateTime': 1629268045000,\n",
       " 'closeUserId': None,\n",
       " 'closeTime': None,\n",
       " 'description': '1、负责快手电商商家产品的体验与迭代，提升商家的管理和服务效率，包括但不局限于官网、招商系统、店铺基础管理、商家治理等；\\n2、结合快手产品用户特征，与内容导购业务模式，探索创新方案；\\n3、撰写产品需求、功能定义、用户界面、交互设计等详细文档，高效项目推动，高质量交付；\\n4、持续关注产品效果数据，优秀的业务sense，并从数据中探寻产品的优化方向。',\n",
       " 'hcHoldTime': None,\n",
       " 'positionDemand': '1、本科及以上学历，理工科专业优先；\\n2、熟悉电商交易链路/商家治理/运营平台/内容生态/直播互动等关键产品领域，可迅速独立支持项目者优先；\\n3、优秀的逻辑性和结构性思维，优秀的用户洞察、商业感觉与行业格局，对内容导购类产品有深入的理解或者实习经历最佳；\\n4、热爱移动产品，有强烈的开放创新意识，能举一反三，具有优秀的沟通和跨部门协作能力；\\n5、熟悉Axure，PS，Visio等产品经理常用工具，具备基础的数据分析与框架能力；\\n6、抗压能力强，对工作有责任心，能积极主动完成工作，具备良好的服务精神和团队合作能力。\\n\\n*本岗位需要参加在线测评。',\n",
       " 'outRelationPositionId': None,\n",
       " 'writeExamType': None,\n",
       " 'departmentName': None,\n",
       " 'applyNum': 0,\n",
       " 'entryNum': 0,\n",
       " 'hcHoldYear': None,\n",
       " 'ifCollect': None}"
      ]
     },
     "metadata": {},
     "execution_count": 9
    }
   ],
   "metadata": {}
  },
  {
   "cell_type": "code",
   "execution_count": 12,
   "source": [
    "jobs=[]\r\n",
    "for pg in range(1,20):\r\n",
    "    jData={\"recruitSubProjectCode\":\"2022campus\",\"pageSize\":10,\"pageNum\":pg}\r\n",
    "    response=requests.post('https://campus.kuaishou.cn/recruit/campus/e/api/v1/open/positions/simple', headers=HEADERS, json=jData).json()\r\n",
    "    for job in response['result']['list']:\r\n",
    "        jobs.append((job['id'], job['positionDemand']))"
   ],
   "outputs": [],
   "metadata": {}
  },
  {
   "cell_type": "code",
   "execution_count": 13,
   "source": [
    "len(jobs)"
   ],
   "outputs": [
    {
     "output_type": "execute_result",
     "data": {
      "text/plain": [
       "186"
      ]
     },
     "metadata": {},
     "execution_count": 13
    }
   ],
   "metadata": {}
  },
  {
   "cell_type": "code",
   "execution_count": 15,
   "source": [
    "for jobId, requirement in jobs:\r\n",
    "    if '理工' in requirement:\r\n",
    "        url=f'https://campus.kuaishou.cn/#/campus/job-info/{jobId}'\r\n",
    "        print(url)"
   ],
   "outputs": [
    {
     "output_type": "stream",
     "name": "stdout",
     "text": [
      "https://campus.kuaishou.cn/#/campus/job-info/1927\n",
      "https://campus.kuaishou.cn/#/campus/job-info/2268\n",
      "https://campus.kuaishou.cn/#/campus/job-info/1987\n"
     ]
    }
   ],
   "metadata": {}
  },
  {
   "cell_type": "code",
   "execution_count": null,
   "source": [],
   "outputs": [],
   "metadata": {}
  }
 ],
 "metadata": {
  "orig_nbformat": 4,
  "language_info": {
   "name": "python",
   "version": "3.8.11",
   "mimetype": "text/x-python",
   "codemirror_mode": {
    "name": "ipython",
    "version": 3
   },
   "pygments_lexer": "ipython3",
   "nbconvert_exporter": "python",
   "file_extension": ".py"
  },
  "kernelspec": {
   "name": "python3",
   "display_name": "Python 3.8.11 64-bit ('base': conda)"
  },
  "interpreter": {
   "hash": "1d035ca4c615712529cad3b6e5fc713bfde17604927854c7aa1c8a6d2be7af56"
  }
 },
 "nbformat": 4,
 "nbformat_minor": 2
}