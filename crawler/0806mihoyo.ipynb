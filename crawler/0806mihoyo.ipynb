{
 "cells": [
  {
   "cell_type": "code",
   "execution_count": 1,
   "source": [
    "import requests"
   ],
   "outputs": [],
   "metadata": {}
  },
  {
   "cell_type": "code",
   "execution_count": 2,
   "source": [
    "HEADERS={\r\n",
    "    \"User-Agent\":'Mozilla/5.0 (Windows NT 10.0; Win64; x64; rv:90.0) Gecko/20100101 Firefox/90.0',\r\n",
    "}"
   ],
   "outputs": [],
   "metadata": {}
  },
  {
   "cell_type": "code",
   "execution_count": 4,
   "source": [
    "json_data={\"keyword\":\"2022秋招\",\"limit\":15,\"offset\":0,\"siteId\":7525,\"orgId\":\"mihoyo\",\"site\":\"campus\",\"needStat\":True}"
   ],
   "outputs": [],
   "metadata": {}
  },
  {
   "cell_type": "code",
   "execution_count": 5,
   "source": [
    "res=requests.post('https://join.mihoyo.com/api/outer/ats-jc-apply/website/jobs', json=json_data, headers=HEADERS).json()"
   ],
   "outputs": [],
   "metadata": {}
  },
  {
   "cell_type": "code",
   "execution_count": 11,
   "source": [
    "res['data']['jobs'][0]"
   ],
   "outputs": [
    {
     "output_type": "execute_result",
     "data": {
      "text/plain": [
       "{'campusSites': [],\n",
       " 'commitment': '全职',\n",
       " 'createdAt': '2021-08-03T10:59:44',\n",
       " 'customFields': {'60371': {'name': '面向对象',\n",
       "   'value': '2022届（2021.9-2022.8之间毕业）'}},\n",
       " 'deptId': 330141,\n",
       " 'hireMode': 2,\n",
       " 'id': '9729b2c9-c2a3-49b5-a06b-69d0b1851877',\n",
       " 'locations': [],\n",
       " 'mjCode': 'MJ001941',\n",
       " 'openedAt': '2021-08-03T00:00',\n",
       " 'orgId': 'mihoyo',\n",
       " 'recommendJobRankRulesReward': [],\n",
       " 'recommendRewardBaseRule': {'content': {'rewardStageWay': {'100': None,\n",
       "    '101': None,\n",
       "    '200': None,\n",
       "    '201': None,\n",
       "    'INTERVIEW_SIGNIN': None,\n",
       "    'CORRECTED': 1,\n",
       "    'HIRED': 1,\n",
       "    'SHIGONG': None,\n",
       "    'SEND_OFFER': 1},\n",
       "   'way': 1,\n",
       "   'setting': {'100': '400',\n",
       "    '101': '3000',\n",
       "    '200': None,\n",
       "    '201': '1000',\n",
       "    'INTERVIEW_SIGNIN': None,\n",
       "    'CORRECTED': None,\n",
       "    'HIRED': None,\n",
       "    'SHIGONG': None,\n",
       "    'SEND_OFFER': None}},\n",
       "  'deactivated': False,\n",
       "  'description': '针对2022秋招应届生',\n",
       "  'hireMode': 2,\n",
       "  'id': 20422,\n",
       "  'isOptimizedDeptIds': False,\n",
       "  'name': '校招内推',\n",
       "  'type': 0},\n",
       " 'recommendationBonus': 0,\n",
       " 'showCampusSites': False,\n",
       " 'showIsCampus': False,\n",
       " 'status': 'open',\n",
       " 'title': 'Pipeline TD（2022秋招）',\n",
       " 'updatedAt': '2021-08-04T00:12:09',\n",
       " 'zhineng': {'id': 22501, 'name': '美术&表现类'}}"
      ]
     },
     "metadata": {},
     "execution_count": 11
    }
   ],
   "metadata": {}
  },
  {
   "cell_type": "code",
   "execution_count": 12,
   "source": [
    "job_ids=[]\r\n",
    "for pg in range(0, 80, 15):\r\n",
    "    jData={\"keyword\":\"2022秋招\",\"limit\":15,\"offset\":pg,\"siteId\":7525,\"orgId\":\"mihoyo\",\"site\":\"campus\",\"needStat\":True}\r\n",
    "    response=requests.post('https://join.mihoyo.com/api/outer/ats-jc-apply/website/jobs', json=jData, headers=HEADERS).json()\r\n",
    "    for job in response['data']['jobs']:\r\n",
    "        job_ids.append(job['id'])"
   ],
   "outputs": [],
   "metadata": {}
  },
  {
   "cell_type": "code",
   "execution_count": 13,
   "source": [
    "len(job_ids)"
   ],
   "outputs": [
    {
     "output_type": "execute_result",
     "data": {
      "text/plain": [
       "84"
      ]
     },
     "metadata": {},
     "execution_count": 13
    }
   ],
   "metadata": {}
  },
  {
   "cell_type": "code",
   "execution_count": 14,
   "source": [
    "jobs=[]\r\n",
    "for jobId in job_ids:\r\n",
    "    jData2={\"orgId\":\"mihoyo\",\"jobId\":jobId,\"siteId\":7525}\r\n",
    "    response2=requests.post('https://join.mihoyo.com/api/outer/ats-jc-apply/website/job', json=jData2, headers=HEADERS).json()\r\n",
    "    url=f'https://join.mihoyo.com/campus_apply/mihoyo/7525/#/job/{jobId}'\r\n",
    "    jobs.append((url, response2['data']['jobDescription']))"
   ],
   "outputs": [],
   "metadata": {}
  },
  {
   "cell_type": "code",
   "execution_count": 15,
   "source": [
    "len(jobs)"
   ],
   "outputs": [
    {
     "output_type": "execute_result",
     "data": {
      "text/plain": [
       "84"
      ]
     },
     "metadata": {},
     "execution_count": 15
    }
   ],
   "metadata": {}
  },
  {
   "cell_type": "code",
   "execution_count": 16,
   "source": [
    "for url, job in jobs:\r\n",
    "    if '物理' in job:\r\n",
    "        print(url)"
   ],
   "outputs": [
    {
     "output_type": "stream",
     "name": "stdout",
     "text": [
      "https://join.mihoyo.com/campus_apply/mihoyo/7525/#/job/a086287d-6642-4986-9b2c-266d77ae94bc\n",
      "https://join.mihoyo.com/campus_apply/mihoyo/7525/#/job/c40d2d15-aa1e-44ee-a217-aa709f7ed305\n",
      "https://join.mihoyo.com/campus_apply/mihoyo/7525/#/job/c1a855fd-8e35-4877-8081-b2129e8663ce\n",
      "https://join.mihoyo.com/campus_apply/mihoyo/7525/#/job/deabea9b-6f04-4878-a4e1-54741cdc3025\n",
      "https://join.mihoyo.com/campus_apply/mihoyo/7525/#/job/d60a1795-ad67-4b54-85ba-c8e2e372faaf\n",
      "https://join.mihoyo.com/campus_apply/mihoyo/7525/#/job/5cdcd6f6-df3f-4dbc-a4f3-e4d86c8d0f87\n"
     ]
    }
   ],
   "metadata": {}
  },
  {
   "cell_type": "code",
   "execution_count": null,
   "source": [],
   "outputs": [],
   "metadata": {}
  }
 ],
 "metadata": {
  "orig_nbformat": 4,
  "language_info": {
   "name": "python",
   "version": "3.8.11",
   "mimetype": "text/x-python",
   "codemirror_mode": {
    "name": "ipython",
    "version": 3
   },
   "pygments_lexer": "ipython3",
   "nbconvert_exporter": "python",
   "file_extension": ".py"
  },
  "kernelspec": {
   "name": "python3",
   "display_name": "Python 3.8.10 64-bit ('base': conda)"
  },
  "interpreter": {
   "hash": "1d035ca4c615712529cad3b6e5fc713bfde17604927854c7aa1c8a6d2be7af56"
  }
 },
 "nbformat": 4,
 "nbformat_minor": 2
}