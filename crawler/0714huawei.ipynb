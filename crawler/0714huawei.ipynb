{
 "metadata": {
  "language_info": {
   "codemirror_mode": {
    "name": "ipython",
    "version": 3
   },
   "file_extension": ".py",
   "mimetype": "text/x-python",
   "name": "python",
   "nbconvert_exporter": "python",
   "pygments_lexer": "ipython3",
   "version": "3.8.10"
  },
  "orig_nbformat": 4,
  "kernelspec": {
   "name": "python3",
   "display_name": "Python 3.8.10 64-bit ('Anaconda3')"
  },
  "interpreter": {
   "hash": "1d035ca4c615712529cad3b6e5fc713bfde17604927854c7aa1c8a6d2be7af56"
  }
 },
 "nbformat": 4,
 "nbformat_minor": 2,
 "cells": [
  {
   "cell_type": "code",
   "execution_count": 1,
   "metadata": {},
   "outputs": [],
   "source": [
    "import requests"
   ]
  },
  {
   "cell_type": "code",
   "execution_count": 2,
   "metadata": {},
   "outputs": [],
   "source": [
    "HEADERS={\n",
    "    \"User-Agent\":'Mozilla/5.0 (Windows NT 10.0; Win64; x64; rv:89.0) Gecko/20100101 Firefox/89.0',\n",
    "}"
   ]
  },
  {
   "cell_type": "code",
   "execution_count": 3,
   "metadata": {},
   "outputs": [],
   "source": [
    "response=requests.get('https://career.huawei.com/reccampportal/services/portal/portalpub/getJob/page/20/2?curPage=2&pageSize=20&jobType=2&jobFamClsCode=&searchText=&deptCode=&graduateItem=&deptCodes=&jobClass=&reqTime=1625714351667&jobTypes=&orderBy=ISS_STARTDATE_DESC_AND_IS_HOT_JOB', headers=HEADERS).json()"
   ]
  },
  {
   "cell_type": "code",
   "execution_count": 4,
   "metadata": {},
   "outputs": [
    {
     "output_type": "execute_result",
     "data": {
      "text/plain": [
       "179519"
      ]
     },
     "metadata": {},
     "execution_count": 4
    }
   ],
   "source": [
    "response['result'][0]['jobId']"
   ]
  },
  {
   "cell_type": "code",
   "execution_count": 5,
   "metadata": {},
   "outputs": [
    {
     "output_type": "stream",
     "name": "stdout",
     "text": [
      "782\n"
     ]
    }
   ],
   "source": [
    "job_ids=[]\n",
    "for pg in range(1, 41):\n",
    "    url=f'https://career.huawei.com/reccampportal/services/portal/portalpub/getJob/page/20/{pg}?curPage={pg}&pageSize=20&jobType=2&jobFamClsCode=&searchText=&deptCode=&graduateItem=&deptCodes=&jobClass=&jobTypes=&orderBy=ISS_STARTDATE_DESC_AND_IS_HOT_JOB'\n",
    "    response=requests.get(url, headers=HEADERS).json()\n",
    "    for job in response['result']:\n",
    "        job_ids.append(job['jobId'])\n",
    "print(len(job_ids))"
   ]
  },
  {
   "cell_type": "code",
   "execution_count": 8,
   "metadata": {
    "tags": []
   },
   "outputs": [
    {
     "output_type": "stream",
     "name": "stdout",
     "text": [
      "finish 0.0%\n",
      "finish 6.4%\n",
      "finish 12.8%\n",
      "finish 19.2%\n",
      "finish 25.6%\n",
      "finish 32.0%\n",
      "finish 38.4%\n",
      "finish 44.8%\n",
      "finish 51.2%\n",
      "finish 57.5%\n",
      "finish 63.9%\n",
      "finish 70.3%\n",
      "finish 76.7%\n",
      "finish 83.1%\n",
      "finish 89.5%\n",
      "finish 95.9%\n",
      "782\n"
     ]
    }
   ],
   "source": [
    "job_requires=[]\n",
    "for i, jobId in enumerate(job_ids):\n",
    "    url=f'https://career.huawei.com/reccampportal/services/portal/portalpub/getJobDetail?jobId={jobId}'\n",
    "    response=requests.get(url, headers=HEADERS).json()\n",
    "    job_requires.append((jobId, response['jobRequire']))\n",
    "    if i % 50==0:\n",
    "        print(f'finish {i/len(job_ids):.1%}')\n",
    "# history: 675\n",
    "print(len(job_requires))"
   ]
  },
  {
   "cell_type": "code",
   "execution_count": 7,
   "metadata": {},
   "outputs": [],
   "source": [
    "with open('data.txt', 'w', encoding='utf8') as file:\n",
    "    for jobId, jobRequire in job_requires:\n",
    "        if jobRequire.find('物理') !=-1:\n",
    "            url=f'https://career.huawei.com/reccampportal/portal5/campus-recruitment-detail.html?jobId={jobId}\\n'\n",
    "            file.write(url)"
   ]
  },
  {
   "cell_type": "code",
   "execution_count": null,
   "metadata": {},
   "outputs": [],
   "source": []
  }
 ]
}