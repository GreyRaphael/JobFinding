{
 "cells": [
  {
   "cell_type": "code",
   "execution_count": 5,
   "source": [
    "import requests\r\n",
    "from lxml import etree"
   ],
   "outputs": [],
   "metadata": {}
  },
  {
   "cell_type": "code",
   "execution_count": 2,
   "source": [
    "HEADERS={\r\n",
    "    \"User-Agent\":'Mozilla/5.0 (Windows NT 10.0; Win64; x64; rv:90.0) Gecko/20100101 Firefox/90.0',\r\n",
    "}"
   ],
   "outputs": [],
   "metadata": {}
  },
  {
   "cell_type": "code",
   "execution_count": 3,
   "source": [
    "res=requests.get('http://cicc.zhiye.com/xzzw/?c=1100&p=3%5E-1%2C1%5E-1&day=90&PageIndex=1&class=2', headers=HEADERS).text"
   ],
   "outputs": [],
   "metadata": {}
  },
  {
   "cell_type": "code",
   "execution_count": 6,
   "source": [
    "tree=etree.HTML(res)"
   ],
   "outputs": [],
   "metadata": {}
  },
  {
   "cell_type": "code",
   "execution_count": 7,
   "source": [
    "tree.xpath('//tr/td[1]/a/@href')"
   ],
   "outputs": [
    {
     "output_type": "execute_result",
     "data": {
      "text/plain": [
       "['/xzzwxq?jobId=150489255',\n",
       " '/xzzwxq?jobId=150488874',\n",
       " '/xzzwxq?jobId=150478791',\n",
       " '/xzzwxq?jobId=150481824',\n",
       " '/xzzwxq?jobId=150481812',\n",
       " '/xzzwxq?jobId=150481769',\n",
       " '/xzzwxq?jobId=150481767',\n",
       " '/xzzwxq?jobId=150481561',\n",
       " '/xzzwxq?jobId=150481461',\n",
       " '/xzzwxq?jobId=150481278']"
      ]
     },
     "metadata": {},
     "execution_count": 7
    }
   ],
   "metadata": {}
  },
  {
   "cell_type": "code",
   "execution_count": 8,
   "source": [
    "job_urls=[]\r\n",
    "for pg in range(1, 9):\r\n",
    "    url=f'http://cicc.zhiye.com/xzzw/?c=1100&p=3%5E-1%2C1%5E-1&day=90&PageIndex={pg}&class=2'\r\n",
    "    txt=requests.get(url, headers=HEADERS).text\r\n",
    "    tree=etree.HTML(txt)\r\n",
    "    job_urls+=tree.xpath('//tr/td[1]/a/@href')"
   ],
   "outputs": [],
   "metadata": {}
  },
  {
   "cell_type": "code",
   "execution_count": 9,
   "source": [
    "len(job_urls)"
   ],
   "outputs": [
    {
     "output_type": "execute_result",
     "data": {
      "text/plain": [
       "79"
      ]
     },
     "metadata": {},
     "execution_count": 9
    }
   ],
   "metadata": {}
  },
  {
   "cell_type": "code",
   "execution_count": 10,
   "source": [
    "real_urls=[f'http://cicc.zhiye.com{url}' for url in job_urls]"
   ],
   "outputs": [],
   "metadata": {}
  },
  {
   "cell_type": "code",
   "execution_count": 15,
   "source": [
    "final_data=[]\r\n",
    "for url in real_urls:\r\n",
    "    txt2=requests.get(url, headers=HEADERS).text\r\n",
    "    tree2=etree.HTML(txt2)\r\n",
    "    context=''.join(tree2.xpath('//div[@class=\"zwxq\"]//text()'))\r\n",
    "    final_data.append((url, context))"
   ],
   "outputs": [],
   "metadata": {}
  },
  {
   "cell_type": "code",
   "execution_count": 16,
   "source": [
    "len(final_data)"
   ],
   "outputs": [
    {
     "output_type": "execute_result",
     "data": {
      "text/plain": [
       "79"
      ]
     },
     "metadata": {},
     "execution_count": 16
    }
   ],
   "metadata": {}
  },
  {
   "cell_type": "code",
   "execution_count": 18,
   "source": [
    "for url, desc in final_data:\r\n",
    "    if '物理' in desc:\r\n",
    "        print(url)"
   ],
   "outputs": [
    {
     "output_type": "stream",
     "name": "stdout",
     "text": [
      "http://cicc.zhiye.com/xzzwxq?jobId=150481789\n",
      "http://cicc.zhiye.com/xzzwxq?jobId=150480416\n"
     ]
    }
   ],
   "metadata": {}
  },
  {
   "cell_type": "code",
   "execution_count": 19,
   "source": [
    "for url, desc in final_data:\r\n",
    "    if '量化' in desc:\r\n",
    "        print(url)"
   ],
   "outputs": [
    {
     "output_type": "stream",
     "name": "stdout",
     "text": [
      "http://cicc.zhiye.com/xzzwxq?jobId=150482585\n",
      "http://cicc.zhiye.com/xzzwxq?jobId=150481803\n",
      "http://cicc.zhiye.com/xzzwxq?jobId=150481789\n",
      "http://cicc.zhiye.com/xzzwxq?jobId=150481778\n",
      "http://cicc.zhiye.com/xzzwxq?jobId=150481273\n",
      "http://cicc.zhiye.com/xzzwxq?jobId=150480416\n",
      "http://cicc.zhiye.com/xzzwxq?jobId=150480234\n",
      "http://cicc.zhiye.com/xzzwxq?jobId=150479974\n"
     ]
    }
   ],
   "metadata": {}
  },
  {
   "cell_type": "code",
   "execution_count": null,
   "source": [],
   "outputs": [],
   "metadata": {}
  }
 ],
 "metadata": {
  "orig_nbformat": 4,
  "language_info": {
   "name": "python",
   "version": "3.8.11",
   "mimetype": "text/x-python",
   "codemirror_mode": {
    "name": "ipython",
    "version": 3
   },
   "pygments_lexer": "ipython3",
   "nbconvert_exporter": "python",
   "file_extension": ".py"
  },
  "kernelspec": {
   "name": "python3",
   "display_name": "Python 3.8.11 64-bit ('base': conda)"
  },
  "interpreter": {
   "hash": "1d035ca4c615712529cad3b6e5fc713bfde17604927854c7aa1c8a6d2be7af56"
  }
 },
 "nbformat": 4,
 "nbformat_minor": 2
}