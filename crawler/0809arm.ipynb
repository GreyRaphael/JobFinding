{
 "cells": [
  {
   "cell_type": "code",
   "execution_count": 1,
   "source": [
    "import requests"
   ],
   "outputs": [],
   "metadata": {}
  },
  {
   "cell_type": "code",
   "execution_count": 2,
   "source": [
    "HEADERS={\r\n",
    "    \"User-Agent\":'Mozilla/5.0 (Windows NT 10.0; Win64; x64; rv:90.0) Gecko/20100101 Firefox/90.0',\r\n",
    "}"
   ],
   "outputs": [],
   "metadata": {}
  },
  {
   "cell_type": "code",
   "execution_count": 3,
   "source": [
    "data={\"limit\":15,\"offset\":15,\"siteId\":885,\"orgId\":\"armchina\",\"site\":\"social\",\"needStat\":True}"
   ],
   "outputs": [],
   "metadata": {}
  },
  {
   "cell_type": "code",
   "execution_count": 4,
   "source": [
    "res=requests.post('https://app.mokahr.com/api/outer/ats-jc-apply/website/jobs', json=data, headers=HEADERS).json()"
   ],
   "outputs": [],
   "metadata": {}
  },
  {
   "cell_type": "code",
   "execution_count": 6,
   "source": [
    "res['data']['jobs'][0]"
   ],
   "outputs": [
    {
     "output_type": "execute_result",
     "data": {
      "text/plain": [
       "{'attributeId': 1118,\n",
       " 'campusSites': [],\n",
       " 'commitment': '全职',\n",
       " 'createdAt': '2021-08-02T17:57:50',\n",
       " 'deptId': 19432,\n",
       " 'hireMode': 1,\n",
       " 'id': '73bfb1fe-fcc8-4c76-8d28-7e3bf50baa7f',\n",
       " 'locations': [{'address': '北四环西路58号北京理想国际大厦913-917',\n",
       "   'cityId': 110108,\n",
       "   'country': '中国',\n",
       "   'id': 19477},\n",
       "  {'address': '田林路1016号科技绿洲三期11号楼',\n",
       "   'cityId': 310112,\n",
       "   'country': '中国',\n",
       "   'id': 16389}],\n",
       " 'mjCode': 'MJ000779',\n",
       " 'openedAt': '2021-08-02T00:00',\n",
       " 'orgId': 'armchina',\n",
       " 'prior': 1,\n",
       " 'publishedAt': '2021-08-04T14:01:46',\n",
       " 'recommendationBonus': 0,\n",
       " 'showCampusSites': False,\n",
       " 'showIsCampus': False,\n",
       " 'status': 'open',\n",
       " 'title': 'Partner Program Manager',\n",
       " 'updatedAt': '2021-08-04T14:01:45',\n",
       " 'zhineng': {'id': 11012, 'name': 'Customer Service '}}"
      ]
     },
     "metadata": {},
     "execution_count": 6
    }
   ],
   "metadata": {}
  },
  {
   "cell_type": "code",
   "execution_count": 7,
   "source": [
    "job_ids=[]\r\n",
    "for pg in range(0, 80, 15):\r\n",
    "    JData={\"limit\":15,\"offset\":pg,\"siteId\":885,\"orgId\":\"armchina\",\"site\":\"social\",\"needStat\":True}\r\n",
    "    response=requests.post('https://app.mokahr.com/api/outer/ats-jc-apply/website/jobs', json=JData, headers=HEADERS).json()\r\n",
    "    for job in response['data']['jobs']:\r\n",
    "        job_ids.append(job['id'])\r\n",
    "\r\n",
    "print(len(job_ids))"
   ],
   "outputs": [
    {
     "output_type": "stream",
     "name": "stdout",
     "text": [
      "77\n"
     ]
    }
   ],
   "metadata": {}
  },
  {
   "cell_type": "code",
   "execution_count": 8,
   "source": [
    "jobs=[]\r\n",
    "for jobId in job_ids:\r\n",
    "    JData2={\"orgId\":\"armchina\",\"jobId\":jobId,\"siteId\":885}\r\n",
    "    response2=requests.post('https://app.mokahr.com/api/outer/ats-jc-apply/website/job', json=JData2, headers=HEADERS).json()\r\n",
    "    url=f'https://app.mokahr.com/apply/armchina/885#/job/{jobId}'\r\n",
    "    jobDesc=response2['data']['jobDescription']\r\n",
    "    jobs.append((url, jobDesc))"
   ],
   "outputs": [],
   "metadata": {}
  },
  {
   "cell_type": "code",
   "execution_count": 9,
   "source": [
    "for url, desc in jobs:\r\n",
    "    if 'physics' in desc.lower():\r\n",
    "        print(url)"
   ],
   "outputs": [
    {
     "output_type": "stream",
     "name": "stdout",
     "text": [
      "https://app.mokahr.com/apply/armchina/885#/job/d76736b4-f177-4c50-87a7-dce2b9becce1\n"
     ]
    }
   ],
   "metadata": {}
  },
  {
   "cell_type": "code",
   "execution_count": null,
   "source": [],
   "outputs": [],
   "metadata": {}
  }
 ],
 "metadata": {
  "orig_nbformat": 4,
  "language_info": {
   "name": "python",
   "version": "3.8.11",
   "mimetype": "text/x-python",
   "codemirror_mode": {
    "name": "ipython",
    "version": 3
   },
   "pygments_lexer": "ipython3",
   "nbconvert_exporter": "python",
   "file_extension": ".py"
  },
  "kernelspec": {
   "name": "python3",
   "display_name": "Python 3.8.11 64-bit ('base': conda)"
  },
  "interpreter": {
   "hash": "1d035ca4c615712529cad3b6e5fc713bfde17604927854c7aa1c8a6d2be7af56"
  }
 },
 "nbformat": 4,
 "nbformat_minor": 2
}