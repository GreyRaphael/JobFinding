{
 "cells": [
  {
   "cell_type": "code",
   "execution_count": 1,
   "source": [
    "import requests"
   ],
   "outputs": [],
   "metadata": {}
  },
  {
   "cell_type": "code",
   "execution_count": 2,
   "source": [
    "HEADERS={\r\n",
    "'User-Agent': 'Mozilla/5.0 (Windows NT 10.0; Win64; x64; rv:92.0) Gecko/20100101 Firefox/92.0',\r\n",
    "}"
   ],
   "outputs": [],
   "metadata": {}
  },
  {
   "cell_type": "code",
   "execution_count": 3,
   "source": [
    "res=requests.get('http://efunds.hotjob.cn/wt/efunds/web/json/position/list?operational=8b18f01905a189cf899b20a557d70719ea7c9359628c96fe37695d206e2a9155ab3c324115128ffbe21338ffae00d3ce785366c22f9b6b04e09798dc5ae3e224&positionType=&comPart=&sicCorpCode=&brandCode=1&releaseTime=0&trademark=0&useForm=&recruitType=1&projectId=&lanType=1&positionName=&workPlace=0%252F4%252F7%252F9&keyWord=&xuanJiangStr=&site=&page=2', headers=HEADERS).json()"
   ],
   "outputs": [],
   "metadata": {}
  },
  {
   "cell_type": "code",
   "execution_count": 5,
   "source": [
    "res['postList'][0]"
   ],
   "outputs": [
    {
     "output_type": "execute_result",
     "data": {
      "text/plain": [
       "{'recommendStarOfIr': None,\n",
       " 'education': '硕士研究生',\n",
       " 'serviceCondition': '1.具有海内外一流大学硕士及以上教育背景，心理学、视觉传达、人机交互、广告学以及相关专业；\\r<br>2.有独立设计能力，构图与美术功底扎实，能够独立设计主视觉，且可领导团队完成完整项目；\\r<br>3.了解专业用户研究方法，能够结合业务场景进行用户分析，与视觉及交互设计师配合进行平台系统设计工作；\\r<br>4.良好的沟通与团队协作精神，对设计创新有热情和责任感，对前沿设计有敏锐的洞察力和领悟能力。',\n",
       " 'endDate': '2022-08-31',\n",
       " 'workContent': '1. 负责金融科技体系内平台系统相关界面的规范制定及视觉设计工作，承担从需求沟通到设计执行流程的工作及指导；\\r<br>2. 从用户角度出发，探索并不断优化内外部产品视觉体验；从行业出发，探索行业未来视觉方面的发展及演化；\\r<br>3. 推进用户体验方面研究成果转化与解决方案研发，提供与品牌调性统一的设计方案并保证输出质量。',\n",
       " 'publishDate': '2021-08-31',\n",
       " 'isLongTermRelease': 0,\n",
       " 'importPost': 0,\n",
       " 'orgId': 101203,\n",
       " 'postIdToken': 'de446064c82dbc1a',\n",
       " 'postName': '用户体验设计师',\n",
       " 'outerRecruit': None,\n",
       " 'recruitNum': '若干',\n",
       " 'workPlace': '广州市,北京市',\n",
       " 'postTypeCode': '0/1227/100107',\n",
       " 'orgName': '易方达基金管理有限公司',\n",
       " 'postType': '金融科技',\n",
       " 'recruitType': 1,\n",
       " 'lastEditDate': None,\n",
       " 'deptOrgName': '创新研究中心',\n",
       " 'hiddenSiteApply': 1,\n",
       " 'postId': 209319,\n",
       " 'postSyncToXiaojianren': 1,\n",
       " 'workPlaceCode': '0/4/396/397,0/4/7/9',\n",
       " 'workType': '全职'}"
      ]
     },
     "metadata": {},
     "execution_count": 5
    }
   ],
   "metadata": {}
  },
  {
   "cell_type": "code",
   "execution_count": 7,
   "source": [
    "job_list=[]\r\n",
    "for pg in range(1, 3):\r\n",
    "    url=f'http://efunds.hotjob.cn/wt/efunds/web/json/position/list?operational=8b18f01905a189cf899b20a557d70719ea7c9359628c96fe37695d206e2a9155ab3c324115128ffbe21338ffae00d3ce785366c22f9b6b04e09798dc5ae3e224&positionType=&comPart=&sicCorpCode=&brandCode=1&releaseTime=0&trademark=0&useForm=&recruitType=1&projectId=&lanType=1&positionName=&workPlace=0%252F4%252F7%252F9&keyWord=&xuanJiangStr=&site=&page={pg}'\r\n",
    "    response=requests.get(url, headers=HEADERS).json()\r\n",
    "    for job in response['postList']:\r\n",
    "        job_list.append((job['postId'], job['serviceCondition']+job['workContent']))"
   ],
   "outputs": [],
   "metadata": {}
  },
  {
   "cell_type": "code",
   "execution_count": 9,
   "source": [
    "for pos_id, desc in job_list:\r\n",
    "    if '物理' in desc or '理工' in desc:\r\n",
    "        url=f'http://efunds.hotjob.cn/wt/efunds/web/index/webPositionN300!getOnePosition?postId={pos_id}&recruitType=1&brandCode=1&columnId=1&importPost=0'\r\n",
    "        print(url)"
   ],
   "outputs": [
    {
     "output_type": "stream",
     "name": "stdout",
     "text": [
      "http://efunds.hotjob.cn/wt/efunds/web/index/webPositionN300!getOnePosition?postId=209303&recruitType=1&brandCode=1&columnId=1&importPost=0\n",
      "http://efunds.hotjob.cn/wt/efunds/web/index/webPositionN300!getOnePosition?postId=209310&recruitType=1&brandCode=1&columnId=1&importPost=0\n"
     ]
    }
   ],
   "metadata": {}
  },
  {
   "cell_type": "code",
   "execution_count": null,
   "source": [],
   "outputs": [],
   "metadata": {}
  }
 ],
 "metadata": {
  "orig_nbformat": 4,
  "language_info": {
   "name": "python",
   "version": "3.8.11",
   "mimetype": "text/x-python",
   "codemirror_mode": {
    "name": "ipython",
    "version": 3
   },
   "pygments_lexer": "ipython3",
   "nbconvert_exporter": "python",
   "file_extension": ".py"
  },
  "kernelspec": {
   "name": "python3",
   "display_name": "Python 3.8.11 64-bit ('base': conda)"
  },
  "interpreter": {
   "hash": "1d035ca4c615712529cad3b6e5fc713bfde17604927854c7aa1c8a6d2be7af56"
  }
 },
 "nbformat": 4,
 "nbformat_minor": 2
}