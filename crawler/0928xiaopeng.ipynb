{
 "cells": [
  {
   "cell_type": "code",
   "execution_count": 1,
   "source": [
    "import requests"
   ],
   "outputs": [],
   "metadata": {}
  },
  {
   "cell_type": "code",
   "execution_count": 2,
   "source": [
    "HEADERS={\r\n",
    "    \"User-Agent\":'Mozilla/5.0 (Windows NT 10.0; Win64; x64; rv:90.0) Gecko/20100101 Firefox/90.0',\r\n",
    "}"
   ],
   "outputs": [],
   "metadata": {}
  },
  {
   "cell_type": "code",
   "execution_count": 3,
   "source": [
    "jData={\"limit\":15,\"offset\":15,\"siteId\":22,\"orgId\":\"xiaopeng\",\"site\":\"campus\",\"locationIds\":[15851,98668,155976],\"needStat\":True}\r\n",
    "res=requests.post('https://app.mokahr.com/api/outer/ats-jc-apply/website/jobs', headers=HEADERS, json=jData).json()"
   ],
   "outputs": [],
   "metadata": {}
  },
  {
   "cell_type": "code",
   "execution_count": 5,
   "source": [
    "res['data']['jobs'][0]"
   ],
   "outputs": [
    {
     "output_type": "execute_result",
     "data": {
      "text/plain": [
       "{'attributeId': 792,\n",
       " 'campusSites': [],\n",
       " 'createdAt': '2021-08-13T19:26:56',\n",
       " 'customFields': {'38080': {'name': '所属中心', 'value': '互联网中心'},\n",
       "  '45172': {'name': '工作地', 'value': ''}},\n",
       " 'department': {'id': 4512, 'name': '互联网中心'},\n",
       " 'deptId': 4512,\n",
       " 'hireMode': 2,\n",
       " 'id': '62f72274-5329-400a-b534-46f06034e67b',\n",
       " 'locations': [{'address': '深圳湾科技生态园12栋B座51层（地铁9号线高新南站A出口扶梯到地面即达）',\n",
       "   'cityId': 440305,\n",
       "   'country': '中国',\n",
       "   'id': 112815},\n",
       "  {'address': '北四环西路67号 中关村国际创新大厦16层',\n",
       "   'cityId': 110108,\n",
       "   'country': '中国',\n",
       "   'id': 15851}],\n",
       " 'mjCode': 'MJ010041',\n",
       " 'openedAt': '2021-08-13T00:00',\n",
       " 'orgId': 'xiaopeng',\n",
       " 'prior': 1,\n",
       " 'publishedAt': '2021-08-17T17:05:01',\n",
       " 'recommendJobRankRulesReward': [],\n",
       " 'recommendRewardBaseRule': {'content': {'rewardStageWay': {'100': None,\n",
       "    '101': None,\n",
       "    '200': None,\n",
       "    '201': None,\n",
       "    'INTERVIEW_SIGNIN': None,\n",
       "    'CORRECTED': None,\n",
       "    'HIRED': None,\n",
       "    'SHIGONG': None,\n",
       "    'SEND_OFFER': None},\n",
       "   'way': 1,\n",
       "   'setting': {'100': '',\n",
       "    '101': None,\n",
       "    '200': '2',\n",
       "    '201': 5,\n",
       "    'INTERVIEW_SIGNIN': None,\n",
       "    'CORRECTED': None,\n",
       "    'HIRED': None,\n",
       "    'SHIGONG': None,\n",
       "    'SEND_OFFER': 10}},\n",
       "  'deactivated': False,\n",
       "  'description': '',\n",
       "  'hireMode': 2,\n",
       "  'id': 35529,\n",
       "  'isOptimizedDeptIds': False,\n",
       "  'name': '基础规则',\n",
       "  'type': 0},\n",
       " 'recommendationBonus': 0,\n",
       " 'showCampusSites': False,\n",
       " 'showIsCampus': False,\n",
       " 'status': 'open',\n",
       " 'title': '【22届校招】互联网中心-NLP算法工程师（多模态预训练方向）',\n",
       " 'updatedAt': '2021-09-16T11:38:07',\n",
       " 'zhineng': {'id': 67080, 'name': '校招-智能座舱方向'}}"
      ]
     },
     "metadata": {},
     "execution_count": 5
    }
   ],
   "metadata": {}
  },
  {
   "cell_type": "code",
   "execution_count": 7,
   "source": [
    "jobIds=[]\r\n",
    "for pg in range(0, 50, 15):\r\n",
    "    jData={\"limit\":15,\"offset\":pg,\"siteId\":22,\"orgId\":\"xiaopeng\",\"site\":\"campus\",\"locationIds\":[15851,98668,155976],\"needStat\":True}\r\n",
    "    response=requests.post('https://app.mokahr.com/api/outer/ats-jc-apply/website/jobs', headers=HEADERS, json=jData).json()\r\n",
    "    for job in response['data']['jobs']:\r\n",
    "        jobIds.append(job['id'])"
   ],
   "outputs": [],
   "metadata": {}
  },
  {
   "cell_type": "code",
   "execution_count": 8,
   "source": [
    "len(jobIds)"
   ],
   "outputs": [
    {
     "output_type": "execute_result",
     "data": {
      "text/plain": [
       "37"
      ]
     },
     "metadata": {},
     "execution_count": 8
    }
   ],
   "metadata": {}
  },
  {
   "cell_type": "code",
   "execution_count": 9,
   "source": [
    "jobs=[]\r\n",
    "for job_id in jobIds:\r\n",
    "    jData2={\"orgId\":\"xiaopeng\",\"jobId\":job_id,\"siteId\":22}\r\n",
    "    response2=requests.post('https://app.mokahr.com/api/outer/ats-jc-apply/website/job', headers=HEADERS, json=jData2).json()\r\n",
    "    jobs.append((job_id, response2['data']['jobDescription']))"
   ],
   "outputs": [],
   "metadata": {}
  },
  {
   "cell_type": "code",
   "execution_count": 10,
   "source": [
    "jobs[1]"
   ],
   "outputs": [
    {
     "output_type": "execute_result",
     "data": {
      "text/plain": [
       "('da7cc05b-b426-4c58-b341-d3862f85b08b',\n",
       " '<p>【岗位职责】：</p><p>1、智能交互推荐类业务核心技术算法与产品化的研发；</p><p>2、相关前沿技术的跟踪和预研工作。</p><p>【任职要求】：</p><p>1、2021届或2022届优秀毕业生，全日制本科（或硕士）及以上学历，计算机相关专业；</p><p>2、数学基础好，具备良好的数据结构和算法基础，有扎实的Python、Java或C++代码能力；</p><p>3、至少熟悉一种深度学习架构（TensorFlow,Caffe,PyTorch,orCNTK）；</p><p>4、熟悉常用的自然语言处理、机器学习、数据挖掘算法；</p><p>5、有自然语言处理、搜索或推荐业务的相关项目经验；</p><p>6、善于学习，自驱力强，结果导向，抗压性强。</p><p> </p><p> </p><p> </p><p> </p><p> </p><p> </p><p> </p><p> </p><p> </p><p> </p><p> </p><p> </p><p> </p>')"
      ]
     },
     "metadata": {},
     "execution_count": 10
    }
   ],
   "metadata": {}
  },
  {
   "cell_type": "code",
   "execution_count": 13,
   "source": [
    "for job_id, desc in jobs:\r\n",
    "    if '物理' in desc:\r\n",
    "        url=f'https://app.mokahr.com/campus_apply/xiaopeng/22#/job/{job_id}'\r\n",
    "        print(url)"
   ],
   "outputs": [],
   "metadata": {}
  },
  {
   "cell_type": "code",
   "execution_count": null,
   "source": [],
   "outputs": [],
   "metadata": {}
  }
 ],
 "metadata": {
  "orig_nbformat": 4,
  "language_info": {
   "name": "python",
   "version": "3.8.11",
   "mimetype": "text/x-python",
   "codemirror_mode": {
    "name": "ipython",
    "version": 3
   },
   "pygments_lexer": "ipython3",
   "nbconvert_exporter": "python",
   "file_extension": ".py"
  },
  "kernelspec": {
   "name": "python3",
   "display_name": "Python 3.8.11 64-bit ('base': conda)"
  },
  "interpreter": {
   "hash": "1d035ca4c615712529cad3b6e5fc713bfde17604927854c7aa1c8a6d2be7af56"
  }
 },
 "nbformat": 4,
 "nbformat_minor": 2
}