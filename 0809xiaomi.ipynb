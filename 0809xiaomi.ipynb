{
 "cells": [
  {
   "cell_type": "code",
   "execution_count": 1,
   "source": [
    "import requests"
   ],
   "outputs": [],
   "metadata": {}
  },
  {
   "cell_type": "code",
   "execution_count": 2,
   "source": [
    "HEADERS={\r\n",
    "    \"User-Agent\":'Mozilla/5.0 (Windows NT 10.0; Win64; x64; rv:90.0) Gecko/20100101 Firefox/90.0',\r\n",
    "}"
   ],
   "outputs": [],
   "metadata": {}
  },
  {
   "cell_type": "code",
   "execution_count": 3,
   "source": [
    "data={\"limit\":15,\"offset\":0,\"commitment\":\"全职\",\"siteId\":286,\"orgId\":\"xiaomi\",\"site\":\"campus\",\"needStat\":True}"
   ],
   "outputs": [],
   "metadata": {}
  },
  {
   "cell_type": "code",
   "execution_count": 4,
   "source": [
    "res=requests.post('https://app.mokahr.com/api/outer/ats-jc-apply/website/jobs', json=data, headers=HEADERS).json()"
   ],
   "outputs": [],
   "metadata": {}
  },
  {
   "cell_type": "code",
   "execution_count": 7,
   "source": [
    "res['data']['jobs'][0]"
   ],
   "outputs": [
    {
     "output_type": "execute_result",
     "data": {
      "text/plain": [
       "{'attributeId': 791,\n",
       " 'brandIcon': 'https://public-cdn.mokahr.com/b86971f7-63b5-40a5-b0dd-dcfce75c81ab.png',\n",
       " 'campusSites': [],\n",
       " 'commitment': '全职',\n",
       " 'createdAt': '2021-07-29T19:47:17',\n",
       " 'deptId': 32942,\n",
       " 'hireMode': 2,\n",
       " 'id': '4bf647aa-fa53-419f-a77e-e80d1418eda6',\n",
       " 'locations': [{'address': '北京市',\n",
       "   'cityId': 110000,\n",
       "   'country': '中国',\n",
       "   'id': 33817},\n",
       "  {'address': '上海市', 'cityId': 310000, 'country': '中国', 'id': 33819}],\n",
       " 'mjCode': 'MJ029692',\n",
       " 'openedAt': '2021-07-28T00:00',\n",
       " 'orgId': 'xiaomi',\n",
       " 'prior': 1,\n",
       " 'publishedAt': '2021-08-06T14:30:43',\n",
       " 'recommendationBonus': 0,\n",
       " 'showCampusSites': False,\n",
       " 'showIsCampus': False,\n",
       " 'status': 'open',\n",
       " 'title': '未来星-视觉图像算法工程师-手机',\n",
       " 'updatedAt': '2021-08-06T14:30:42',\n",
       " 'zhineng': {'id': 5286, 'name': '软件研发类'}}"
      ]
     },
     "metadata": {},
     "execution_count": 7
    }
   ],
   "metadata": {}
  },
  {
   "cell_type": "code",
   "execution_count": 9,
   "source": [
    "job_ids=[]\r\n",
    "for pg in range(0, 315, 15):\r\n",
    "    JData={\"limit\":15,\"offset\": pg,\"commitment\":\"全职\",\"siteId\":286,\"orgId\":\"xiaomi\",\"site\":\"campus\",\"needStat\":True}\r\n",
    "    response=requests.post('https://app.mokahr.com/api/outer/ats-jc-apply/website/jobs', json=JData, headers=HEADERS).json()\r\n",
    "    for job in response['data']['jobs']:\r\n",
    "        job_ids.append(job['id'])"
   ],
   "outputs": [],
   "metadata": {}
  },
  {
   "cell_type": "code",
   "execution_count": 10,
   "source": [
    "len(job_ids)"
   ],
   "outputs": [
    {
     "output_type": "execute_result",
     "data": {
      "text/plain": [
       "304"
      ]
     },
     "metadata": {},
     "execution_count": 10
    }
   ],
   "metadata": {}
  },
  {
   "cell_type": "code",
   "execution_count": 11,
   "source": [
    "jobs=[]\r\n",
    "for jobId in job_ids:\r\n",
    "    JData2={\"orgId\":\"xiaomi\",\"jobId\":jobId,\"siteId\":286}\r\n",
    "    response2=requests.post('https://app.mokahr.com/api/outer/ats-jc-apply/website/job', json=JData2, headers=HEADERS).json()\r\n",
    "    jobs.append((jobId, response2['data']['jobDescription']))"
   ],
   "outputs": [],
   "metadata": {}
  },
  {
   "cell_type": "code",
   "execution_count": 12,
   "source": [
    "for jobId, jobDesc in jobs:\r\n",
    "    if '物理' in jobDesc:\r\n",
    "        url=f'https://app.mokahr.com/campus_apply/xiaomi/286#/job/{jobId}'\r\n",
    "        print(url)"
   ],
   "outputs": [
    {
     "output_type": "stream",
     "name": "stdout",
     "text": [
      "https://app.mokahr.com/campus_apply/xiaomi/286#/job/b0c8f8cf-8462-46ba-abfd-ca5054b04eae\n",
      "https://app.mokahr.com/campus_apply/xiaomi/286#/job/cbbd6072-7c21-4baa-a5f2-9e02c6d73457\n",
      "https://app.mokahr.com/campus_apply/xiaomi/286#/job/4d5b0be4-9586-4710-bf4b-51d0e2b6a311\n",
      "https://app.mokahr.com/campus_apply/xiaomi/286#/job/4e4de1bf-07fd-4fcd-bd28-b37d9e5aadd6\n",
      "https://app.mokahr.com/campus_apply/xiaomi/286#/job/61db1bf5-e4a4-4a4c-871b-bffb2edbbf31\n",
      "https://app.mokahr.com/campus_apply/xiaomi/286#/job/3f77ecd0-d77a-466e-92a4-a9277c2fd2c6\n",
      "https://app.mokahr.com/campus_apply/xiaomi/286#/job/edd8c62c-9a09-4bb8-a52a-8229d7ae9004\n",
      "https://app.mokahr.com/campus_apply/xiaomi/286#/job/b1a3cc07-7033-464b-ba5b-eec216a4ad5d\n",
      "https://app.mokahr.com/campus_apply/xiaomi/286#/job/e719e576-80dc-4940-93fb-01f2cf87a0c1\n",
      "https://app.mokahr.com/campus_apply/xiaomi/286#/job/837cb2bb-6e57-45b5-a1c3-5f93b185f691\n",
      "https://app.mokahr.com/campus_apply/xiaomi/286#/job/4d94ef00-eece-43b4-ba4b-639e397fa7d8\n",
      "https://app.mokahr.com/campus_apply/xiaomi/286#/job/866f6d05-f3ff-4141-998b-e47c27eb27a7\n",
      "https://app.mokahr.com/campus_apply/xiaomi/286#/job/6cc2e4cc-607c-496e-b1bb-39c4f67fcbc1\n",
      "https://app.mokahr.com/campus_apply/xiaomi/286#/job/ff0bc5a6-777f-4ccf-bf86-bd1596130594\n",
      "https://app.mokahr.com/campus_apply/xiaomi/286#/job/41ef7361-9504-4c21-9c9b-4d53d080e4e2\n",
      "https://app.mokahr.com/campus_apply/xiaomi/286#/job/fcf0a2fb-b15a-4bfb-a716-5ed34a4e5d1d\n",
      "https://app.mokahr.com/campus_apply/xiaomi/286#/job/c51db430-aa5a-41f9-9cdf-c153cbf600f8\n",
      "https://app.mokahr.com/campus_apply/xiaomi/286#/job/380c1376-b6bd-427d-a6cf-533ebac6bb46\n",
      "https://app.mokahr.com/campus_apply/xiaomi/286#/job/d9d65737-0603-492d-ad24-9accdb29d242\n"
     ]
    }
   ],
   "metadata": {}
  },
  {
   "cell_type": "code",
   "execution_count": null,
   "source": [],
   "outputs": [],
   "metadata": {}
  }
 ],
 "metadata": {
  "orig_nbformat": 4,
  "language_info": {
   "name": "python",
   "version": "3.8.11",
   "mimetype": "text/x-python",
   "codemirror_mode": {
    "name": "ipython",
    "version": 3
   },
   "pygments_lexer": "ipython3",
   "nbconvert_exporter": "python",
   "file_extension": ".py"
  },
  "kernelspec": {
   "name": "python3",
   "display_name": "Python 3.8.11 64-bit ('base': conda)"
  },
  "interpreter": {
   "hash": "1d035ca4c615712529cad3b6e5fc713bfde17604927854c7aa1c8a6d2be7af56"
  }
 },
 "nbformat": 4,
 "nbformat_minor": 2
}