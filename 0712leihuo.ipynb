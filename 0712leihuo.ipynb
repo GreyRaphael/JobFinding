{
 "metadata": {
  "language_info": {
   "codemirror_mode": {
    "name": "ipython",
    "version": 3
   },
   "file_extension": ".py",
   "mimetype": "text/x-python",
   "name": "python",
   "nbconvert_exporter": "python",
   "pygments_lexer": "ipython3",
   "version": "3.8.10"
  },
  "orig_nbformat": 4,
  "kernelspec": {
   "name": "python3",
   "display_name": "Python 3.8.10 64-bit ('base': conda)"
  },
  "interpreter": {
   "hash": "1d035ca4c615712529cad3b6e5fc713bfde17604927854c7aa1c8a6d2be7af56"
  }
 },
 "nbformat": 4,
 "nbformat_minor": 2,
 "cells": [
  {
   "cell_type": "code",
   "execution_count": 1,
   "metadata": {},
   "outputs": [],
   "source": [
    "import requests"
   ]
  },
  {
   "cell_type": "code",
   "execution_count": 2,
   "metadata": {},
   "outputs": [],
   "source": [
    "HEADERS={\n",
    "'User-Agent': 'Mozilla/5.0 (Windows NT 10.0; Win64; x64; rv:89.0) Gecko/20100101 Firefox/89.0',\n",
    "}"
   ]
  },
  {
   "cell_type": "code",
   "execution_count": 3,
   "metadata": {},
   "outputs": [],
   "source": [
    "response=requests.get('https://consumemgr.leihuo.netease.com/api/apply/job/list/show?job_name=&page_size=10&page_number=2&job_apply_category=&job_apply_high_need=0&project_id=38', headers=HEADERS).json()"
   ]
  },
  {
   "cell_type": "code",
   "execution_count": 4,
   "metadata": {},
   "outputs": [
    {
     "output_type": "execute_result",
     "data": {
      "text/plain": [
       "10"
      ]
     },
     "metadata": {},
     "execution_count": 4
    }
   ],
   "source": [
    "len(response['data']['apply_job_list'])"
   ]
  },
  {
   "cell_type": "code",
   "execution_count": 5,
   "metadata": {},
   "outputs": [
    {
     "output_type": "execute_result",
     "data": {
      "text/plain": [
       "{'job_name': '技术音频工程师',\n",
       " 'job_description': '1. 研究游戏项目中音频内容制作的各项工具使用。\\n2. 熟悉并研究游戏引擎及音频中间件的各项功能使用，并能独立或协助将相关API集成到开发工具中。\\n3. 充分了解音频各环节开发中的需求和问题，提供足够的技术支持。\\n4. 为创建和优化音频资源开发的流程和规范提供技术性支持。\\n5. 为达到更好的游戏音频效果，及时的做出有效的技术研究工作。\\n6. 根据项目开发中策划、音频和程序的变化，不断性维护游戏音频内容开发流程、规范，以及引擎工具的使用。\\n7. 编写和维护游戏引擎与音频中间件对接功能使用、游戏音频资源开发的技术文档。\\n8. 设计程序以实现新的音频制作管线、并编写相应的接口规范文档。',\n",
       " 'job_requirement': '1. 有较好的音频（音效或配乐）专业能力，有较高的审美能力，对游戏音频各类资源开发的流程和规范有较深入的了解（有丰富经验者优先）。\\n2. 对策划及程序的工作方式有足够的了解，能较好地与策划和程序进行项目协同开发，协助解决音频和程序间的技术问题。\\n3. 能够与团队中各部门职员保持较好的沟通协作状态，有较好的逻辑思维能力，善于管理与自我管理，有较强的自主能动力。\\n4. 对计算机技术有深入了解，并精通至少一种编程语言，如：C++、C#、Python、JavaScript、Lua等。\\n5. 精通至少一种主流音频中间件及其SDK，如：Wwise、FmodStudio等。\\n6. 精通至少一种主流游戏开发引擎,如：UnrealEngine、CryEngine、Unity3D等。\\n7. 熟悉至少一种音频内容制作工具，包括：ProTools、Cubase、Logic等。\\n8. 对常用平台（如Windows、Android、IOS）和环境下的音频架构有基本了解。\\n9. 对音频制作自动化，智能化，及优化音频管线及表现力有强烈兴趣的优先。\\n10.熟悉一款跨平台音频开发框架，如：JUCE、OpenAL、WDL者优先。\\n11.熟悉一款音频合成环境或音频编程语言，如：ChucK、CSound、Reaktor、Pure Data、Max/Msp者优先。\\n12.熟悉音频DSP，音频合成算法，或机器学习算法者优先。\\n13.熟悉Midi协议、常用音频文件编码格式、VST等开发者优先。\\n14.阅读过任意上述软件的代码，并能对框架代码进行剪裁、优化、扩展和集成者优先。',\n",
       " 'ehr_job_id': '1326',\n",
       " 'ehr_project_id': '38',\n",
       " 'ehr_job_category': 1,\n",
       " 'is_high_need': 0,\n",
       " 'ehr_job_type': 1,\n",
       " 'type_name': '全职',\n",
       " 'target': '2022届毕业生',\n",
       " 'category_name': '技术类',\n",
       " 'department_name': ['雷火事业群'],\n",
       " 'work_place_name': '杭州',\n",
       " 'job_detail_url': 'https://campus.163.com/app/detail/index?id=1326&projectId=38'}"
      ]
     },
     "metadata": {},
     "execution_count": 5
    }
   ],
   "source": [
    "response['data']['apply_job_list'][0]"
   ]
  },
  {
   "cell_type": "code",
   "execution_count": 6,
   "metadata": {},
   "outputs": [
    {
     "output_type": "stream",
     "name": "stdout",
     "text": [
      "80\n"
     ]
    }
   ],
   "source": [
    "job_list=[]\n",
    "for pg in range(1, 9):\n",
    "    url=f'https://consumemgr.leihuo.netease.com/api/apply/job/list/show?job_name=&page_size=10&page_number={pg}&job_apply_category=&job_apply_high_need=0&project_id=38'\n",
    "    response=requests.get(url, headers=HEADERS).json()\n",
    "    for job in response['data']['apply_job_list']:\n",
    "        job_list.append((job['job_detail_url'], job['job_requirement']))\n",
    "print(len(job_list))"
   ]
  },
  {
   "cell_type": "code",
   "execution_count": 7,
   "metadata": {},
   "outputs": [
    {
     "output_type": "stream",
     "name": "stdout",
     "text": [
      "https://campus.163.com/app/detail/index?id=1307&projectId=38\nhttps://campus.163.com/app/detail/index?id=1306&projectId=38\nhttps://campus.163.com/app/detail/index?id=1356&projectId=38\nhttps://campus.163.com/app/detail/index?id=1391&projectId=38\nhttps://campus.163.com/app/detail/index?id=1387&projectId=38\n"
     ]
    }
   ],
   "source": [
    "for url, job in job_list:\n",
    "    if job.find('物理')!=-1 or job.find('理工')!=-1:\n",
    "        print(url)"
   ]
  },
  {
   "cell_type": "code",
   "execution_count": 8,
   "metadata": {},
   "outputs": [],
   "source": [
    "with open('data.txt','w', encoding='utf8') as file:\n",
    "    for url, _ in job_list:\n",
    "        file.write(url)\n",
    "        file.write('\\n')"
   ]
  },
  {
   "cell_type": "code",
   "execution_count": null,
   "metadata": {},
   "outputs": [],
   "source": []
  }
 ]
}