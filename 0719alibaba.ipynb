{
 "metadata": {
  "language_info": {
   "codemirror_mode": {
    "name": "ipython",
    "version": 3
   },
   "file_extension": ".py",
   "mimetype": "text/x-python",
   "name": "python",
   "nbconvert_exporter": "python",
   "pygments_lexer": "ipython3",
   "version": "3.8.10"
  },
  "orig_nbformat": 4,
  "kernelspec": {
   "name": "python3",
   "display_name": "Python 3.8.10 64-bit ('Anaconda3')"
  },
  "interpreter": {
   "hash": "1d035ca4c615712529cad3b6e5fc713bfde17604927854c7aa1c8a6d2be7af56"
  }
 },
 "nbformat": 4,
 "nbformat_minor": 2,
 "cells": [
  {
   "cell_type": "code",
   "execution_count": 1,
   "metadata": {},
   "outputs": [],
   "source": [
    "import requests"
   ]
  },
  {
   "cell_type": "code",
   "execution_count": 6,
   "metadata": {},
   "outputs": [],
   "source": [
    "HEADERS={\n",
    "\"Host\":\"talent.alibaba.com\",\n",
    "\"User-Agent\":\"Mozilla/5.0 (Windows NT 10.0; Win64; x64; rv:90.0) Gecko/20100101 Firefox/90.0\",\n",
    "\"Accept\":\"application/json, text/json\",\n",
    "\"Accept-Language\":\"en-US,en;q=0.5\",\n",
    "\"Accept-Encoding\":\"gzip, deflate, br\",\n",
    "\"X-Requested-With\":\"XMLHttpRequest\",\n",
    "\"Content-Type\":\"application/json;charset=UTF-8\",\n",
    "\"Content-Length\":\"155\",\n",
    "\"Origin\":\"https://talent.alibaba.com\",\n",
    "\"Connection\":\"keep-alive\",\n",
    "\"Referer\":\"https://talent.alibaba.com/campus-list/?type=freshman\",\n",
    "\"Cookie\":\"isg=BENDtdUlJ19QkdV1zPHRCN8C0QftuNf6fzKKrXUgeaIkNGdW_YsTSBzirkx6jy_y; l=eBSpdDt7QnfSi2fhBO5anurza77tfIRVGkPzaNbMiInca6T1TUuUtNCBPgEv7dtf_t5bWetrnksVedhMSR4_Wx9_PwJbwWUWUZ96Re1..; prefered-lang=zh; XSRF-TOKEN=17239e65-7a8f-47fb-bd8d-6a7edd5e7f71; SESSION=ODkyMjkxQTg1QzM3RjU3NDc3MTkxMzA5OTg3NkI5OUY=\",\n",
    "\"Sec-Fetch-Dest\":\"empty\",\n",
    "\"Sec-Fetch-Mode\":\"cors\",\n",
    "\"Sec-Fetch-Site\":\"same-origin\",\n",
    "\"TE\":\"trailers\",\n",
    "}"
   ]
  },
  {
   "cell_type": "code",
   "execution_count": 7,
   "metadata": {},
   "outputs": [],
   "source": [
    "json_data={\"categories\":\"freshman\",\"pageSize\":10,\"pageIndex\":2,\"channel\":\"campus_group_official_site\",\"language\":\"zh\",\"_csrf\":\"17239e65-7a8f-47fb-bd8d-6a7edd5e7f71\"}"
   ]
  },
  {
   "cell_type": "code",
   "execution_count": 11,
   "metadata": {},
   "outputs": [],
   "source": [
    "res=requests.post('https://talent.alibaba.com/position/search?_csrf=17239e65-7a8f-47fb-bd8d-6a7edd5e7f71&_api=nattyFetch&_mock=false&_stamp=1626690029867', json=json_data, headers=HEADERS).json()"
   ]
  },
  {
   "cell_type": "code",
   "execution_count": 13,
   "metadata": {},
   "outputs": [
    {
     "output_type": "execute_result",
     "data": {
      "text/plain": [
       "(12676,\n",
       " '1、2022届本科及以上学历，建筑工程及其他相关专业，英语可作为工作语言；\\r\\n2、知名公司物流规划类、大型商业综合体或公共建筑等相关项目实习经验；\\r\\n3、聪明、乐观、认真细致、自驱力强；\\r\\n4、认同阿里文化，愿意加入并一起为之奋斗。')"
      ]
     },
     "metadata": {},
     "execution_count": 13
    }
   ],
   "source": [
    "res['content']['datas'][0]['id'], res['content']['datas'][0]['requirement'], "
   ]
  },
  {
   "cell_type": "code",
   "execution_count": 14,
   "metadata": {},
   "outputs": [],
   "source": [
    "jobs=[]\n",
    "for pg in range(1, 13):\n",
    "    json_data=json_data={\"categories\":\"freshman\",\"pageSize\":10,\"pageIndex\":pg,\"channel\":\"campus_group_official_site\",\"language\":\"zh\",\"_csrf\":\"17239e65-7a8f-47fb-bd8d-6a7edd5e7f71\"}\n",
    "    response=requests.post('https://talent.alibaba.com/position/search?_csrf=17239e65-7a8f-47fb-bd8d-6a7edd5e7f71&_api=nattyFetch&_mock=false&_stamp=1626690029867', json=json_data, headers=HEADERS).json()\n",
    "    for job in response['content']['datas']:\n",
    "        jobs.append((job['id'], job['requirement']))"
   ]
  },
  {
   "cell_type": "code",
   "execution_count": 15,
   "metadata": {},
   "outputs": [
    {
     "output_type": "execute_result",
     "data": {
      "text/plain": [
       "113"
      ]
     },
     "metadata": {},
     "execution_count": 15
    }
   ],
   "source": [
    "len(jobs)"
   ]
  },
  {
   "cell_type": "code",
   "execution_count": 16,
   "metadata": {},
   "outputs": [
    {
     "output_type": "stream",
     "name": "stdout",
     "text": [
      "https://talent.alibaba.com/campus-position/12674\nhttps://talent.alibaba.com/campus-position/12719\nhttps://talent.alibaba.com/campus-position/12733\n"
     ]
    }
   ],
   "source": [
    "for jobId, job in jobs:\n",
    "    if '物理' in job or '理工' in job:\n",
    "        url=f'https://talent.alibaba.com/campus-position/{jobId}'\n",
    "        print(url)"
   ]
  },
  {
   "cell_type": "code",
   "execution_count": null,
   "metadata": {},
   "outputs": [],
   "source": []
  }
 ]
}