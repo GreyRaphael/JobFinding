{
 "cells": [
  {
   "cell_type": "code",
   "execution_count": 5,
   "source": [
    "import requests\r\n",
    "import re"
   ],
   "outputs": [],
   "metadata": {}
  },
  {
   "cell_type": "code",
   "execution_count": 2,
   "source": [
    "HEADERS={\r\n",
    "    \"User-Agent\":'Mozilla/5.0 (Windows NT 10.0; Win64; x64; rv:90.0) Gecko/20100101 Firefox/90.0',\r\n",
    "}"
   ],
   "outputs": [],
   "metadata": {}
  },
  {
   "cell_type": "code",
   "execution_count": 3,
   "source": [
    "res=requests.get('https://enn.zhiye.com/campus/?PageIndex=1', headers=HEADERS)"
   ],
   "outputs": [],
   "metadata": {}
  },
  {
   "cell_type": "code",
   "execution_count": 15,
   "source": [
    "pat=re.compile(r'zpdetail/(\\d+)\\?PageIndex=(\\d)')"
   ],
   "outputs": [],
   "metadata": {}
  },
  {
   "cell_type": "code",
   "execution_count": 17,
   "source": [
    "data=pat.findall(res.text)"
   ],
   "outputs": [],
   "metadata": {}
  },
  {
   "cell_type": "code",
   "execution_count": 18,
   "source": [
    "len(data)"
   ],
   "outputs": [
    {
     "output_type": "execute_result",
     "data": {
      "text/plain": [
       "30"
      ]
     },
     "metadata": {},
     "execution_count": 18
    }
   ],
   "metadata": {}
  },
  {
   "cell_type": "code",
   "execution_count": 20,
   "source": [
    "jobs=[]\r\n",
    "for pg in range(1, 9):\r\n",
    "    url=f'https://enn.zhiye.com/campus/?PageIndex={pg}'\r\n",
    "    response=requests.get(url, headers=HEADERS)\r\n",
    "    url_index=pat.findall(response.text)\r\n",
    "    for jobId, pageIndex in url_index:\r\n",
    "        detail_url=f'https://enn.zhiye.com/zpdetail/{jobId}?PageIndex={pageIndex}'\r\n",
    "        response2=requests.get(detail_url, headers=HEADERS).text\r\n",
    "        jobs.append((detail_url, response2))"
   ],
   "outputs": [],
   "metadata": {}
  },
  {
   "cell_type": "code",
   "execution_count": 21,
   "source": [
    "len(jobs)"
   ],
   "outputs": [
    {
     "output_type": "execute_result",
     "data": {
      "text/plain": [
       "216"
      ]
     },
     "metadata": {},
     "execution_count": 21
    }
   ],
   "metadata": {}
  },
  {
   "cell_type": "code",
   "execution_count": 22,
   "source": [
    "for url, detail in jobs:\r\n",
    "    if '物理' in detail:\r\n",
    "        print(url)"
   ],
   "outputs": [
    {
     "output_type": "stream",
     "name": "stdout",
     "text": [
      "https://enn.zhiye.com/zpdetail/270370471?PageIndex=1\n",
      "https://enn.zhiye.com/zpdetail/270370389?PageIndex=1\n",
      "https://enn.zhiye.com/zpdetail/270370338?PageIndex=2\n",
      "https://enn.zhiye.com/zpdetail/270370328?PageIndex=2\n",
      "https://enn.zhiye.com/zpdetail/270370211?PageIndex=2\n",
      "https://enn.zhiye.com/zpdetail/270369922?PageIndex=3\n",
      "https://enn.zhiye.com/zpdetail/270369712?PageIndex=5\n",
      "https://enn.zhiye.com/zpdetail/270369506?PageIndex=6\n",
      "https://enn.zhiye.com/zpdetail/270369346?PageIndex=6\n",
      "https://enn.zhiye.com/zpdetail/270369343?PageIndex=6\n",
      "https://enn.zhiye.com/zpdetail/270369342?PageIndex=6\n",
      "https://enn.zhiye.com/zpdetail/270369340?PageIndex=6\n",
      "https://enn.zhiye.com/zpdetail/270369338?PageIndex=6\n",
      "https://enn.zhiye.com/zpdetail/270369337?PageIndex=6\n",
      "https://enn.zhiye.com/zpdetail/270369302?PageIndex=6\n",
      "https://enn.zhiye.com/zpdetail/270369134?PageIndex=7\n",
      "https://enn.zhiye.com/zpdetail/270369132?PageIndex=7\n",
      "https://enn.zhiye.com/zpdetail/270369123?PageIndex=7\n",
      "https://enn.zhiye.com/zpdetail/270369118?PageIndex=7\n",
      "https://enn.zhiye.com/zpdetail/270369117?PageIndex=7\n",
      "https://enn.zhiye.com/zpdetail/270369116?PageIndex=7\n",
      "https://enn.zhiye.com/zpdetail/270369112?PageIndex=7\n",
      "https://enn.zhiye.com/zpdetail/270369111?PageIndex=7\n",
      "https://enn.zhiye.com/zpdetail/270369108?PageIndex=7\n"
     ]
    }
   ],
   "metadata": {}
  },
  {
   "cell_type": "code",
   "execution_count": null,
   "source": [],
   "outputs": [],
   "metadata": {}
  }
 ],
 "metadata": {
  "orig_nbformat": 4,
  "language_info": {
   "name": "python",
   "version": "3.8.11",
   "mimetype": "text/x-python",
   "codemirror_mode": {
    "name": "ipython",
    "version": 3
   },
   "pygments_lexer": "ipython3",
   "nbconvert_exporter": "python",
   "file_extension": ".py"
  },
  "kernelspec": {
   "name": "python3",
   "display_name": "Python 3.8.11 64-bit ('base': conda)"
  },
  "interpreter": {
   "hash": "1d035ca4c615712529cad3b6e5fc713bfde17604927854c7aa1c8a6d2be7af56"
  }
 },
 "nbformat": 4,
 "nbformat_minor": 2
}