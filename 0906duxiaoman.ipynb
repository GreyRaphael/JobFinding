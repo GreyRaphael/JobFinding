{
 "cells": [
  {
   "cell_type": "code",
   "execution_count": 1,
   "source": [
    "import requests"
   ],
   "outputs": [],
   "metadata": {}
  },
  {
   "cell_type": "code",
   "execution_count": 2,
   "source": [
    "HEADERS={\r\n",
    "    \"User-Agent\":'Mozilla/5.0 (Windows NT 10.0; Win64; x64; rv:90.0) Gecko/20100101 Firefox/90.0',\r\n",
    "}"
   ],
   "outputs": [],
   "metadata": {}
  },
  {
   "cell_type": "code",
   "execution_count": 3,
   "source": [
    "jData={\"limit\":15,\"offset\":45,\"siteId\":1482,\"orgId\":\"duxiaoman\",\"site\":\"campus\",\"locationIds\":[33512],\"needStat\":True}"
   ],
   "outputs": [],
   "metadata": {}
  },
  {
   "cell_type": "code",
   "execution_count": 4,
   "source": [
    "res=requests.post('https://campus.duxiaoman.com/api/outer/ats-jc-apply/website/jobs', headers=HEADERS, json=jData).json()"
   ],
   "outputs": [],
   "metadata": {}
  },
  {
   "cell_type": "code",
   "execution_count": 5,
   "source": [
    "res['data']['jobs'][0]"
   ],
   "outputs": [
    {
     "output_type": "execute_result",
     "data": {
      "text/plain": [
       "{'campusSites': [],\n",
       " 'createdAt': '2021-07-19T17:19:43',\n",
       " 'deptId': 576205,\n",
       " 'hireMode': 2,\n",
       " 'id': '9c2ac627-fd27-4ba6-b7de-2f2a40c36d5d',\n",
       " 'locations': [{'address': '北京市度小满金融总部',\n",
       "   'cityId': 110108,\n",
       "   'country': '中国',\n",
       "   'id': 33512}],\n",
       " 'mjCode': 'MJ001704',\n",
       " 'openedAt': '2021-08-01T00:00',\n",
       " 'orgId': 'duxiaoman',\n",
       " 'recommendationBonus': 0,\n",
       " 'showCampusSites': False,\n",
       " 'showIsCampus': False,\n",
       " 'status': 'open',\n",
       " 'title': '活动运营-HR及市场体系',\n",
       " 'updatedAt': '2021-08-17T16:21:13',\n",
       " 'zhineng': {'id': 13149, 'name': '市场及沟通类'}}"
      ]
     },
     "metadata": {},
     "execution_count": 5
    }
   ],
   "metadata": {}
  },
  {
   "cell_type": "code",
   "execution_count": 6,
   "source": [
    "jobIds=[]\r\n",
    "for pg in range(0, 50, 15):\r\n",
    "    jData=jData={\"limit\":15,\"offset\":pg,\"siteId\":1482,\"orgId\":\"duxiaoman\",\"site\":\"campus\",\"locationIds\":[33512],\"needStat\":True}\r\n",
    "    response=requests.post('https://campus.duxiaoman.com/api/outer/ats-jc-apply/website/jobs', headers=HEADERS, json=jData).json()\r\n",
    "    for job in response['data']['jobs']:\r\n",
    "        jobIds.append(job['id'])"
   ],
   "outputs": [],
   "metadata": {}
  },
  {
   "cell_type": "code",
   "execution_count": 7,
   "source": [
    "jobDetails=[]\r\n",
    "for jobId in jobIds:\r\n",
    "    jData2={\"orgId\":\"duxiaoman\",\"jobId\": jobId,\"siteId\":1482}\r\n",
    "    response2=requests.post('https://campus.duxiaoman.com/api/outer/ats-jc-apply/website/job', headers=HEADERS, json=jData2).json()\r\n",
    "    url=f'https://campus.duxiaoman.com/campus_apply/duxiaoman/1482#/job/{jobId}'\r\n",
    "    jobDetails.append((url, response2['data']['jobDescription']))"
   ],
   "outputs": [],
   "metadata": {}
  },
  {
   "cell_type": "code",
   "execution_count": 8,
   "source": [
    "for url, desc in jobDetails:\r\n",
    "    if '物理' in desc:\r\n",
    "        print(url)"
   ],
   "outputs": [
    {
     "output_type": "stream",
     "name": "stdout",
     "text": [
      "https://campus.duxiaoman.com/campus_apply/duxiaoman/1482#/job/8d030560-4bd3-4e4f-9924-53e4f78f5717\n"
     ]
    }
   ],
   "metadata": {}
  },
  {
   "cell_type": "code",
   "execution_count": null,
   "source": [],
   "outputs": [],
   "metadata": {}
  }
 ],
 "metadata": {
  "orig_nbformat": 4,
  "language_info": {
   "name": "python",
   "version": "3.8.11",
   "mimetype": "text/x-python",
   "codemirror_mode": {
    "name": "ipython",
    "version": 3
   },
   "pygments_lexer": "ipython3",
   "nbconvert_exporter": "python",
   "file_extension": ".py"
  },
  "kernelspec": {
   "name": "python3",
   "display_name": "Python 3.8.11 64-bit ('Anaconda3': conda)"
  },
  "interpreter": {
   "hash": "1d035ca4c615712529cad3b6e5fc713bfde17604927854c7aa1c8a6d2be7af56"
  }
 },
 "nbformat": 4,
 "nbformat_minor": 2
}