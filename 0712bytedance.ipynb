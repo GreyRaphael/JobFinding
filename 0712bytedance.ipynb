{
 "metadata": {
  "language_info": {
   "codemirror_mode": {
    "name": "ipython",
    "version": 3
   },
   "file_extension": ".py",
   "mimetype": "text/x-python",
   "name": "python",
   "nbconvert_exporter": "python",
   "pygments_lexer": "ipython3",
   "version": "3.8.10"
  },
  "orig_nbformat": 4,
  "kernelspec": {
   "name": "python3",
   "display_name": "Python 3.8.10 64-bit ('base': conda)"
  },
  "interpreter": {
   "hash": "1d035ca4c615712529cad3b6e5fc713bfde17604927854c7aa1c8a6d2be7af56"
  }
 },
 "nbformat": 4,
 "nbformat_minor": 2,
 "cells": [
  {
   "cell_type": "code",
   "execution_count": 30,
   "metadata": {},
   "outputs": [],
   "source": [
    "import requests"
   ]
  },
  {
   "cell_type": "code",
   "execution_count": 31,
   "metadata": {},
   "outputs": [],
   "source": [
    "HEADERS={\n",
    "'Host': 'jobs.bytedance.com',\n",
    "'User-Agent': 'Mozilla/5.0 (Windows NT 10.0; Win64; x64; rv:89.0) Gecko/20100101 Firefox/89.0',\n",
    "'Accept': 'application/json, text/plain, */*',\n",
    "'Accept-Language': 'zh-CN',\n",
    "'Accept-Encoding': 'gzip, deflate, br',\n",
    "'Content-Type': 'application/json',\n",
    "'env': 'undefined',\n",
    "'website-path': 'campus',\n",
    "'Portal-Channel': 'campus',\n",
    "'Portal-Platform': 'pc',\n",
    "'x-csrf-token': 'jOM3OiTshUHZFvsLXVESZtXqwHb2MVT8VDPIsgLlwiw=',\n",
    "'Content-Length': '195',\n",
    "'Origin': 'https://jobs.bytedance.com',\n",
    "'Connection': 'keep-alive',\n",
    "'Referer': 'https://jobs.bytedance.com/campus/position?keywords=&category=&location=&project=6969453898605299982&type=2&job_hot_flag=&current=4&limit=10&spread=UEHNJ98',\n",
    "'Cookie': r'ttwid=1%7CaE70gDMuoCBTFf4Emlmvs1dPch-WDjqK48AQ8eXpDZA%7C1615635224%7C228dbc76ddeeb799eb8c75fa53aacbca608a29e0f0a3e45dd6d3ae7d5d4bb8ed; SLARDAR_WEB_ID=fa3fa26a-d3da-4ff8-9ebb-b331bc6f0aa7; atsx-csrf-token=jOM3OiTshUHZFvsLXVESZtXqwHb2MVT8VDPIsgLlwiw%3D; device-id=6983697672230290978; channel=campus; platform=pc; s_v_web_id=kqzdmlw2_fmWCemvN_h4Ya_4Off_BjAE_5qn3SBu0l0yw'\n",
    "}"
   ]
  },
  {
   "cell_type": "code",
   "execution_count": 32,
   "metadata": {},
   "outputs": [],
   "source": [
    "json_data={\"keyword\":\"\",\"limit\":10,\"offset\":20,\"job_category_id_list\":[],\"location_code_list\":[],\"subject_id_list\":[\"6969453898605299982\"],\"recruitment_id_list\":[\"201\"],\"portal_type\":3,\"portal_entrance\":1}"
   ]
  },
  {
   "cell_type": "code",
   "execution_count": 37,
   "metadata": {},
   "outputs": [],
   "source": [
    "response=requests.post('https://jobs.bytedance.com/api/v1/search/job/posts', json=json_data, headers=HEADERS).json()"
   ]
  },
  {
   "cell_type": "code",
   "execution_count": 44,
   "metadata": {},
   "outputs": [
    {
     "output_type": "stream",
     "name": "stdout",
     "text": [
      "finish 0.00%\n",
      "finish 1.22%\n",
      "finish 2.44%\n",
      "finish 3.66%\n",
      "finish 4.88%\n",
      "finish 6.10%\n",
      "finish 7.32%\n",
      "finish 8.54%\n",
      "finish 9.76%\n",
      "finish 10.98%\n",
      "finish 12.20%\n",
      "finish 13.41%\n",
      "finish 14.63%\n",
      "finish 15.85%\n",
      "finish 17.07%\n",
      "finish 18.29%\n",
      "finish 19.51%\n",
      "finish 20.73%\n",
      "finish 21.95%\n",
      "finish 23.17%\n",
      "finish 24.39%\n",
      "finish 25.61%\n",
      "finish 26.83%\n",
      "finish 28.05%\n",
      "finish 29.27%\n",
      "finish 30.49%\n",
      "finish 31.71%\n",
      "finish 32.93%\n",
      "finish 34.15%\n",
      "finish 35.37%\n",
      "finish 36.59%\n",
      "finish 37.80%\n",
      "finish 39.02%\n",
      "finish 40.24%\n",
      "finish 41.46%\n",
      "finish 42.68%\n",
      "finish 43.90%\n",
      "finish 45.12%\n",
      "finish 46.34%\n",
      "finish 47.56%\n",
      "finish 48.78%\n",
      "finish 50.00%\n",
      "finish 51.22%\n",
      "finish 52.44%\n",
      "finish 53.66%\n",
      "finish 54.88%\n",
      "finish 56.10%\n",
      "finish 57.32%\n",
      "finish 58.54%\n",
      "finish 59.76%\n",
      "finish 60.98%\n",
      "finish 62.20%\n",
      "finish 63.41%\n",
      "finish 64.63%\n",
      "finish 65.85%\n",
      "finish 67.07%\n",
      "finish 68.29%\n",
      "finish 69.51%\n",
      "finish 70.73%\n",
      "finish 71.95%\n",
      "finish 73.17%\n",
      "finish 74.39%\n",
      "finish 75.61%\n",
      "finish 76.83%\n",
      "finish 78.05%\n",
      "finish 79.27%\n",
      "finish 80.49%\n",
      "finish 81.71%\n",
      "finish 82.93%\n",
      "finish 84.15%\n",
      "finish 85.37%\n",
      "finish 86.59%\n",
      "finish 87.80%\n",
      "finish 89.02%\n",
      "finish 90.24%\n",
      "finish 91.46%\n",
      "finish 92.68%\n",
      "finish 93.90%\n",
      "finish 95.12%\n",
      "finish 96.34%\n",
      "finish 97.56%\n",
      "finish 98.78%\n",
      "finish 100.00%\n",
      "length = 821\n"
     ]
    }
   ],
   "source": [
    "job_list=[]\n",
    "for pg in range(0, 830, 10):\n",
    "    json_data={\"keyword\":\"\",\"limit\":10,\"offset\":pg,\"job_category_id_list\":[],\"location_code_list\":[],\"subject_id_list\":[\"6969453898605299982\"],\"recruitment_id_list\":[\"201\"],\"portal_type\":3,\"portal_entrance\":1}\n",
    "    response=requests.post('https://jobs.bytedance.com/api/v1/search/job/posts', json=json_data, headers=HEADERS).json()\n",
    "    for job in response['data']['job_post_list']:\n",
    "        job_list.append((job['id'], job['requirement']))\n",
    "    \n",
    "    print(f'finish {pg/820:.2%}')\n",
    "print('length =', len(job_list))"
   ]
  },
  {
   "cell_type": "code",
   "execution_count": 48,
   "metadata": {},
   "outputs": [
    {
     "output_type": "stream",
     "name": "stdout",
     "text": [
      "https://jobs.bytedance.com/campus/position/6982498616771545351/detail?spread=UEHNJ98\nhttps://jobs.bytedance.com/campus/position/6979053500785772807/detail?spread=UEHNJ98\nhttps://jobs.bytedance.com/campus/position/6980256139233659172/detail?spread=UEHNJ98\nhttps://jobs.bytedance.com/campus/position/6979052925289138462/detail?spread=UEHNJ98\nhttps://jobs.bytedance.com/campus/position/6979048742587762981/detail?spread=UEHNJ98\nhttps://jobs.bytedance.com/campus/position/6979053291344087326/detail?spread=UEHNJ98\nhttps://jobs.bytedance.com/campus/position/6982030728008698120/detail?spread=UEHNJ98\nhttps://jobs.bytedance.com/campus/position/6980260198439733535/detail?spread=UEHNJ98\nhttps://jobs.bytedance.com/campus/position/6981692415199562021/detail?spread=UEHNJ98\nhttps://jobs.bytedance.com/campus/position/6979053056265259301/detail?spread=UEHNJ98\nhttps://jobs.bytedance.com/campus/position/6982415784057030919/detail?spread=UEHNJ98\nhttps://jobs.bytedance.com/campus/position/6980245341657336094/detail?spread=UEHNJ98\nhttps://jobs.bytedance.com/campus/position/6981014593808632095/detail?spread=UEHNJ98\nhttps://jobs.bytedance.com/campus/position/6978822835569772836/detail?spread=UEHNJ98\nhttps://jobs.bytedance.com/campus/position/6981687188816677128/detail?spread=UEHNJ98\nhttps://jobs.bytedance.com/campus/position/6982541080559487268/detail?spread=UEHNJ98\nhttps://jobs.bytedance.com/campus/position/6982415785801959694/detail?spread=UEHNJ98\nhttps://jobs.bytedance.com/campus/position/6982024546636663048/detail?spread=UEHNJ98\nhttps://jobs.bytedance.com/campus/position/6981015117165660446/detail?spread=UEHNJ98\nhttps://jobs.bytedance.com/campus/position/6981014627908913416/detail?spread=UEHNJ98\nhttps://jobs.bytedance.com/campus/position/6982011538010753293/detail?spread=UEHNJ98\nhttps://jobs.bytedance.com/campus/position/6981748962492500254/detail?spread=UEHNJ98\nhttps://jobs.bytedance.com/campus/position/6979043957615790373/detail?spread=UEHNJ98\nhttps://jobs.bytedance.com/campus/position/6979867522347731236/detail?spread=UEHNJ98\nhttps://jobs.bytedance.com/campus/position/6979049293391448350/detail?spread=UEHNJ98\nhttps://jobs.bytedance.com/campus/position/6978832399803992328/detail?spread=UEHNJ98\nhttps://jobs.bytedance.com/campus/position/6981014838308112670/detail?spread=UEHNJ98\nhttps://jobs.bytedance.com/campus/position/6982381558351333669/detail?spread=UEHNJ98\nhttps://jobs.bytedance.com/campus/position/6980248784668231972/detail?spread=UEHNJ98\nhttps://jobs.bytedance.com/campus/position/6982458192483649828/detail?spread=UEHNJ98\nhttps://jobs.bytedance.com/campus/position/6978836766909286663/detail?spread=UEHNJ98\nhttps://jobs.bytedance.com/campus/position/6980246118760499469/detail?spread=UEHNJ98\nhttps://jobs.bytedance.com/campus/position/6979144234423863583/detail?spread=UEHNJ98\nhttps://jobs.bytedance.com/campus/position/6979053166117619981/detail?spread=UEHNJ98\nhttps://jobs.bytedance.com/campus/position/6979051170548730119/detail?spread=UEHNJ98\nhttps://jobs.bytedance.com/campus/position/6981687387211450638/detail?spread=UEHNJ98\nhttps://jobs.bytedance.com/campus/position/6982522956232755493/detail?spread=UEHNJ98\nhttps://jobs.bytedance.com/campus/position/6979867602932320543/detail?spread=UEHNJ98\nhttps://jobs.bytedance.com/campus/position/6982362527364466974/detail?spread=UEHNJ98\nhttps://jobs.bytedance.com/campus/position/6982514698441427236/detail?spread=UEHNJ98\nhttps://jobs.bytedance.com/campus/position/6981813444819814663/detail?spread=UEHNJ98\nhttps://jobs.bytedance.com/campus/position/6982501583732967693/detail?spread=UEHNJ98\nhttps://jobs.bytedance.com/campus/position/6981669285556308231/detail?spread=UEHNJ98\nhttps://jobs.bytedance.com/campus/position/6979168963615934733/detail?spread=UEHNJ98\nhttps://jobs.bytedance.com/campus/position/6980258169621596446/detail?spread=UEHNJ98\nhttps://jobs.bytedance.com/campus/position/6981014838307604766/detail?spread=UEHNJ98\nhttps://jobs.bytedance.com/campus/position/6979168563522242829/detail?spread=UEHNJ98\nhttps://jobs.bytedance.com/campus/position/6980255002082298148/detail?spread=UEHNJ98\nhttps://jobs.bytedance.com/campus/position/6981061123252603167/detail?spread=UEHNJ98\nhttps://jobs.bytedance.com/campus/position/6979144873031829796/detail?spread=UEHNJ98\nhttps://jobs.bytedance.com/campus/position/6982024546635958536/detail?spread=UEHNJ98\nhttps://jobs.bytedance.com/campus/position/6982025085671196964/detail?spread=UEHNJ98\nhttps://jobs.bytedance.com/campus/position/6979043192935385381/detail?spread=UEHNJ98\nhttps://jobs.bytedance.com/campus/position/6982501888864995592/detail?spread=UEHNJ98\nhttps://jobs.bytedance.com/campus/position/6982031962493405471/detail?spread=UEHNJ98\nhttps://jobs.bytedance.com/campus/position/6981014700456921381/detail?spread=UEHNJ98\nhttps://jobs.bytedance.com/campus/position/6979867519448566053/detail?spread=UEHNJ98\nhttps://jobs.bytedance.com/campus/position/6982467979359340808/detail?spread=UEHNJ98\nhttps://jobs.bytedance.com/campus/position/6979166898807261454/detail?spread=UEHNJ98\nhttps://jobs.bytedance.com/campus/position/6979145138568857893/detail?spread=UEHNJ98\nhttps://jobs.bytedance.com/campus/position/6980237717595293983/detail?spread=UEHNJ98\nhttps://jobs.bytedance.com/campus/position/6981015322556123406/detail?spread=UEHNJ98\nhttps://jobs.bytedance.com/campus/position/6982024461025298719/detail?spread=UEHNJ98\nhttps://jobs.bytedance.com/campus/position/6980253388236867877/detail?spread=UEHNJ98\nhttps://jobs.bytedance.com/campus/position/6981015368030783781/detail?spread=UEHNJ98\nhttps://jobs.bytedance.com/campus/position/6982744316708489502/detail?spread=UEHNJ98\nhttps://jobs.bytedance.com/campus/position/6981015296602573069/detail?spread=UEHNJ98\nhttps://jobs.bytedance.com/campus/position/6979053579597662477/detail?spread=UEHNJ98\nhttps://jobs.bytedance.com/campus/position/6980236609988135175/detail?spread=UEHNJ98\nhttps://jobs.bytedance.com/campus/position/6981824560862742814/detail?spread=UEHNJ98\nhttps://jobs.bytedance.com/campus/position/6979046105041373476/detail?spread=UEHNJ98\nhttps://jobs.bytedance.com/campus/position/6980348379864680718/detail?spread=UEHNJ98\nhttps://jobs.bytedance.com/campus/position/6981061315235137822/detail?spread=UEHNJ98\nhttps://jobs.bytedance.com/campus/position/6982085500895021325/detail?spread=UEHNJ98\nhttps://jobs.bytedance.com/campus/position/6978829878028618020/detail?spread=UEHNJ98\nhttps://jobs.bytedance.com/campus/position/6980347010701478175/detail?spread=UEHNJ98\nhttps://jobs.bytedance.com/campus/position/6980348092177025310/detail?spread=UEHNJ98\nhttps://jobs.bytedance.com/campus/position/6981687417926617374/detail?spread=UEHNJ98\n"
     ]
    }
   ],
   "source": [
    "for jobId, job in job_list:\n",
    "    if job.find('理工')!=-1:\n",
    "        url=f'https://jobs.bytedance.com/campus/position/{jobId}/detail?spread=UEHNJ98'\n",
    "        print(url)"
   ]
  },
  {
   "cell_type": "code",
   "execution_count": null,
   "metadata": {},
   "outputs": [],
   "source": []
  }
 ]
}