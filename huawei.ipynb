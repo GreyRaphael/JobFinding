{
 "metadata": {
  "language_info": {
   "codemirror_mode": {
    "name": "ipython",
    "version": 3
   },
   "file_extension": ".py",
   "mimetype": "text/x-python",
   "name": "python",
   "nbconvert_exporter": "python",
   "pygments_lexer": "ipython3",
   "version": "3.8.10"
  },
  "orig_nbformat": 4,
  "kernelspec": {
   "name": "python3",
   "display_name": "Python 3.8.10 64-bit ('base': conda)"
  },
  "interpreter": {
   "hash": "1d035ca4c615712529cad3b6e5fc713bfde17604927854c7aa1c8a6d2be7af56"
  }
 },
 "nbformat": 4,
 "nbformat_minor": 2,
 "cells": [
  {
   "cell_type": "code",
   "execution_count": 1,
   "metadata": {},
   "outputs": [],
   "source": [
    "import requests"
   ]
  },
  {
   "cell_type": "code",
   "execution_count": 2,
   "metadata": {},
   "outputs": [],
   "source": [
    "HEADERS={\n",
    "    \"User-Agent\":'Mozilla/5.0 (Windows NT 10.0; Win64; x64; rv:89.0) Gecko/20100101 Firefox/89.0',\n",
    "}"
   ]
  },
  {
   "cell_type": "code",
   "execution_count": 3,
   "metadata": {},
   "outputs": [],
   "source": [
    "response=requests.get('https://career.huawei.com/reccampportal/services/portal/portalpub/getJob/page/20/2?curPage=2&pageSize=20&jobType=2&jobFamClsCode=&searchText=&deptCode=&graduateItem=&deptCodes=&jobClass=&reqTime=1625714351667&jobTypes=&orderBy=ISS_STARTDATE_DESC_AND_IS_HOT_JOB', headers=HEADERS).json()"
   ]
  },
  {
   "cell_type": "code",
   "execution_count": 7,
   "metadata": {},
   "outputs": [
    {
     "output_type": "execute_result",
     "data": {
      "text/plain": [
       "176981"
      ]
     },
     "metadata": {},
     "execution_count": 7
    }
   ],
   "source": [
    "response['result'][0]['jobId']"
   ]
  },
  {
   "cell_type": "code",
   "execution_count": 8,
   "metadata": {},
   "outputs": [
    {
     "output_type": "stream",
     "name": "stdout",
     "text": [
      "finish page-1\n",
      "finish page-2\n",
      "finish page-3\n",
      "finish page-4\n",
      "finish page-5\n",
      "finish page-6\n",
      "finish page-7\n",
      "finish page-8\n",
      "finish page-9\n",
      "finish page-10\n",
      "finish page-11\n",
      "finish page-12\n",
      "finish page-13\n",
      "finish page-14\n",
      "finish page-15\n",
      "finish page-16\n",
      "finish page-17\n",
      "finish page-18\n",
      "finish page-19\n",
      "finish page-20\n",
      "finish page-21\n",
      "finish page-22\n",
      "finish page-23\n",
      "finish page-24\n",
      "finish page-25\n",
      "finish page-26\n",
      "finish page-27\n",
      "finish page-28\n",
      "finish page-29\n",
      "finish page-30\n",
      "finish page-31\n",
      "finish page-32\n",
      "finish page-33\n",
      "finish page-34\n"
     ]
    }
   ],
   "source": [
    "job_ids=[]\n",
    "for pg in range(1, 35):\n",
    "    url=f'https://career.huawei.com/reccampportal/services/portal/portalpub/getJob/page/20/{pg}?curPage={pg}&pageSize=20&jobType=2&jobFamClsCode=&searchText=&deptCode=&graduateItem=&deptCodes=&jobClass=&jobTypes=&orderBy=ISS_STARTDATE_DESC_AND_IS_HOT_JOB'\n",
    "    response=requests.get(url, headers=HEADERS).json()\n",
    "    for job in response['result']:\n",
    "        job_ids.append(job['jobId'])\n",
    "    print(f'finish page-{pg}')"
   ]
  },
  {
   "cell_type": "code",
   "execution_count": 9,
   "metadata": {},
   "outputs": [
    {
     "output_type": "execute_result",
     "data": {
      "text/plain": [
       "675"
      ]
     },
     "metadata": {},
     "execution_count": 9
    }
   ],
   "source": [
    "len(job_ids)"
   ]
  },
  {
   "cell_type": "code",
   "execution_count": 10,
   "metadata": {},
   "outputs": [],
   "source": [
    "job_requires=[]\n",
    "for jobId in job_ids:\n",
    "    url=f'https://career.huawei.com/reccampportal/services/portal/portalpub/getJobDetail?jobId={jobId}'\n",
    "    response=requests.get(url, headers=HEADERS).json()\n",
    "    job_requires.append((jobId, response['jobRequire']))"
   ]
  },
  {
   "cell_type": "code",
   "execution_count": 11,
   "metadata": {},
   "outputs": [
    {
     "output_type": "execute_result",
     "data": {
      "text/plain": [
       "675"
      ]
     },
     "metadata": {},
     "execution_count": 11
    }
   ],
   "source": [
    "len(job_requires)"
   ]
  },
  {
   "cell_type": "code",
   "execution_count": 12,
   "metadata": {},
   "outputs": [
    {
     "output_type": "stream",
     "name": "stdout",
     "text": [
      "https://career.huawei.com/reccampportal/portal5/campus-recruitment-detail.html?jobId=178123\nhttps://career.huawei.com/reccampportal/portal5/campus-recruitment-detail.html?jobId=178122\nhttps://career.huawei.com/reccampportal/portal5/campus-recruitment-detail.html?jobId=178116\nhttps://career.huawei.com/reccampportal/portal5/campus-recruitment-detail.html?jobId=178100\nhttps://career.huawei.com/reccampportal/portal5/campus-recruitment-detail.html?jobId=176256\nhttps://career.huawei.com/reccampportal/portal5/campus-recruitment-detail.html?jobId=175977\nhttps://career.huawei.com/reccampportal/portal5/campus-recruitment-detail.html?jobId=175961\nhttps://career.huawei.com/reccampportal/portal5/campus-recruitment-detail.html?jobId=175933\nhttps://career.huawei.com/reccampportal/portal5/campus-recruitment-detail.html?jobId=175929\nhttps://career.huawei.com/reccampportal/portal5/campus-recruitment-detail.html?jobId=175874\nhttps://career.huawei.com/reccampportal/portal5/campus-recruitment-detail.html?jobId=175862\nhttps://career.huawei.com/reccampportal/portal5/campus-recruitment-detail.html?jobId=175852\nhttps://career.huawei.com/reccampportal/portal5/campus-recruitment-detail.html?jobId=175850\nhttps://career.huawei.com/reccampportal/portal5/campus-recruitment-detail.html?jobId=175846\nhttps://career.huawei.com/reccampportal/portal5/campus-recruitment-detail.html?jobId=175845\nhttps://career.huawei.com/reccampportal/portal5/campus-recruitment-detail.html?jobId=175844\nhttps://career.huawei.com/reccampportal/portal5/campus-recruitment-detail.html?jobId=175843\nhttps://career.huawei.com/reccampportal/portal5/campus-recruitment-detail.html?jobId=175842\nhttps://career.huawei.com/reccampportal/portal5/campus-recruitment-detail.html?jobId=175841\nhttps://career.huawei.com/reccampportal/portal5/campus-recruitment-detail.html?jobId=175839\nhttps://career.huawei.com/reccampportal/portal5/campus-recruitment-detail.html?jobId=175835\nhttps://career.huawei.com/reccampportal/portal5/campus-recruitment-detail.html?jobId=175816\nhttps://career.huawei.com/reccampportal/portal5/campus-recruitment-detail.html?jobId=175814\nhttps://career.huawei.com/reccampportal/portal5/campus-recruitment-detail.html?jobId=175813\nhttps://career.huawei.com/reccampportal/portal5/campus-recruitment-detail.html?jobId=175806\nhttps://career.huawei.com/reccampportal/portal5/campus-recruitment-detail.html?jobId=175804\nhttps://career.huawei.com/reccampportal/portal5/campus-recruitment-detail.html?jobId=175803\nhttps://career.huawei.com/reccampportal/portal5/campus-recruitment-detail.html?jobId=175802\nhttps://career.huawei.com/reccampportal/portal5/campus-recruitment-detail.html?jobId=175801\nhttps://career.huawei.com/reccampportal/portal5/campus-recruitment-detail.html?jobId=175796\nhttps://career.huawei.com/reccampportal/portal5/campus-recruitment-detail.html?jobId=175791\nhttps://career.huawei.com/reccampportal/portal5/campus-recruitment-detail.html?jobId=175772\nhttps://career.huawei.com/reccampportal/portal5/campus-recruitment-detail.html?jobId=175765\nhttps://career.huawei.com/reccampportal/portal5/campus-recruitment-detail.html?jobId=175764\nhttps://career.huawei.com/reccampportal/portal5/campus-recruitment-detail.html?jobId=175754\nhttps://career.huawei.com/reccampportal/portal5/campus-recruitment-detail.html?jobId=175751\nhttps://career.huawei.com/reccampportal/portal5/campus-recruitment-detail.html?jobId=175749\nhttps://career.huawei.com/reccampportal/portal5/campus-recruitment-detail.html?jobId=175747\nhttps://career.huawei.com/reccampportal/portal5/campus-recruitment-detail.html?jobId=175739\nhttps://career.huawei.com/reccampportal/portal5/campus-recruitment-detail.html?jobId=175594\nhttps://career.huawei.com/reccampportal/portal5/campus-recruitment-detail.html?jobId=175575\nhttps://career.huawei.com/reccampportal/portal5/campus-recruitment-detail.html?jobId=175320\nhttps://career.huawei.com/reccampportal/portal5/campus-recruitment-detail.html?jobId=174999\nhttps://career.huawei.com/reccampportal/portal5/campus-recruitment-detail.html?jobId=174998\nhttps://career.huawei.com/reccampportal/portal5/campus-recruitment-detail.html?jobId=175321\nhttps://career.huawei.com/reccampportal/portal5/campus-recruitment-detail.html?jobId=175259\nhttps://career.huawei.com/reccampportal/portal5/campus-recruitment-detail.html?jobId=175215\nhttps://career.huawei.com/reccampportal/portal5/campus-recruitment-detail.html?jobId=175204\nhttps://career.huawei.com/reccampportal/portal5/campus-recruitment-detail.html?jobId=175023\nhttps://career.huawei.com/reccampportal/portal5/campus-recruitment-detail.html?jobId=175020\nhttps://career.huawei.com/reccampportal/portal5/campus-recruitment-detail.html?jobId=175013\nhttps://career.huawei.com/reccampportal/portal5/campus-recruitment-detail.html?jobId=175011\nhttps://career.huawei.com/reccampportal/portal5/campus-recruitment-detail.html?jobId=175010\nhttps://career.huawei.com/reccampportal/portal5/campus-recruitment-detail.html?jobId=174799\nhttps://career.huawei.com/reccampportal/portal5/campus-recruitment-detail.html?jobId=174798\nhttps://career.huawei.com/reccampportal/portal5/campus-recruitment-detail.html?jobId=174463\nhttps://career.huawei.com/reccampportal/portal5/campus-recruitment-detail.html?jobId=174446\nhttps://career.huawei.com/reccampportal/portal5/campus-recruitment-detail.html?jobId=174455\nhttps://career.huawei.com/reccampportal/portal5/campus-recruitment-detail.html?jobId=174435\nhttps://career.huawei.com/reccampportal/portal5/campus-recruitment-detail.html?jobId=174382\nhttps://career.huawei.com/reccampportal/portal5/campus-recruitment-detail.html?jobId=174378\nhttps://career.huawei.com/reccampportal/portal5/campus-recruitment-detail.html?jobId=174377\nhttps://career.huawei.com/reccampportal/portal5/campus-recruitment-detail.html?jobId=174376\nhttps://career.huawei.com/reccampportal/portal5/campus-recruitment-detail.html?jobId=174350\nhttps://career.huawei.com/reccampportal/portal5/campus-recruitment-detail.html?jobId=174294\nhttps://career.huawei.com/reccampportal/portal5/campus-recruitment-detail.html?jobId=174152\nhttps://career.huawei.com/reccampportal/portal5/campus-recruitment-detail.html?jobId=174149\nhttps://career.huawei.com/reccampportal/portal5/campus-recruitment-detail.html?jobId=174148\nhttps://career.huawei.com/reccampportal/portal5/campus-recruitment-detail.html?jobId=173535\nhttps://career.huawei.com/reccampportal/portal5/campus-recruitment-detail.html?jobId=173698\nhttps://career.huawei.com/reccampportal/portal5/campus-recruitment-detail.html?jobId=173696\nhttps://career.huawei.com/reccampportal/portal5/campus-recruitment-detail.html?jobId=173689\nhttps://career.huawei.com/reccampportal/portal5/campus-recruitment-detail.html?jobId=173681\nhttps://career.huawei.com/reccampportal/portal5/campus-recruitment-detail.html?jobId=173680\nhttps://career.huawei.com/reccampportal/portal5/campus-recruitment-detail.html?jobId=173679\nhttps://career.huawei.com/reccampportal/portal5/campus-recruitment-detail.html?jobId=173618\nhttps://career.huawei.com/reccampportal/portal5/campus-recruitment-detail.html?jobId=173617\nhttps://career.huawei.com/reccampportal/portal5/campus-recruitment-detail.html?jobId=173615\nhttps://career.huawei.com/reccampportal/portal5/campus-recruitment-detail.html?jobId=173563\nhttps://career.huawei.com/reccampportal/portal5/campus-recruitment-detail.html?jobId=173549\nhttps://career.huawei.com/reccampportal/portal5/campus-recruitment-detail.html?jobId=173548\nhttps://career.huawei.com/reccampportal/portal5/campus-recruitment-detail.html?jobId=173547\nhttps://career.huawei.com/reccampportal/portal5/campus-recruitment-detail.html?jobId=173540\nhttps://career.huawei.com/reccampportal/portal5/campus-recruitment-detail.html?jobId=173538\nhttps://career.huawei.com/reccampportal/portal5/campus-recruitment-detail.html?jobId=173536\n"
     ]
    }
   ],
   "source": [
    "for jobId, jobRequire in job_requires:\n",
    "    if jobRequire.find('物理') !=-1:\n",
    "        url=f'https://career.huawei.com/reccampportal/portal5/campus-recruitment-detail.html?jobId={jobId}'\n",
    "        print(url)"
   ]
  },
  {
   "cell_type": "code",
   "execution_count": null,
   "metadata": {},
   "outputs": [],
   "source": []
  }
 ]
}