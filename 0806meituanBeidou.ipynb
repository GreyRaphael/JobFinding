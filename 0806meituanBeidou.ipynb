{
 "cells": [
  {
   "cell_type": "code",
   "execution_count": 1,
   "source": [
    "import requests"
   ],
   "outputs": [],
   "metadata": {}
  },
  {
   "cell_type": "code",
   "execution_count": 2,
   "source": [
    "HEADERS={\r\n",
    "    \"User-Agent\":'Mozilla/5.0 (Windows NT 10.0; Win64; x64; rv:90.0) Gecko/20100101 Firefox/90.0',\r\n",
    "}"
   ],
   "outputs": [],
   "metadata": {}
  },
  {
   "cell_type": "code",
   "execution_count": 3,
   "source": [
    "json_data={\"jobType\":\"3\",\"workCity\":[],\"interviewCity\":[],\"jobFamily\":'null',\"page\":{\"pageNo\":1,\"pageSize\":200}}"
   ],
   "outputs": [],
   "metadata": {}
  },
  {
   "cell_type": "code",
   "execution_count": 4,
   "source": [
    "res=requests.post('https://campus.meituan.com/api/job/list/get', json=json_data, headers=HEADERS).json()"
   ],
   "outputs": [],
   "metadata": {}
  },
  {
   "cell_type": "code",
   "execution_count": 7,
   "source": [
    "res['data']['dataList'][0]"
   ],
   "outputs": [
    {
     "output_type": "execute_result",
     "data": {
      "text/plain": [
       "{'jobId': 3845,\n",
       " 'atsId': 725,\n",
       " 'jobName': '网约车智能调度算法工程师',\n",
       " 'jobCategoryName': '技术类',\n",
       " 'workCity': '北京市',\n",
       " 'interviewCity': '北京市',\n",
       " 'isApplied': False,\n",
       " 'urgentTag': None}"
      ]
     },
     "metadata": {},
     "execution_count": 7
    }
   ],
   "metadata": {}
  },
  {
   "cell_type": "code",
   "execution_count": 8,
   "source": [
    "jobIds=[]\r\n",
    "for job in res['data']['dataList']:\r\n",
    "    jobIds.append(job['jobId'])"
   ],
   "outputs": [],
   "metadata": {}
  },
  {
   "cell_type": "code",
   "execution_count": 14,
   "source": [
    "job_list=[]\r\n",
    "for jobId in jobIds:\r\n",
    "    url=f'https://campus.meituan.com/beidou?jobId={jobId}'\r\n",
    "    jobDetail=requests.post('https://campus.meituan.com/api/job/detail/get', json={'id':jobId}, headers=HEADERS).json()\r\n",
    "    job_list.append((url, jobDetail['data']['requirement']))"
   ],
   "outputs": [],
   "metadata": {}
  },
  {
   "cell_type": "code",
   "execution_count": 15,
   "source": [
    "len(job_list)"
   ],
   "outputs": [
    {
     "output_type": "execute_result",
     "data": {
      "text/plain": [
       "47"
      ]
     },
     "metadata": {},
     "execution_count": 15
    }
   ],
   "metadata": {}
  },
  {
   "cell_type": "code",
   "execution_count": 18,
   "source": [
    "for url, requirement in job_list:\r\n",
    "    if '物理' in requirement or '理工' in requirement:\r\n",
    "        print(url, requirement, sep='\\n')\r\n",
    "        print()"
   ],
   "outputs": [
    {
     "output_type": "stream",
     "name": "stdout",
     "text": [
      "https://campus.meituan.com/beidou?jobId=4033 1.熟练掌握计算机科学基础理论和方法，在一个或多个领域有深入研究：数据库基本原理、离线实时开发调优、数据框架迭代升级、数仓建模设计落地、数据治理平台落地、数据各项应用支持等。\n",
      "2.熟悉Hadoop生态圈上的各种应用两种以上，如Hive、Spark 、ES等，具备较强的海量数据开发及调优能力。\n",
      "3.深入理解数据仓库领域的主题划分、模型设计、架构分层等方法论；熟悉数据仓库各类建模理论，以及数据仓库数据层级关系，具备大型数据仓库逻辑模型和物理模型设计经验。\n",
      "4.优秀的问题解决能力，能够挖掘问题的本质，并提供解决方案。\n",
      "5.良好的沟通交流能力、团队合作与协调沟通能力，具有与产品，系统，BI等等多方密切配合的经验和意识。\n",
      "6.具备以下经历者优先：\n",
      " 1)参与过PB级大型数据仓库架构或模型设计、具备调优能力、有数据治理经验者优先；\n",
      " 2)熟练掌握大数据技术者优先，如Hadoop/Hive/Spark、Doris等OLAP引擎；\n",
      " 3)对技术充满热情且具有钻研精神，具有快速学习能力和持续学习意愿者优先。\n",
      "\n",
      "https://campus.meituan.com/beidou?jobId=4021 1.计算机、自动化、数学、统计学、物理等相关专业毕业；\n",
      "2.具备扎实的操作系统、数据结构、分布式系统、编译原理等计算机理论基础；\n",
      "3.熟悉C++/Java/Python等主流编程语言，具备良好的开发习惯和编程风格；\n",
      "4.熟悉Linux环境，熟悉常用的开发工具；\n",
      "优先考虑：\n",
      "1.有国内外一线互联网公司或无人车公司实习经验者优先；\n",
      "2.具备大型项目尤其是大型开源项目者优先。\n",
      "\n",
      "https://campus.meituan.com/beidou?jobId=3869 1.计算机、自动化、数学或物理等相关专业；\n",
      "2.具有丰富的Linux系统开发经验，熟知基本算法和算法优化的方法和思路；\n",
      "3.良好的数据结构和算法基础，熟悉C/C++、Python或者一种编程语言；\n",
      "4.具有机器人、无人车或无人机相关算法开发经验。\n",
      "优先考虑：\n",
      "1.从事过机器人、无人车或无人机相关模块的开发；\n",
      "2.有相关领域顶级期刊或会议论文发表。\n",
      "\n"
     ]
    }
   ],
   "metadata": {}
  },
  {
   "cell_type": "code",
   "execution_count": null,
   "source": [],
   "outputs": [],
   "metadata": {}
  }
 ],
 "metadata": {
  "orig_nbformat": 4,
  "language_info": {
   "name": "python",
   "version": "3.8.11",
   "mimetype": "text/x-python",
   "codemirror_mode": {
    "name": "ipython",
    "version": 3
   },
   "pygments_lexer": "ipython3",
   "nbconvert_exporter": "python",
   "file_extension": ".py"
  },
  "kernelspec": {
   "name": "python3",
   "display_name": "Python 3.8.10 64-bit ('base': conda)"
  },
  "interpreter": {
   "hash": "1d035ca4c615712529cad3b6e5fc713bfde17604927854c7aa1c8a6d2be7af56"
  }
 },
 "nbformat": 4,
 "nbformat_minor": 2
}