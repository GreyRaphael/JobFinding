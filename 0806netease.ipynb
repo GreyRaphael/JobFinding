{
 "cells": [
  {
   "cell_type": "code",
   "execution_count": 1,
   "source": [
    "import requests"
   ],
   "outputs": [],
   "metadata": {}
  },
  {
   "cell_type": "code",
   "execution_count": 2,
   "source": [
    "HEADERS={\r\n",
    "    \"User-Agent\":'Mozilla/5.0 (Windows NT 10.0; Win64; x64; rv:90.0) Gecko/20100101 Firefox/90.0',\r\n",
    "}"
   ],
   "outputs": [],
   "metadata": {}
  },
  {
   "cell_type": "code",
   "execution_count": 3,
   "source": [
    "res=requests.get('https://campus.163.com/api/campuspc/position/getJobList?pageSize=20&currentPage=1&projectId=39', headers=HEADERS).json()"
   ],
   "outputs": [],
   "metadata": {}
  },
  {
   "cell_type": "code",
   "execution_count": 8,
   "source": [
    "res['data']['list'][0]['id'],res['data']['list'][0]['positionRequirement']"
   ],
   "outputs": [
    {
     "output_type": "execute_result",
     "data": {
      "text/plain": [
       "(1537,\n",
       " '我们希望你：\\n1、编程基础扎实，至少熟悉 C++/JAVA/Objective-C/JS/Swift等编程语言中的一种，有良好的编程习惯和算法、数据结构基础； \\n2、 熟悉TCP/IP，HTTP协议，并了解相关网络调试工具，有服务端开发的背景常识更佳；\\n3、了解终端研发的常用构建工具（Gradle、Xcode 或 Webpack等）； \\n4、计算机相关专业的你，如果你还没想清楚未来的方向，如果你对iOS、Android 或 Web前端技术感兴趣，欢迎投递该岗位，你将在入职后经过沟通和培训确认定岗并快速成长；')"
      ]
     },
     "metadata": {},
     "execution_count": 8
    }
   ],
   "metadata": {}
  },
  {
   "cell_type": "code",
   "execution_count": 9,
   "source": [
    "jobs=[]\r\n",
    "for pg in range(1, 7):\r\n",
    "    url=f'https://campus.163.com/api/campuspc/position/getJobList?pageSize=20&currentPage={pg}&projectId=39'\r\n",
    "    response=requests.get(url, headers=HEADERS).json()\r\n",
    "    for job in response['data']['list']:\r\n",
    "        jobs.append((job['id'], job['positionRequirement']))"
   ],
   "outputs": [],
   "metadata": {}
  },
  {
   "cell_type": "code",
   "execution_count": 10,
   "source": [
    "for jobId, jobDesc in jobs:\r\n",
    "    if '物理' in jobDesc or '理工' in jobDesc:\r\n",
    "        url=f'https://campus.163.com/app/detail/index?id={jobId}&projectId=39'\r\n",
    "        print(url)"
   ],
   "outputs": [
    {
     "output_type": "stream",
     "name": "stdout",
     "text": [
      "https://campus.163.com/app/detail/index?id=1535&projectId=39\n",
      "https://campus.163.com/app/detail/index?id=1494&projectId=39\n",
      "https://campus.163.com/app/detail/index?id=1501&projectId=39\n",
      "https://campus.163.com/app/detail/index?id=1504&projectId=39\n",
      "https://campus.163.com/app/detail/index?id=1423&projectId=39\n",
      "https://campus.163.com/app/detail/index?id=1415&projectId=39\n",
      "https://campus.163.com/app/detail/index?id=1414&projectId=39\n",
      "https://campus.163.com/app/detail/index?id=1410&projectId=39\n"
     ]
    }
   ],
   "metadata": {}
  },
  {
   "cell_type": "code",
   "execution_count": 11,
   "source": [
    "len(jobs)"
   ],
   "outputs": [
    {
     "output_type": "execute_result",
     "data": {
      "text/plain": [
       "112"
      ]
     },
     "metadata": {},
     "execution_count": 11
    }
   ],
   "metadata": {}
  },
  {
   "cell_type": "code",
   "execution_count": null,
   "source": [],
   "outputs": [],
   "metadata": {}
  }
 ],
 "metadata": {
  "orig_nbformat": 4,
  "language_info": {
   "name": "python",
   "version": "3.8.11",
   "mimetype": "text/x-python",
   "codemirror_mode": {
    "name": "ipython",
    "version": 3
   },
   "pygments_lexer": "ipython3",
   "nbconvert_exporter": "python",
   "file_extension": ".py"
  },
  "kernelspec": {
   "name": "python3",
   "display_name": "Python 3.8.11 64-bit ('base': conda)"
  },
  "interpreter": {
   "hash": "1d035ca4c615712529cad3b6e5fc713bfde17604927854c7aa1c8a6d2be7af56"
  }
 },
 "nbformat": 4,
 "nbformat_minor": 2
}