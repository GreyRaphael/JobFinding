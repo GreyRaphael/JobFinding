{
 "metadata": {
  "language_info": {
   "codemirror_mode": {
    "name": "ipython",
    "version": 3
   },
   "file_extension": ".py",
   "mimetype": "text/x-python",
   "name": "python",
   "nbconvert_exporter": "python",
   "pygments_lexer": "ipython3",
   "version": "3.8.10"
  },
  "orig_nbformat": 4,
  "kernelspec": {
   "name": "python3",
   "display_name": "Python 3.8.10 64-bit ('base': conda)"
  },
  "interpreter": {
   "hash": "1d035ca4c615712529cad3b6e5fc713bfde17604927854c7aa1c8a6d2be7af56"
  }
 },
 "nbformat": 4,
 "nbformat_minor": 2,
 "cells": [
  {
   "cell_type": "code",
   "execution_count": 1,
   "metadata": {},
   "outputs": [],
   "source": [
    "import requests\n",
    "import re"
   ]
  },
  {
   "cell_type": "code",
   "execution_count": 2,
   "metadata": {},
   "outputs": [],
   "source": [
    "HEADERS={\n",
    "'User-Agent': 'Mozilla/5.0 (Windows NT 10.0; Win64; x64; rv:89.0) Gecko/20100101 Firefox/89.0',\n",
    "}"
   ]
  },
  {
   "cell_type": "code",
   "execution_count": 3,
   "metadata": {},
   "outputs": [],
   "source": [
    "json_data={\"limit\":15,\"offset\":15,\"projectFolderId\":\"100006393\",\"siteId\":'36824',\"orgId\":\"nio888\",\"site\":\"campus\",\"needStat\":'true'}"
   ]
  },
  {
   "cell_type": "code",
   "execution_count": 4,
   "metadata": {},
   "outputs": [],
   "source": [
    "response=requests.post('https://app.mokahr.com/api/outer/ats-jc-apply/website/jobs', json=json_data, headers=HEADERS).json()"
   ]
  },
  {
   "cell_type": "code",
   "execution_count": 10,
   "metadata": {},
   "outputs": [],
   "source": [
    "job_ids=[]\n",
    "target_url='https://app.mokahr.com/api/outer/ats-jc-apply/website/jobs'\n",
    "for pg in range(0, 300, 15):\n",
    "    json_data={\"limit\":15,\"offset\":pg,\"projectFolderId\":\"100006393\",\"siteId\":'36824',\"orgId\":\"nio888\",\"site\":\"campus\",\"needStat\":'true'}\n",
    "    response=requests.post(target_url, json=json_data, headers=HEADERS).json()\n",
    "    for job in response['data']['jobs']:\n",
    "        job_ids.append(job['id'])"
   ]
  },
  {
   "cell_type": "code",
   "execution_count": 9,
   "metadata": {},
   "outputs": [
    {
     "output_type": "execute_result",
     "data": {
      "text/plain": [
       "'7fedeac2-bc21-46ef-8438-8f2f1fc6ea56'"
      ]
     },
     "metadata": {},
     "execution_count": 9
    }
   ],
   "source": [
    "# response['data']['jobs'][0]['id']"
   ]
  },
  {
   "cell_type": "code",
   "execution_count": 11,
   "metadata": {},
   "outputs": [
    {
     "output_type": "execute_result",
     "data": {
      "text/plain": [
       "295"
      ]
     },
     "metadata": {},
     "execution_count": 11
    }
   ],
   "source": [
    "len(job_ids)"
   ]
  },
  {
   "cell_type": "code",
   "execution_count": 12,
   "metadata": {},
   "outputs": [
    {
     "output_type": "execute_result",
     "data": {
      "text/plain": [
       "['c0fd66de-00f4-4c8a-bfbd-c3fc069ead38',\n",
       " '9e8b5555-dc58-4b66-8cca-dacaefc5ddc1',\n",
       " '43d824bd-1ba5-42da-b3f9-a5421ac67f31']"
      ]
     },
     "metadata": {},
     "execution_count": 12
    }
   ],
   "source": []
  },
  {
   "cell_type": "code",
   "execution_count": 25,
   "metadata": {},
   "outputs": [],
   "source": [
    "job_descriptions=[]\n",
    "for jobId in job_ids:\n",
    "    json_data={\"orgId\":\"nio888\",\"jobId\":jobId,\"siteId\":36824}\n",
    "    response=requests.post('https://app.mokahr.com/api/outer/ats-jc-apply/website/job', json=json_data, headers=HEADERS).json()\n",
    "    job_descriptions.append((jobId, response['data']['jobDescription']))"
   ]
  },
  {
   "cell_type": "code",
   "execution_count": 26,
   "metadata": {},
   "outputs": [
    {
     "output_type": "execute_result",
     "data": {
      "text/plain": [
       "295"
      ]
     },
     "metadata": {},
     "execution_count": 26
    }
   ],
   "source": [
    "len(job_descriptions)"
   ]
  },
  {
   "cell_type": "code",
   "execution_count": 27,
   "metadata": {},
   "outputs": [
    {
     "output_type": "execute_result",
     "data": {
      "text/plain": [
       "('e7fb2908-4e3d-40eb-9069-6a896ced5086',\n",
       " '<p>工作内容：</p><p>1. 负责电机控制算法仿真与开发</p><p>2. 负责电驱动系统应用功能开发</p><p>3. 支持电控系统台架实验</p><p><br></p><p>任职要求：</p><p>1. 熟悉电机控制基本原理</p><p>2. 熟悉Matlab/simulink建模</p><p>3. 有相关电控项目开发和实践经验</p>')"
      ]
     },
     "metadata": {},
     "execution_count": 27
    }
   ],
   "source": [
    "job_descriptions[0]"
   ]
  },
  {
   "cell_type": "code",
   "execution_count": 28,
   "metadata": {},
   "outputs": [
    {
     "output_type": "stream",
     "name": "stdout",
     "text": [
      "https://app.mokahr.com/campus_apply/nio888/36824#/job/41339f09-de3e-43c2-a203-4f6491d3f5b9\nhttps://app.mokahr.com/campus_apply/nio888/36824#/job/eed69e3c-3c4d-4b4e-babb-10c1b296e14a\n"
     ]
    }
   ],
   "source": [
    "for jobId, jobDesc in job_descriptions:\n",
    "    if jobDesc.find('物理')!=-1:\n",
    "        url=f'https://app.mokahr.com/campus_apply/nio888/36824#/job/{jobId}'\n",
    "        print(url)"
   ]
  },
  {
   "cell_type": "code",
   "execution_count": null,
   "metadata": {},
   "outputs": [],
   "source": []
  }
 ]
}