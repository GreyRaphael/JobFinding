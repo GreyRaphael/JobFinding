{
 "metadata": {
  "language_info": {
   "codemirror_mode": {
    "name": "ipython",
    "version": 3
   },
   "file_extension": ".py",
   "mimetype": "text/x-python",
   "name": "python",
   "nbconvert_exporter": "python",
   "pygments_lexer": "ipython3",
   "version": "3.8.10"
  },
  "orig_nbformat": 4,
  "kernelspec": {
   "name": "python3",
   "display_name": "Python 3.8.10 64-bit ('Anaconda3')"
  },
  "interpreter": {
   "hash": "1d035ca4c615712529cad3b6e5fc713bfde17604927854c7aa1c8a6d2be7af56"
  }
 },
 "nbformat": 4,
 "nbformat_minor": 2,
 "cells": [
  {
   "cell_type": "code",
   "execution_count": 1,
   "metadata": {},
   "outputs": [],
   "source": [
    "import requests"
   ]
  },
  {
   "cell_type": "code",
   "execution_count": 17,
   "metadata": {},
   "outputs": [],
   "source": [
    "HEADERS={\n",
    "\"Host\": \"job.zte.com.cn\",\n",
    "\"User-Agent\": \"Mozilla/5.0 (Windows NT 10.0; Win64; x64; rv:90.0) Gecko/20100101 Firefox/90.0\",\n",
    "\"Accept\": \"application/json, text/javascript, */*; q=0.01\",\n",
    "\"Accept-Language\": \"en-US,en;q=0.5\",\n",
    "\"Content-Type\": \"application/x-www-form-urlencoded; charset=UTF-8\",\n",
    "\"X-Requested-With\": \"XMLHttpRequest\",\n",
    "\"Content-Length\": \"72\",\n",
    "\"Origin\": \"https://job.zte.com.cn\",\n",
    "\"Connection\": \"keep-alive\",\n",
    "\"Referer\": \"https://job.zte.com.cn/cn/campus-recruitment/job-list\",\n",
    "\"Cookie\": \"ASP.NET_SessionId=gr1hr5itr3odp24ezc0sdw4u; route=2dbfc367e11dc77f68ccdd1284361867\",\n",
    "\"Sec-Fetch-Dest\": \"empty\",\n",
    "\"Sec-Fetch-Mode\": \"cors\",\n",
    "\"Sec-Fetch-Site\": \"same-origin\",\n",
    "}"
   ]
  },
  {
   "cell_type": "code",
   "execution_count": 43,
   "metadata": {},
   "outputs": [],
   "source": [
    "post_data={\"action\": \"loadJobList\",\"pageIndex\": 2,\"jobName\": \"\",\"jobType\": \"0\",\"positionType\": \"0\",\"city\": \"0\",}"
   ]
  },
  {
   "cell_type": "code",
   "execution_count": 44,
   "metadata": {},
   "outputs": [],
   "source": [
    "res=requests.post('https://job.zte.com.cn/cn/ajax', data=post_data, headers=HEADERS).json()"
   ]
  },
  {
   "cell_type": "code",
   "execution_count": 45,
   "metadata": {},
   "outputs": [
    {
     "output_type": "execute_result",
     "data": {
      "text/plain": [
       "('<p><p>无线产品<br>\\n1、全日制本科通信、信息、电子、网络、计算机等相关专业本科及以上学历；<br>\\n2、了解无线通信基础知识，了解无线网络架构，了解一种或多种无线通信制式协议；<br>\\n3、有较强的表达能力、沟通能力、组织策划能力、推动落实能力；<br>\\n4、有较好的服务意识、团队合作意识；<br>\\n5、具备快速学习能力和开放心态；<br>\\n6、认可公司的企业文化；<br>\\n7、能适应国内出差工作。<br>\\n<br>\\n核心网产品<br>\\n1、全日制本科通信、信息、电子、网络、计算机等相关专业本科及以上学历；<br>\\n2、了解核心网相关产品 HSS/EPC/IMS/ 等；<br>\\n3、了解IP网络基础原理，掌握基本的IP知识（VLAN/OSPF/BGP）；<br>\\n4、了解信令分析，能使用wireshark等工具分析网络排查问题；<br>\\n5、有较强的表达能力、沟通能力、组织策划能力、推动落实能力；<br>\\n6、有较好的服务意识、团队合作意识；<br>\\n7、具备快速学习能力和开放心态；<br>\\n8、认可公司的企业文化；<br>\\n9、能适应国内出差工作。<br>\\n<br>\\n数通产品<br>\\n1、全日制本科通信、信息、电子、网络、计算机等相关专业本科及以上学历；<br>\\n2、了解IP网络基础知识、基础网络通信协议（如VLAN/STP/OSPF/BGP/MPLS VPN等）；<br>\\n3、有较强的表达能力、沟通能力、组织策划能力、推动落实能力；<br>\\n4、有较好的服务意识、团队合作意识；<br>\\n5、具备快速学习能力和开放心态；<br>\\n6、认可公司的企业文化；<br>\\n7、能适应国内出差工作。<br>\\n<br>\\nNGCC产品<br>\\n1、全日制本科通信、信息、电子、网络、计算机等相关专业本科及以上学历；<br>\\n2、了解SQL Server、Oracle、Sybase等其中一种数据库系统；<br>\\n3、了解HP-UNIX、AIX、Solaris、Linux等其中一种操作系统；<br>\\n4、有较强的表达能力、沟通能力、组织策划能力、推动落实能力；<br>\\n5、有较好的服务意识、团队合作意识；<br>\\n6、具备快速学习能力和开放心态；<br>\\n7、认可公司的企业文化；<br>\\n8、能适应国内出差工作。<br>\\n<br>\\n传输产品<br>\\n1、全日制本科通信、信息、电子、网络、计算机等相关专业本科及以上学历；<br>\\n2、了解光传输基础知识、了解MSTP/OTN/PTN产品基本原理及区别；<br>\\n3、有较强的表达能力、沟通能力、组织策划能力、推动落实能力；<br>\\n4、有较好的服务意识、团队合作意识；<br>\\n5、具备快速学习能力和开放心态；<br>\\n6、认可公司的企业文化；<br>\\n7、能适应国内出差工作。<br>\\n<br>\\n网规网优<br>\\n1、计算机、通信、电子等相关专业本科及以上，重点院校本科4年，硕士2年以上相关工作经验，可适当放宽条件；<br>\\n2、具备扎实的通信理论知识，从事过无线系统（GU、CDMA、TDS、FDD LTE、TD LTE）网规网优工作，具备丰富的网规网优现场项目经验，或者网规网优相关课题的技术研究经验；<br>\\n3、 具备很强的学习能力和优秀的团队协作能力，能适应海外出差；<br>\\n4、CET-4以上，具备一定的英语听、说、读、写能力，有海外工作经验的优先。<br>\\n<br>\\n无线产品支持<br>\\n1、计算机、电子、通讯等相关专业本科及以上学历；<br>\\n2、本科3年，硕士1年以上相关工作经验；<br>\\n3、具备电信行业、通信工程公司工作经验者优先考虑；<br>\\n4、具有较强的学习能力和沟通表达能力，良好的团队合作意识；<br>\\n5、具有吃苦耐劳的敬业精神，能够经常在国内、国外出差；<br>\\n6、CET-6以上，具备一定的英语听、说、读、写能力，有海外工作经验的优先。<br>\\n<br>\\n视频及能源产品<br>\\n1、全日制大学本科（及以上）学历，通讯及计算机专业优先；英语CET-4级以上；<br>\\n2、有数据库、Linux、网络基础知识；有较强的网络、安全基础知识、技能；<br>\\n3、工作负责，有团队精神、良好的沟通能力，有很强的敬业精神，服从工作安排 ；<br>\\n4、能适应长期出差，抗压性强。</p>\\n<div><br>\\n</div></p>',\n",
       " '/cn/campus-recruitment/job-list/10021')"
      ]
     },
     "metadata": {},
     "execution_count": 45
    }
   ],
   "source": [
    "res['jobList'][1]['jobRequirements'], res['jobList'][0]['url'], "
   ]
  },
  {
   "cell_type": "code",
   "execution_count": 48,
   "metadata": {},
   "outputs": [],
   "source": [
    "jobs=[]\n",
    "for pg in range(1, 12):\n",
    "    json_data={\"action\": \"loadJobList\",\"pageIndex\": pg,\"jobName\": \"\",\"jobType\": \"0\",\"positionType\": \"0\",\"city\": \"0\",}\n",
    "    response=requests.post('https://job.zte.com.cn/cn/ajax', data=json_data, headers=HEADERS).json()\n",
    "    for job in response['jobList']:\n",
    "        url=f\"https://job.zte.com.cn{job['url']}\"\n",
    "        requirement=job['jobRequirements']\n",
    "        jobs.append((url, requirement))"
   ]
  },
  {
   "cell_type": "code",
   "execution_count": 49,
   "metadata": {},
   "outputs": [
    {
     "output_type": "execute_result",
     "data": {
      "text/plain": [
       "62"
      ]
     },
     "metadata": {},
     "execution_count": 49
    }
   ],
   "source": [
    "len(jobs)"
   ]
  },
  {
   "cell_type": "code",
   "execution_count": 50,
   "metadata": {},
   "outputs": [
    {
     "output_type": "stream",
     "name": "stdout",
     "text": [
      "https://job.zte.com.cn/cn/campus-recruitment/job-list/10041\nhttps://job.zte.com.cn/cn/campus-recruitment/job-list/10022\nhttps://job.zte.com.cn/cn/campus-recruitment/job-list/10018\nhttps://job.zte.com.cn/cn/campus-recruitment/job-list/10055\nhttps://job.zte.com.cn/cn/campus-recruitment/job-list/10008\nhttps://job.zte.com.cn/cn/campus-recruitment/job-list/10017\n"
     ]
    }
   ],
   "source": [
    "for url, job in jobs:\n",
    "    if '物理' in job or '理工' in job:\n",
    "        print(url)"
   ]
  },
  {
   "cell_type": "code",
   "execution_count": null,
   "metadata": {},
   "outputs": [],
   "source": []
  }
 ]
}