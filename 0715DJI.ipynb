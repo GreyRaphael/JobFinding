{
 "metadata": {
  "language_info": {
   "codemirror_mode": {
    "name": "ipython",
    "version": 3
   },
   "file_extension": ".py",
   "mimetype": "text/x-python",
   "name": "python",
   "nbconvert_exporter": "python",
   "pygments_lexer": "ipython3",
   "version": "3.8.10"
  },
  "orig_nbformat": 4,
  "kernelspec": {
   "name": "python3",
   "display_name": "Python 3.8.10 64-bit ('Anaconda3')"
  },
  "interpreter": {
   "hash": "1d035ca4c615712529cad3b6e5fc713bfde17604927854c7aa1c8a6d2be7af56"
  }
 },
 "nbformat": 4,
 "nbformat_minor": 2,
 "cells": [
  {
   "cell_type": "code",
   "execution_count": 21,
   "metadata": {},
   "outputs": [],
   "source": [
    "import requests"
   ]
  },
  {
   "cell_type": "code",
   "execution_count": 22,
   "metadata": {},
   "outputs": [],
   "source": [
    "HEADERS={\n",
    "\"Host\": \"we.dji.com\",\n",
    "\"User-Agent\": \"Mozilla/5.0 (Windows NT 10.0; Win64; x64; rv:90.0) Gecko/20100101 Firefox/90.0\",\n",
    "\"Accept\": \"application/json\",\n",
    "\"Accept-Language\": \"en-US,en;q=0.5\",\n",
    "\"Content-Length\": \"112\",\n",
    "\"Cache-Control\": \"no-cache,no-store\",\n",
    "\"traceparent\": \"00-dba266fc383a0c2e6f24a63c7fed74b8-0b776bdcc8888600-01\",\n",
    "\"Origin\": \"https://we.dji.com\",\n",
    "\"Sec-Fetch-Dest\": \"empty\",\n",
    "\"Sec-Fetch-Mode\": \"cors\",\n",
    "\"Sec-Fetch-Site\": \"same-origin\",\n",
    "\"Referer\": \"https://we.dji.com/zh-CN/campus/recruitment?id=4\",\n",
    "\"Connection\": \"keep-alive\",\n",
    "\"Cookie\": \"WE_SESSIONID=7219304d-3033-4fb8-8981-8002efa4d7f4; acw_tc=79c20a4816263326759466964e919867086aae4edc16559e937c92d587; country=CN; lang=cn\",\n",
    "\"TE\": \"trailers\",\n",
    "}"
   ]
  },
  {
   "cell_type": "code",
   "execution_count": 38,
   "metadata": {},
   "outputs": [],
   "source": [
    "json_data={\"currentPage\":1,\"classCode\":\"\",\"locationList\":[],\"keyWord\":\"\",\"pageSize\":8,\"showStatus\":\"Y\",\"schoolFlag\":\"Y\"}"
   ]
  },
  {
   "cell_type": "code",
   "execution_count": 39,
   "metadata": {},
   "outputs": [],
   "source": [
    "res=requests.post('https://we.dji.com/hire_front/api/common/position/queryUsingAndOldPositionVoList', json=json_data, headers=HEADERS).json()"
   ]
  },
  {
   "cell_type": "code",
   "execution_count": 41,
   "metadata": {},
   "outputs": [
    {
     "output_type": "execute_result",
     "data": {
      "text/plain": [
       "('1414839961332678656',\n",
       " '1. 电子、机械、材料相关专业毕业，本科及以上学历；\\n2. 熟悉相关工程/开发/材料，掌握基本知识；\\n3. 有相关技术项目经验，了解相关制作方法；\\n4. 有较强的团队意识与沟通能力，有责任心，具有良好的学习能力；\\n5. 对专业技术保持浓厚兴趣与好奇心。')"
      ]
     },
     "metadata": {},
     "execution_count": 41
    }
   ],
   "source": [
    "res['data']['datas'][0]['positionId'], res['data']['datas'][0]['requirement']"
   ]
  },
  {
   "cell_type": "code",
   "execution_count": 42,
   "metadata": {},
   "outputs": [],
   "source": [
    "jobs=[]\n",
    "for pg in range(1, 14):\n",
    "    json_data={\"currentPage\":pg,\"classCode\":\"\",\"locationList\":[],\"keyWord\":\"\",\"pageSize\":8,\"showStatus\":\"Y\",\"schoolFlag\":\"Y\"}\n",
    "    response=requests.post('https://we.dji.com/hire_front/api/common/position/queryUsingAndOldPositionVoList', json=json_data, headers=HEADERS).json()\n",
    "    for job in response['data']['datas']:\n",
    "        jobs.append((job['positionId'], job['requirement']))"
   ]
  },
  {
   "cell_type": "code",
   "execution_count": 43,
   "metadata": {},
   "outputs": [
    {
     "output_type": "execute_result",
     "data": {
      "text/plain": [
       "98"
      ]
     },
     "metadata": {},
     "execution_count": 43
    }
   ],
   "source": [
    "len(jobs)"
   ]
  },
  {
   "cell_type": "code",
   "execution_count": 46,
   "metadata": {},
   "outputs": [
    {
     "output_type": "stream",
     "name": "stdout",
     "text": [
      "https://we.dji.com/zh-CN/position/detail?positionId=1412028885089320960\nhttps://we.dji.com/zh-CN/position/detail?positionId=1412017820804083712\nhttps://we.dji.com/zh-CN/position/detail?positionId=1410912510867673088\nhttps://we.dji.com/zh-CN/position/detail?positionId=1410912905365057536\nhttps://we.dji.com/zh-CN/position/detail?positionId=1411888519947489280\nhttps://we.dji.com/zh-CN/position/detail?positionId=1411904565095985152\nhttps://we.dji.com/zh-CN/position/detail?positionId=1412018782035775488\nhttps://we.dji.com/zh-CN/position/detail?positionId=1412237077220098048\nhttps://we.dji.com/zh-CN/position/detail?positionId=1412237362399215616\nhttps://we.dji.com/zh-CN/position/detail?positionId=1412241463487332352\nhttps://we.dji.com/zh-CN/position/detail?positionId=1412243227644006400\nhttps://we.dji.com/zh-CN/position/detail?positionId=1412244923055108096\nhttps://we.dji.com/zh-CN/position/detail?positionId=1412248851254706176\nhttps://we.dji.com/zh-CN/position/detail?positionId=1412249089664118784\nhttps://we.dji.com/zh-CN/position/detail?positionId=1412249334624055296\nhttps://we.dji.com/zh-CN/position/detail?positionId=1412249566685528064\n"
     ]
    }
   ],
   "source": [
    "for jobId, job in jobs:\n",
    "    if '物理' in job or '理工' in job:\n",
    "        url=f'https://we.dji.com/zh-CN/position/detail?positionId={jobId}'\n",
    "        print(url)"
   ]
  },
  {
   "cell_type": "code",
   "execution_count": null,
   "metadata": {},
   "outputs": [],
   "source": []
  }
 ]
}