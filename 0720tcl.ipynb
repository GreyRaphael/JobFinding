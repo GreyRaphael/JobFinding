{
 "metadata": {
  "language_info": {
   "codemirror_mode": {
    "name": "ipython",
    "version": 3
   },
   "file_extension": ".py",
   "mimetype": "text/x-python",
   "name": "python",
   "nbconvert_exporter": "python",
   "pygments_lexer": "ipython3",
   "version": "3.8.10"
  },
  "orig_nbformat": 4,
  "kernelspec": {
   "name": "python3",
   "display_name": "Python 3.8.10 64-bit ('Anaconda3')"
  },
  "interpreter": {
   "hash": "1d035ca4c615712529cad3b6e5fc713bfde17604927854c7aa1c8a6d2be7af56"
  }
 },
 "nbformat": 4,
 "nbformat_minor": 2,
 "cells": [
  {
   "cell_type": "code",
   "execution_count": 1,
   "metadata": {},
   "outputs": [],
   "source": [
    "import requests"
   ]
  },
  {
   "cell_type": "code",
   "execution_count": 2,
   "metadata": {},
   "outputs": [],
   "source": [
    "HEADERS={\n",
    "    'User-Agent':\"Mozilla/5.0 (Windows NT 10.0; Win64; x64; rv:90.0) Gecko/20100101 Firefox/90.0\",\n",
    "}"
   ]
  },
  {
   "cell_type": "code",
   "execution_count": 3,
   "metadata": {},
   "outputs": [],
   "source": [
    "res=requests.get('http://campus.tcl.com/api/wt/TCL/web/json/position/list?recruitType=1&brandCode=1&page=6', headers=HEADERS).json()"
   ]
  },
  {
   "cell_type": "code",
   "execution_count": 7,
   "metadata": {},
   "outputs": [
    {
     "output_type": "execute_result",
     "data": {
      "text/plain": [
       "(216004, 1)"
      ]
     },
     "metadata": {},
     "execution_count": 7
    }
   ],
   "source": [
    "res['postList'][0]['postId'], res['postList'][0]['recruitType']\n",
    "# http://campus.tcl.com/postInfo/detail.html?postId=216004&recruitType=1&brandCode=1"
   ]
  },
  {
   "cell_type": "code",
   "execution_count": 10,
   "metadata": {},
   "outputs": [],
   "source": [
    "job_list=[]\n",
    "for pg in range(1, 8):\n",
    "    url=f'http://campus.tcl.com/api/wt/TCL/web/json/position/list?recruitType=1&brandCode=1&page={pg}'\n",
    "    response=requests.get(url, headers=HEADERS).json()\n",
    "    for job in response['postList']:\n",
    "        job_list.append((job['postId'], job['recruitType'], job['serviceCondition']))"
   ]
  },
  {
   "cell_type": "code",
   "execution_count": 11,
   "metadata": {},
   "outputs": [
    {
     "output_type": "execute_result",
     "data": {
      "text/plain": [
       "70"
      ]
     },
     "metadata": {},
     "execution_count": 11
    }
   ],
   "source": [
    "len(job_list)"
   ]
  },
  {
   "cell_type": "code",
   "execution_count": 15,
   "metadata": {},
   "outputs": [
    {
     "output_type": "stream",
     "name": "stdout",
     "text": [
      "http://campus.tcl.com/postInfo/detail.html?postId=226409&recruitType=1&brandCode=1\nhttp://campus.tcl.com/postInfo/detail.html?postId=226407&recruitType=1&brandCode=1\nhttp://campus.tcl.com/postInfo/detail.html?postId=224904&recruitType=1&brandCode=1\nhttp://campus.tcl.com/postInfo/detail.html?postId=224905&recruitType=1&brandCode=1\nhttp://campus.tcl.com/postInfo/detail.html?postId=224906&recruitType=1&brandCode=1\n"
     ]
    }
   ],
   "source": [
    "for jobId, recruitType, job in job_list:\n",
    "    if '物理' in job:\n",
    "        url=f'http://campus.tcl.com/postInfo/detail.html?postId={jobId}&recruitType={recruitType}&brandCode=1'\n",
    "        print(url)"
   ]
  },
  {
   "cell_type": "code",
   "execution_count": 16,
   "metadata": {},
   "outputs": [
    {
     "output_type": "stream",
     "name": "stdout",
     "text": [
      "http://campus.tcl.com/postInfo/detail.html?postId=224904&recruitType=1&brandCode=1\nhttp://campus.tcl.com/postInfo/detail.html?postId=224903&recruitType=1&brandCode=1\nhttp://campus.tcl.com/postInfo/detail.html?postId=224905&recruitType=1&brandCode=1\nhttp://campus.tcl.com/postInfo/detail.html?postId=224906&recruitType=1&brandCode=1\n"
     ]
    }
   ],
   "source": [
    "for jobId, recruitType, job in job_list:\n",
    "    if '理工' in job:\n",
    "        url=f'http://campus.tcl.com/postInfo/detail.html?postId={jobId}&recruitType={recruitType}&brandCode=1'\n",
    "        print(url)"
   ]
  },
  {
   "cell_type": "code",
   "execution_count": null,
   "metadata": {},
   "outputs": [],
   "source": []
  }
 ]
}