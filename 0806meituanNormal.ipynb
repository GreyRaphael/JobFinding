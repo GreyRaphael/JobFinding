{
 "cells": [
  {
   "cell_type": "code",
   "execution_count": 2,
   "source": [
    "import requests"
   ],
   "outputs": [],
   "metadata": {}
  },
  {
   "cell_type": "code",
   "execution_count": 3,
   "source": [
    "HEADERS={\r\n",
    "    \"User-Agent\":'Mozilla/5.0 (Windows NT 10.0; Win64; x64; rv:90.0) Gecko/20100101 Firefox/90.0',\r\n",
    "}"
   ],
   "outputs": [],
   "metadata": {}
  },
  {
   "cell_type": "code",
   "execution_count": 4,
   "source": [
    "json_data={\"jobType\":\"1\",\"workCity\":[],\"interviewCity\":[],\"jobFamily\":'null',\"page\":{\"pageNo\":1,\"pageSize\":8}}"
   ],
   "outputs": [],
   "metadata": {}
  },
  {
   "cell_type": "code",
   "execution_count": 5,
   "source": [
    "res=requests.post('https://campus.meituan.com/api/job/list/get', json=json_data, headers=HEADERS).json()"
   ],
   "outputs": [],
   "metadata": {}
  },
  {
   "cell_type": "code",
   "execution_count": 6,
   "source": [
    "res['data']['dataList'][0]"
   ],
   "outputs": [
    {
     "output_type": "execute_result",
     "data": {
      "text/plain": [
       "{'jobId': 4161,\n",
       " 'atsId': 789,\n",
       " 'jobName': '内控内审专员',\n",
       " 'jobCategoryName': '市场职能类',\n",
       " 'workCity': '北京市',\n",
       " 'interviewCity': '北京市',\n",
       " 'isApplied': False,\n",
       " 'urgentTag': None}"
      ]
     },
     "metadata": {},
     "execution_count": 6
    }
   ],
   "metadata": {}
  },
  {
   "cell_type": "code",
   "execution_count": 9,
   "source": [
    "job_ids=[]\r\n",
    "for pg in range(1, 9):\r\n",
    "    jData={\"jobType\":\"1\",\"workCity\":[],\"interviewCity\":[],\"jobFamily\":'null',\"page\":{\"pageNo\":pg,\"pageSize\":8}}\r\n",
    "    response=requests.post('https://campus.meituan.com/api/job/list/get', json=jData, headers=HEADERS).json()\r\n",
    "    for job in res['data']['dataList']:\r\n",
    "        job_ids.append((pg, job['jobId']))"
   ],
   "outputs": [],
   "metadata": {}
  },
  {
   "cell_type": "code",
   "execution_count": 10,
   "source": [
    "len(job_ids)"
   ],
   "outputs": [
    {
     "output_type": "execute_result",
     "data": {
      "text/plain": [
       "64"
      ]
     },
     "metadata": {},
     "execution_count": 10
    }
   ],
   "metadata": {}
  },
  {
   "cell_type": "code",
   "execution_count": 11,
   "source": [
    "job_list=[]\r\n",
    "for pg, jobId in job_ids:\r\n",
    "    url=f'https://campus.meituan.com/jobs?jobId={jobId}&jobType=1&pageNo={pg}'\r\n",
    "    jobDetail=requests.post('https://campus.meituan.com/api/job/detail/get', json={'id':jobId}, headers=HEADERS).json()\r\n",
    "    job_list.append((url, jobDetail['data']['requirement']))"
   ],
   "outputs": [],
   "metadata": {}
  },
  {
   "cell_type": "code",
   "execution_count": 12,
   "source": [
    "len(job_list)"
   ],
   "outputs": [
    {
     "output_type": "execute_result",
     "data": {
      "text/plain": [
       "64"
      ]
     },
     "metadata": {},
     "execution_count": 12
    }
   ],
   "metadata": {}
  },
  {
   "cell_type": "code",
   "execution_count": 18,
   "source": [
    "for url, requirement in job_list:\r\n",
    "    if '物理' in requirement or '理工' in requirement:\r\n",
    "        print(url)"
   ],
   "outputs": [],
   "metadata": {}
  },
  {
   "cell_type": "code",
   "execution_count": null,
   "source": [],
   "outputs": [],
   "metadata": {}
  }
 ],
 "metadata": {
  "orig_nbformat": 4,
  "language_info": {
   "name": "python",
   "version": "3.8.11",
   "mimetype": "text/x-python",
   "codemirror_mode": {
    "name": "ipython",
    "version": 3
   },
   "pygments_lexer": "ipython3",
   "nbconvert_exporter": "python",
   "file_extension": ".py"
  },
  "kernelspec": {
   "name": "python3",
   "display_name": "Python 3.8.10 64-bit ('base': conda)"
  },
  "interpreter": {
   "hash": "1d035ca4c615712529cad3b6e5fc713bfde17604927854c7aa1c8a6d2be7af56"
  }
 },
 "nbformat": 4,
 "nbformat_minor": 2
}