{
 "metadata": {
  "language_info": {
   "codemirror_mode": {
    "name": "ipython",
    "version": 3
   },
   "file_extension": ".py",
   "mimetype": "text/x-python",
   "name": "python",
   "nbconvert_exporter": "python",
   "pygments_lexer": "ipython3",
   "version": "3.7.10"
  },
  "orig_nbformat": 2,
  "kernelspec": {
   "name": "python3",
   "display_name": "Python 3",
   "language": "python"
  }
 },
 "nbformat": 4,
 "nbformat_minor": 2,
 "cells": [
  {
   "cell_type": "code",
   "execution_count": 1,
   "metadata": {},
   "outputs": [],
   "source": [
    "import requests"
   ]
  },
  {
   "cell_type": "code",
   "execution_count": 2,
   "metadata": {},
   "outputs": [],
   "source": [
    "HEADERS={\n",
    "\"Accept\": \"*/*\",\n",
    "\"Accept-Encoding\": \"gzip, deflate, br\",\n",
    "\"Accept-Language\": \"en-US,en;q=0.9,zh-CN;q=0.8,zh;q=0.7\",\n",
    "\"Connection\": \"keep-alive\",\n",
    "\"Content-Length\": \"50\",\n",
    "\"Content-Type\": \"application/x-www-form-urlencoded; charset=UTF-8\",\n",
    "\"Cookie\": \"SESSION=cb13a9a4-94f0-4b0c-8806-495df58fc898\",\n",
    "\"Host\": \"chinacampus.jobs.intel.cn\",\n",
    "\"Origin\": \"https://chinacampus.jobs.intel.cn\",\n",
    "\"Referer\": \"https://chinacampus.jobs.intel.cn/intel/position/index?recruitmentType=CAMPUSRECRUITMENT\",\n",
    "\"Sec-Fetch-Dest\": \"empty\",\n",
    "\"Sec-Fetch-Mode\": \"cors\",\n",
    "\"Sec-Fetch-Site\": \"same-origin\",\n",
    "\"User-Agent\": \"Mozilla/5.0 (Windows NT 10.0; Win64; x64) AppleWebKit/537.36 (KHTML, like Gecko) Chrome/86.0.4240.198 Safari/537.36\",\n",
    "\"X-Requested-With\": \"XMLHttpRequest\",\n",
    "}"
   ]
  },
  {
   "cell_type": "code",
   "execution_count": 3,
   "metadata": {},
   "outputs": [],
   "source": [
    "json_data={'recruitmentType': 'CAMPUSRECRUITMENT','offset':15,'max': 15}"
   ]
  },
  {
   "cell_type": "code",
   "execution_count": 4,
   "metadata": {},
   "outputs": [],
   "source": [
    "res=requests.post('https://chinacampus.jobs.intel.cn/intel/position/nextPageList', json=json_data, headers=HEADERS).text"
   ]
  },
  {
   "cell_type": "code",
   "execution_count": 6,
   "metadata": {},
   "outputs": [],
   "source": [
    "import re"
   ]
  },
  {
   "cell_type": "code",
   "execution_count": 12,
   "metadata": {},
   "outputs": [],
   "source": [
    "position_ids=[]\n",
    "for pg in range(0, 80, 15):\n",
    "    pdata=f'recruitmentType=CAMPUSRECRUITMENT&offset={pg}&max=15'\n",
    "    response=requests.post('https://chinacampus.jobs.intel.cn/intel/position/nextPageList', data=pdata, headers=HEADERS).text\n",
    "    pos_ids=re.findall(r'pid=\"(.+?)\"',response)\n",
    "    for pid in pos_ids:\n",
    "        if pid not in position_ids:\n",
    "            position_ids.append(pid)"
   ]
  },
  {
   "cell_type": "code",
   "execution_count": 13,
   "metadata": {},
   "outputs": [
    {
     "output_type": "execute_result",
     "data": {
      "text/plain": [
       "85"
      ]
     },
     "metadata": {},
     "execution_count": 13
    }
   ],
   "source": [
    "len(position_ids)"
   ]
  },
  {
   "cell_type": "code",
   "execution_count": 15,
   "metadata": {},
   "outputs": [],
   "source": [
    "with open('data.txt', 'w') as file:\n",
    "    for pid in position_ids:\n",
    "        url=f'https://chinacampus.jobs.intel.cn/intel/position/detail?positionId={pid}&recruitmentType=CAMPUSRECRUITMENT\\n'\n",
    "        file.write(url)"
   ]
  },
  {
   "cell_type": "code",
   "execution_count": null,
   "metadata": {},
   "outputs": [],
   "source": []
  }
 ]
}