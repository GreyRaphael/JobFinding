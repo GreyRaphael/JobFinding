{
 "cells": [
  {
   "cell_type": "code",
   "execution_count": 1,
   "source": [
    "import requests"
   ],
   "outputs": [],
   "metadata": {}
  },
  {
   "cell_type": "code",
   "execution_count": 14,
   "source": [
    "HEADERS={\r\n",
    "\"User-Agent\": \"Mozilla/5.0 (Windows NT 10.0; Win64; x64; rv:90.0) Gecko/20100101 Firefox/90.0\",\r\n",
    "}"
   ],
   "outputs": [],
   "metadata": {}
  },
  {
   "cell_type": "code",
   "execution_count": 18,
   "source": [
    "res=requests.post('https://zhaopin.aircas.ac.cn/system/userInfo/positionDetailSearchByCondition?1=1&employType=%E5%B2%97%E4%BD%8D%E8%81%98%E7%94%A8&pageIndex=2', headers=HEADERS, verify=False).json()"
   ],
   "outputs": [
    {
     "output_type": "stream",
     "name": "stderr",
     "text": [
      "D:\\ProgrammingTools\\Anaconda3\\lib\\site-packages\\urllib3\\connectionpool.py:1013: InsecureRequestWarning: Unverified HTTPS request is being made to host 'zhaopin.aircas.ac.cn'. Adding certificate verification is strongly advised. See: https://urllib3.readthedocs.io/en/1.26.x/advanced-usage.html#ssl-warnings\n",
      "  warnings.warn(\n"
     ]
    }
   ],
   "metadata": {}
  },
  {
   "cell_type": "code",
   "execution_count": 19,
   "source": [
    "res['list'][0]['id'], res['list'][0]['theoryKnowledge'],res['list'][0]['jobDuty']"
   ],
   "outputs": [
    {
     "output_type": "execute_result",
     "data": {
      "text/plain": [
       "'1070'"
      ]
     },
     "metadata": {},
     "execution_count": 19
    }
   ],
   "metadata": {}
  },
  {
   "cell_type": "code",
   "execution_count": 44,
   "source": [
    "job_list=[]\r\n",
    "for pg in range(1, 22):\r\n",
    "    url=f'https://zhaopin.aircas.ac.cn/system/userInfo/positionDetailSearchByCondition?1=1&employType=%E5%B2%97%E4%BD%8D%E8%81%98%E7%94%A8&pageIndex={pg}'\r\n",
    "    response=requests.post(url, headers=HEADERS, verify=False).json()\r\n",
    "    for job in response['list']:\r\n",
    "        duty=job['jobDuty'] or ''\r\n",
    "        requirement=job['theoryKnowledge'] or ''\r\n",
    "        job_list.append((job['id'], duty+requirement))"
   ],
   "outputs": [
    {
     "output_type": "stream",
     "name": "stderr",
     "text": [
      "D:\\ProgrammingTools\\Anaconda3\\lib\\site-packages\\urllib3\\connectionpool.py:1013: InsecureRequestWarning: Unverified HTTPS request is being made to host 'zhaopin.aircas.ac.cn'. Adding certificate verification is strongly advised. See: https://urllib3.readthedocs.io/en/1.26.x/advanced-usage.html#ssl-warnings\n",
      "  warnings.warn(\n",
      "D:\\ProgrammingTools\\Anaconda3\\lib\\site-packages\\urllib3\\connectionpool.py:1013: InsecureRequestWarning: Unverified HTTPS request is being made to host 'zhaopin.aircas.ac.cn'. Adding certificate verification is strongly advised. See: https://urllib3.readthedocs.io/en/1.26.x/advanced-usage.html#ssl-warnings\n",
      "  warnings.warn(\n",
      "D:\\ProgrammingTools\\Anaconda3\\lib\\site-packages\\urllib3\\connectionpool.py:1013: InsecureRequestWarning: Unverified HTTPS request is being made to host 'zhaopin.aircas.ac.cn'. Adding certificate verification is strongly advised. See: https://urllib3.readthedocs.io/en/1.26.x/advanced-usage.html#ssl-warnings\n",
      "  warnings.warn(\n",
      "D:\\ProgrammingTools\\Anaconda3\\lib\\site-packages\\urllib3\\connectionpool.py:1013: InsecureRequestWarning: Unverified HTTPS request is being made to host 'zhaopin.aircas.ac.cn'. Adding certificate verification is strongly advised. See: https://urllib3.readthedocs.io/en/1.26.x/advanced-usage.html#ssl-warnings\n",
      "  warnings.warn(\n",
      "D:\\ProgrammingTools\\Anaconda3\\lib\\site-packages\\urllib3\\connectionpool.py:1013: InsecureRequestWarning: Unverified HTTPS request is being made to host 'zhaopin.aircas.ac.cn'. Adding certificate verification is strongly advised. See: https://urllib3.readthedocs.io/en/1.26.x/advanced-usage.html#ssl-warnings\n",
      "  warnings.warn(\n",
      "D:\\ProgrammingTools\\Anaconda3\\lib\\site-packages\\urllib3\\connectionpool.py:1013: InsecureRequestWarning: Unverified HTTPS request is being made to host 'zhaopin.aircas.ac.cn'. Adding certificate verification is strongly advised. See: https://urllib3.readthedocs.io/en/1.26.x/advanced-usage.html#ssl-warnings\n",
      "  warnings.warn(\n",
      "D:\\ProgrammingTools\\Anaconda3\\lib\\site-packages\\urllib3\\connectionpool.py:1013: InsecureRequestWarning: Unverified HTTPS request is being made to host 'zhaopin.aircas.ac.cn'. Adding certificate verification is strongly advised. See: https://urllib3.readthedocs.io/en/1.26.x/advanced-usage.html#ssl-warnings\n",
      "  warnings.warn(\n",
      "D:\\ProgrammingTools\\Anaconda3\\lib\\site-packages\\urllib3\\connectionpool.py:1013: InsecureRequestWarning: Unverified HTTPS request is being made to host 'zhaopin.aircas.ac.cn'. Adding certificate verification is strongly advised. See: https://urllib3.readthedocs.io/en/1.26.x/advanced-usage.html#ssl-warnings\n",
      "  warnings.warn(\n",
      "D:\\ProgrammingTools\\Anaconda3\\lib\\site-packages\\urllib3\\connectionpool.py:1013: InsecureRequestWarning: Unverified HTTPS request is being made to host 'zhaopin.aircas.ac.cn'. Adding certificate verification is strongly advised. See: https://urllib3.readthedocs.io/en/1.26.x/advanced-usage.html#ssl-warnings\n",
      "  warnings.warn(\n",
      "D:\\ProgrammingTools\\Anaconda3\\lib\\site-packages\\urllib3\\connectionpool.py:1013: InsecureRequestWarning: Unverified HTTPS request is being made to host 'zhaopin.aircas.ac.cn'. Adding certificate verification is strongly advised. See: https://urllib3.readthedocs.io/en/1.26.x/advanced-usage.html#ssl-warnings\n",
      "  warnings.warn(\n",
      "D:\\ProgrammingTools\\Anaconda3\\lib\\site-packages\\urllib3\\connectionpool.py:1013: InsecureRequestWarning: Unverified HTTPS request is being made to host 'zhaopin.aircas.ac.cn'. Adding certificate verification is strongly advised. See: https://urllib3.readthedocs.io/en/1.26.x/advanced-usage.html#ssl-warnings\n",
      "  warnings.warn(\n",
      "D:\\ProgrammingTools\\Anaconda3\\lib\\site-packages\\urllib3\\connectionpool.py:1013: InsecureRequestWarning: Unverified HTTPS request is being made to host 'zhaopin.aircas.ac.cn'. Adding certificate verification is strongly advised. See: https://urllib3.readthedocs.io/en/1.26.x/advanced-usage.html#ssl-warnings\n",
      "  warnings.warn(\n",
      "D:\\ProgrammingTools\\Anaconda3\\lib\\site-packages\\urllib3\\connectionpool.py:1013: InsecureRequestWarning: Unverified HTTPS request is being made to host 'zhaopin.aircas.ac.cn'. Adding certificate verification is strongly advised. See: https://urllib3.readthedocs.io/en/1.26.x/advanced-usage.html#ssl-warnings\n",
      "  warnings.warn(\n",
      "D:\\ProgrammingTools\\Anaconda3\\lib\\site-packages\\urllib3\\connectionpool.py:1013: InsecureRequestWarning: Unverified HTTPS request is being made to host 'zhaopin.aircas.ac.cn'. Adding certificate verification is strongly advised. See: https://urllib3.readthedocs.io/en/1.26.x/advanced-usage.html#ssl-warnings\n",
      "  warnings.warn(\n",
      "D:\\ProgrammingTools\\Anaconda3\\lib\\site-packages\\urllib3\\connectionpool.py:1013: InsecureRequestWarning: Unverified HTTPS request is being made to host 'zhaopin.aircas.ac.cn'. Adding certificate verification is strongly advised. See: https://urllib3.readthedocs.io/en/1.26.x/advanced-usage.html#ssl-warnings\n",
      "  warnings.warn(\n",
      "D:\\ProgrammingTools\\Anaconda3\\lib\\site-packages\\urllib3\\connectionpool.py:1013: InsecureRequestWarning: Unverified HTTPS request is being made to host 'zhaopin.aircas.ac.cn'. Adding certificate verification is strongly advised. See: https://urllib3.readthedocs.io/en/1.26.x/advanced-usage.html#ssl-warnings\n",
      "  warnings.warn(\n",
      "D:\\ProgrammingTools\\Anaconda3\\lib\\site-packages\\urllib3\\connectionpool.py:1013: InsecureRequestWarning: Unverified HTTPS request is being made to host 'zhaopin.aircas.ac.cn'. Adding certificate verification is strongly advised. See: https://urllib3.readthedocs.io/en/1.26.x/advanced-usage.html#ssl-warnings\n",
      "  warnings.warn(\n",
      "D:\\ProgrammingTools\\Anaconda3\\lib\\site-packages\\urllib3\\connectionpool.py:1013: InsecureRequestWarning: Unverified HTTPS request is being made to host 'zhaopin.aircas.ac.cn'. Adding certificate verification is strongly advised. See: https://urllib3.readthedocs.io/en/1.26.x/advanced-usage.html#ssl-warnings\n",
      "  warnings.warn(\n",
      "D:\\ProgrammingTools\\Anaconda3\\lib\\site-packages\\urllib3\\connectionpool.py:1013: InsecureRequestWarning: Unverified HTTPS request is being made to host 'zhaopin.aircas.ac.cn'. Adding certificate verification is strongly advised. See: https://urllib3.readthedocs.io/en/1.26.x/advanced-usage.html#ssl-warnings\n",
      "  warnings.warn(\n",
      "D:\\ProgrammingTools\\Anaconda3\\lib\\site-packages\\urllib3\\connectionpool.py:1013: InsecureRequestWarning: Unverified HTTPS request is being made to host 'zhaopin.aircas.ac.cn'. Adding certificate verification is strongly advised. See: https://urllib3.readthedocs.io/en/1.26.x/advanced-usage.html#ssl-warnings\n",
      "  warnings.warn(\n",
      "D:\\ProgrammingTools\\Anaconda3\\lib\\site-packages\\urllib3\\connectionpool.py:1013: InsecureRequestWarning: Unverified HTTPS request is being made to host 'zhaopin.aircas.ac.cn'. Adding certificate verification is strongly advised. See: https://urllib3.readthedocs.io/en/1.26.x/advanced-usage.html#ssl-warnings\n",
      "  warnings.warn(\n"
     ]
    }
   ],
   "metadata": {}
  },
  {
   "cell_type": "code",
   "execution_count": 45,
   "source": [
    "len(job_list)"
   ],
   "outputs": [
    {
     "output_type": "execute_result",
     "data": {
      "text/plain": [
       "245"
      ]
     },
     "metadata": {},
     "execution_count": 45
    }
   ],
   "metadata": {}
  },
  {
   "cell_type": "code",
   "execution_count": 46,
   "source": [
    "for jobId, job in job_list:\r\n",
    "    if '物理' in job:\r\n",
    "        url=f'https://zhaopin.aircas.ac.cn/system/userInfo/positionInfo?id={jobId}&isDelivery=null'\r\n",
    "        print(url)"
   ],
   "outputs": [
    {
     "output_type": "stream",
     "name": "stdout",
     "text": [
      "https://zhaopin.aircas.ac.cn/system/userInfo/positionInfo?id=1011&isDelivery=null\n",
      "https://zhaopin.aircas.ac.cn/system/userInfo/positionInfo?id=1080&isDelivery=null\n",
      "https://zhaopin.aircas.ac.cn/system/userInfo/positionInfo?id=1083&isDelivery=null\n",
      "https://zhaopin.aircas.ac.cn/system/userInfo/positionInfo?id=1094&isDelivery=null\n",
      "https://zhaopin.aircas.ac.cn/system/userInfo/positionInfo?id=1096&isDelivery=null\n",
      "https://zhaopin.aircas.ac.cn/system/userInfo/positionInfo?id=1040&isDelivery=null\n",
      "https://zhaopin.aircas.ac.cn/system/userInfo/positionInfo?id=1041&isDelivery=null\n",
      "https://zhaopin.aircas.ac.cn/system/userInfo/positionInfo?id=1042&isDelivery=null\n",
      "https://zhaopin.aircas.ac.cn/system/userInfo/positionInfo?id=1027&isDelivery=null\n",
      "https://zhaopin.aircas.ac.cn/system/userInfo/positionInfo?id=1213&isDelivery=null\n",
      "https://zhaopin.aircas.ac.cn/system/userInfo/positionInfo?id=1188&isDelivery=null\n",
      "https://zhaopin.aircas.ac.cn/system/userInfo/positionInfo?id=1191&isDelivery=null\n",
      "https://zhaopin.aircas.ac.cn/system/userInfo/positionInfo?id=1192&isDelivery=null\n",
      "https://zhaopin.aircas.ac.cn/system/userInfo/positionInfo?id=345&isDelivery=null\n",
      "https://zhaopin.aircas.ac.cn/system/userInfo/positionInfo?id=319&isDelivery=null\n",
      "https://zhaopin.aircas.ac.cn/system/userInfo/positionInfo?id=365&isDelivery=null\n",
      "https://zhaopin.aircas.ac.cn/system/userInfo/positionInfo?id=367&isDelivery=null\n",
      "https://zhaopin.aircas.ac.cn/system/userInfo/positionInfo?id=369&isDelivery=null\n",
      "https://zhaopin.aircas.ac.cn/system/userInfo/positionInfo?id=373&isDelivery=null\n",
      "https://zhaopin.aircas.ac.cn/system/userInfo/positionInfo?id=343&isDelivery=null\n",
      "https://zhaopin.aircas.ac.cn/system/userInfo/positionInfo?id=11&isDelivery=null\n",
      "https://zhaopin.aircas.ac.cn/system/userInfo/positionInfo?id=12&isDelivery=null\n",
      "https://zhaopin.aircas.ac.cn/system/userInfo/positionInfo?id=13&isDelivery=null\n",
      "https://zhaopin.aircas.ac.cn/system/userInfo/positionInfo?id=syygw2&isDelivery=null\n",
      "https://zhaopin.aircas.ac.cn/system/userInfo/positionInfo?id=syygw20&isDelivery=null\n"
     ]
    }
   ],
   "metadata": {}
  },
  {
   "cell_type": "code",
   "execution_count": null,
   "source": [],
   "outputs": [],
   "metadata": {}
  }
 ],
 "metadata": {
  "orig_nbformat": 4,
  "language_info": {
   "name": "python",
   "version": "3.8.10",
   "mimetype": "text/x-python",
   "codemirror_mode": {
    "name": "ipython",
    "version": 3
   },
   "pygments_lexer": "ipython3",
   "nbconvert_exporter": "python",
   "file_extension": ".py"
  },
  "kernelspec": {
   "name": "python3",
   "display_name": "Python 3.8.10 64-bit ('base': conda)"
  },
  "interpreter": {
   "hash": "1d035ca4c615712529cad3b6e5fc713bfde17604927854c7aa1c8a6d2be7af56"
  }
 },
 "nbformat": 4,
 "nbformat_minor": 2
}